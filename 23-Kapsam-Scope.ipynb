{
 "cells": [
  {
   "cell_type": "code",
   "execution_count": 1,
   "id": "7ad3fdc2",
   "metadata": {},
   "outputs": [],
   "source": [
    "numara = 20\n",
    "\n",
    "def carpma(rakam):\n",
    "    numara = 10\n",
    "    return numara*rakam"
   ]
  },
  {
   "cell_type": "code",
   "execution_count": 2,
   "id": "e7135e9f",
   "metadata": {},
   "outputs": [
    {
     "data": {
      "text/plain": [
       "100"
      ]
     },
     "execution_count": 2,
     "metadata": {},
     "output_type": "execute_result"
    }
   ],
   "source": [
    "carpma(10)"
   ]
  },
  {
   "cell_type": "code",
   "execution_count": 3,
   "id": "5f98076e",
   "metadata": {},
   "outputs": [
    {
     "data": {
      "text/plain": [
       "20"
      ]
     },
     "execution_count": 3,
     "metadata": {},
     "output_type": "execute_result"
    }
   ],
   "source": [
    "numara"
   ]
  },
  {
   "cell_type": "code",
   "execution_count": 4,
   "id": "5871214b",
   "metadata": {},
   "outputs": [],
   "source": [
    "# fonksiyon içerisinde 10 olmasına rağmen numara= 20 olarak verilmekte. Bunun için scope kullanılır. Mantığı aşağıda\n"
   ]
  },
  {
   "cell_type": "markdown",
   "id": "2afda6e2",
   "metadata": {},
   "source": [
    "## Local, Enclosing, Global, Built-In"
   ]
  },
  {
   "cell_type": "code",
   "execution_count": 5,
   "id": "35bcf4e5",
   "metadata": {},
   "outputs": [],
   "source": [
    "myNmae = \"Yigit\"\n",
    "# Bu GLOBAL\n",
    "\n",
    "def ilkfonk():\n",
    "    \n",
    "    myName = \"Zenit\" \n",
    "    # ENCLOSING\n",
    "    def icfonksiyon():\n",
    "        myName = \"platin\" \n",
    "        # Bu LOCAL\n",
    "        print(myName)\n",
    "    icfonksiyon()"
   ]
  },
  {
   "cell_type": "code",
   "execution_count": 6,
   "id": "d2e8ad6b",
   "metadata": {},
   "outputs": [
    {
     "name": "stdout",
     "output_type": "stream",
     "text": [
      "platin\n"
     ]
    }
   ],
   "source": [
    "ilkfonk()"
   ]
  },
  {
   "cell_type": "code",
   "execution_count": 7,
   "id": "10f23e92",
   "metadata": {},
   "outputs": [],
   "source": [
    "k = 8\n",
    "\n",
    "def fonk(k):\n",
    "    print(k)\n",
    "    print(k*2)\n",
    "    k= 5\n",
    "    print(k)"
   ]
  },
  {
   "cell_type": "code",
   "execution_count": 8,
   "id": "7b4b9fd0",
   "metadata": {},
   "outputs": [
    {
     "name": "stdout",
     "output_type": "stream",
     "text": [
      "2\n",
      "4\n",
      "5\n"
     ]
    }
   ],
   "source": [
    "fonk(2) # Dışarıda 8 olmasına rağmen fonksiyonda k'ya 2 verdiğimizde işlemler bu şekilde"
   ]
  },
  {
   "cell_type": "code",
   "execution_count": 9,
   "id": "e6ca289d",
   "metadata": {},
   "outputs": [
    {
     "data": {
      "text/plain": [
       "8"
      ]
     },
     "execution_count": 9,
     "metadata": {},
     "output_type": "execute_result"
    }
   ],
   "source": [
    "k"
   ]
  },
  {
   "cell_type": "code",
   "execution_count": 10,
   "id": "3e9953b2",
   "metadata": {},
   "outputs": [],
   "source": [
    "a = 10\n",
    "\n",
    "def yeniFonksiyon():\n",
    "    global a\n",
    "    print(a)\n",
    "    a = 6\n",
    "    print(a)\n",
    "# içeriye global yazdığımıdan dolayı dışarıdaki değerle işlem yapar veya onu değiştirir"
   ]
  },
  {
   "cell_type": "code",
   "execution_count": 11,
   "id": "7c2fbdf8",
   "metadata": {},
   "outputs": [
    {
     "name": "stdout",
     "output_type": "stream",
     "text": [
      "10\n",
      "6\n"
     ]
    }
   ],
   "source": [
    "yeniFonksiyon() "
   ]
  },
  {
   "cell_type": "code",
   "execution_count": null,
   "id": "10256690",
   "metadata": {},
   "outputs": [],
   "source": []
  }
 ],
 "metadata": {
  "kernelspec": {
   "display_name": "Python 3",
   "language": "python",
   "name": "python3"
  },
  "language_info": {
   "codemirror_mode": {
    "name": "ipython",
    "version": 3
   },
   "file_extension": ".py",
   "mimetype": "text/x-python",
   "name": "python",
   "nbconvert_exporter": "python",
   "pygments_lexer": "ipython3",
   "version": "3.8.8"
  }
 },
 "nbformat": 4,
 "nbformat_minor": 5
}
