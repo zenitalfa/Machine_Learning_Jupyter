{
 "cells": [
  {
   "cell_type": "markdown",
   "id": "c3c2a632",
   "metadata": {},
   "source": [
    "## Numpy-Toplama-Çıkarma-Büyüktür-Küçüktür"
   ]
  },
  {
   "cell_type": "code",
   "execution_count": 3,
   "id": "92cf660e",
   "metadata": {},
   "outputs": [],
   "source": [
    "import numpy as np"
   ]
  },
  {
   "cell_type": "code",
   "execution_count": 10,
   "id": "7f6b0b96",
   "metadata": {},
   "outputs": [],
   "source": [
    "yeniDizi = np.random.randint(1,100,20)"
   ]
  },
  {
   "cell_type": "code",
   "execution_count": 11,
   "id": "9c91a28f",
   "metadata": {},
   "outputs": [
    {
     "data": {
      "text/plain": [
       "array([79, 13, 53, 58, 92, 31, 86, 72, 54, 98, 14, 20, 74, 18, 78, 46,  1,\n",
       "       47, 21, 32])"
      ]
     },
     "execution_count": 11,
     "metadata": {},
     "output_type": "execute_result"
    }
   ],
   "source": [
    "yeniDizi"
   ]
  },
  {
   "cell_type": "code",
   "execution_count": 12,
   "id": "1460abb2",
   "metadata": {},
   "outputs": [],
   "source": [
    "sonuc = yeniDizi > 24"
   ]
  },
  {
   "cell_type": "code",
   "execution_count": 13,
   "id": "d96bdf7d",
   "metadata": {},
   "outputs": [
    {
     "data": {
      "text/plain": [
       "array([ True, False,  True,  True,  True,  True,  True,  True,  True,\n",
       "        True, False, False,  True, False,  True,  True, False,  True,\n",
       "       False,  True])"
      ]
     },
     "execution_count": 13,
     "metadata": {},
     "output_type": "execute_result"
    }
   ],
   "source": [
    "sonuc"
   ]
  },
  {
   "cell_type": "markdown",
   "id": "e102642d",
   "metadata": {},
   "source": [
    "## Önemli"
   ]
  },
  {
   "cell_type": "code",
   "execution_count": 15,
   "id": "87b59636",
   "metadata": {},
   "outputs": [
    {
     "data": {
      "text/plain": [
       "array([79, 53, 58, 92, 31, 86, 72, 54, 98, 74, 78, 46, 47, 32])"
      ]
     },
     "execution_count": 15,
     "metadata": {},
     "output_type": "execute_result"
    }
   ],
   "source": [
    "# 24'ten büyük sayıları oluşturduğumuz sonuc dizisini içeri koyarak bulabiliriz\n",
    "yeniDizi[sonuc]"
   ]
  },
  {
   "cell_type": "code",
   "execution_count": 16,
   "id": "4568984d",
   "metadata": {},
   "outputs": [
    {
     "data": {
      "text/plain": [
       "array([79, 53, 58, 92, 31, 86, 72, 54, 98, 74, 78, 46, 47, 32])"
      ]
     },
     "execution_count": 16,
     "metadata": {},
     "output_type": "execute_result"
    }
   ],
   "source": [
    "# ya da\n",
    "yeniDizi[yeniDizi>24]"
   ]
  },
  {
   "cell_type": "markdown",
   "id": "e68e9cde",
   "metadata": {},
   "source": [
    "## Toplama-çıkarma- çarpma-bölme"
   ]
  },
  {
   "cell_type": "code",
   "execution_count": 17,
   "id": "dc52e07c",
   "metadata": {},
   "outputs": [],
   "source": [
    "sonDizi = np.arange(5,25)"
   ]
  },
  {
   "cell_type": "markdown",
   "id": "c1d29e9b",
   "metadata": {},
   "source": [
    "sonDizi"
   ]
  },
  {
   "cell_type": "code",
   "execution_count": 19,
   "id": "93ec4e06",
   "metadata": {},
   "outputs": [],
   "source": [
    "toplam = sonDizi + sonDizi "
   ]
  },
  {
   "cell_type": "code",
   "execution_count": 20,
   "id": "ab706cdc",
   "metadata": {},
   "outputs": [
    {
     "data": {
      "text/plain": [
       "array([10, 12, 14, 16, 18, 20, 22, 24, 26, 28, 30, 32, 34, 36, 38, 40, 42,\n",
       "       44, 46, 48])"
      ]
     },
     "execution_count": 20,
     "metadata": {},
     "output_type": "execute_result"
    }
   ],
   "source": [
    "toplam "
   ]
  },
  {
   "cell_type": "code",
   "execution_count": 21,
   "id": "d1edf102",
   "metadata": {},
   "outputs": [
    {
     "data": {
      "text/plain": [
       "array([ 25,  36,  49,  64,  81, 100, 121, 144, 169, 196, 225, 256, 289,\n",
       "       324, 361, 400, 441, 484, 529, 576])"
      ]
     },
     "execution_count": 21,
     "metadata": {},
     "output_type": "execute_result"
    }
   ],
   "source": [
    "sonDizi* sonDizi"
   ]
  },
  {
   "cell_type": "code",
   "execution_count": 22,
   "id": "a6768791",
   "metadata": {},
   "outputs": [
    {
     "data": {
      "text/plain": [
       "array([0, 0, 0, 0, 0, 0, 0, 0, 0, 0, 0, 0, 0, 0, 0, 0, 0, 0, 0, 0])"
      ]
     },
     "execution_count": 22,
     "metadata": {},
     "output_type": "execute_result"
    }
   ],
   "source": [
    "sonDizi-sonDizi"
   ]
  },
  {
   "cell_type": "code",
   "execution_count": 23,
   "id": "afa9b535",
   "metadata": {},
   "outputs": [
    {
     "data": {
      "text/plain": [
       "array([1., 1., 1., 1., 1., 1., 1., 1., 1., 1., 1., 1., 1., 1., 1., 1., 1.,\n",
       "       1., 1., 1.])"
      ]
     },
     "execution_count": 23,
     "metadata": {},
     "output_type": "execute_result"
    }
   ],
   "source": [
    "sonDizi/ sonDizi"
   ]
  },
  {
   "cell_type": "markdown",
   "id": "15a266b0",
   "metadata": {},
   "source": [
    "## Karekök alma\n"
   ]
  },
  {
   "cell_type": "code",
   "execution_count": 24,
   "id": "1a4b24ca",
   "metadata": {},
   "outputs": [
    {
     "data": {
      "text/plain": [
       "array([2.23606798, 2.44948974, 2.64575131, 2.82842712, 3.        ,\n",
       "       3.16227766, 3.31662479, 3.46410162, 3.60555128, 3.74165739,\n",
       "       3.87298335, 4.        , 4.12310563, 4.24264069, 4.35889894,\n",
       "       4.47213595, 4.58257569, 4.69041576, 4.79583152, 4.89897949])"
      ]
     },
     "execution_count": 24,
     "metadata": {},
     "output_type": "execute_result"
    }
   ],
   "source": [
    "np.sqrt(sonDizi)"
   ]
  },
  {
   "cell_type": "code",
   "execution_count": 27,
   "id": "0afde3a6",
   "metadata": {},
   "outputs": [],
   "source": [
    "diziNew = np.arange(4,128,4**2)"
   ]
  },
  {
   "cell_type": "code",
   "execution_count": 28,
   "id": "732e59db",
   "metadata": {},
   "outputs": [
    {
     "data": {
      "text/plain": [
       "array([  4,  20,  36,  52,  68,  84, 100, 116])"
      ]
     },
     "execution_count": 28,
     "metadata": {},
     "output_type": "execute_result"
    }
   ],
   "source": [
    "diziNew"
   ]
  },
  {
   "cell_type": "code",
   "execution_count": 29,
   "id": "3d953f70",
   "metadata": {},
   "outputs": [
    {
     "data": {
      "text/plain": [
       "array([ 2.        ,  4.47213595,  6.        ,  7.21110255,  8.24621125,\n",
       "        9.16515139, 10.        , 10.77032961])"
      ]
     },
     "execution_count": 29,
     "metadata": {},
     "output_type": "execute_result"
    }
   ],
   "source": [
    "np.sqrt(diziNew)"
   ]
  },
  {
   "cell_type": "code",
   "execution_count": 30,
   "id": "d2057ba3",
   "metadata": {},
   "outputs": [
    {
     "data": {
      "text/plain": [
       "116"
      ]
     },
     "execution_count": 30,
     "metadata": {},
     "output_type": "execute_result"
    }
   ],
   "source": [
    "np.max(diziNew)"
   ]
  },
  {
   "cell_type": "code",
   "execution_count": 31,
   "id": "28bb8685",
   "metadata": {},
   "outputs": [
    {
     "data": {
      "text/plain": [
       "4"
      ]
     },
     "execution_count": 31,
     "metadata": {},
     "output_type": "execute_result"
    }
   ],
   "source": [
    "np.min(diziNew)"
   ]
  },
  {
   "cell_type": "code",
   "execution_count": null,
   "id": "8bcd6181",
   "metadata": {},
   "outputs": [],
   "source": []
  }
 ],
 "metadata": {
  "kernelspec": {
   "display_name": "Python 3",
   "language": "python",
   "name": "python3"
  },
  "language_info": {
   "codemirror_mode": {
    "name": "ipython",
    "version": 3
   },
   "file_extension": ".py",
   "mimetype": "text/x-python",
   "name": "python",
   "nbconvert_exporter": "python",
   "pygments_lexer": "ipython3",
   "version": "3.8.8"
  }
 },
 "nbformat": 4,
 "nbformat_minor": 5
}
