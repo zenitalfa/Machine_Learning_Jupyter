{
 "cells": [
  {
   "cell_type": "markdown",
   "id": "f5c1ca1c",
   "metadata": {},
   "source": [
    "## instance & attribute"
   ]
  },
  {
   "cell_type": "code",
   "execution_count": 18,
   "id": "8d6520f8",
   "metadata": {},
   "outputs": [],
   "source": [
    "class Names():\n",
    "    def __init__(self,isimInput, yasInput,meslekInput):\n",
    "        print(\"init çağırıldı\")\n",
    "        self.isim = isimInput\n",
    "        self.yas = yasInput\n",
    "        self.meslek = meslekInput\n",
    "    def ornekMethod(self):\n",
    "        print(\"Örnek method çağırıldı\")\n"
   ]
  },
  {
   "cell_type": "code",
   "execution_count": 3,
   "id": "60b78917",
   "metadata": {},
   "outputs": [
    {
     "name": "stdout",
     "output_type": "stream",
     "text": [
      "init çağırıldı\n"
     ]
    }
   ],
   "source": [
    "Zenit = Names(\"never gives up\", 29, \"engineer\")"
   ]
  },
  {
   "cell_type": "code",
   "execution_count": 20,
   "id": "38232a71",
   "metadata": {},
   "outputs": [
    {
     "data": {
      "text/plain": [
       "'never gives up'"
      ]
     },
     "execution_count": 20,
     "metadata": {},
     "output_type": "execute_result"
    }
   ],
   "source": [
    "Zenit.isim"
   ]
  },
  {
   "cell_type": "code",
   "execution_count": 16,
   "id": "596b35c2",
   "metadata": {},
   "outputs": [],
   "source": [
    "Zenit.isim = \"Never!\" # buradaki argümanları değiştirmek mümkündür"
   ]
  },
  {
   "cell_type": "code",
   "execution_count": 15,
   "id": "fc622638",
   "metadata": {},
   "outputs": [
    {
     "data": {
      "text/plain": [
       "'Never!'"
      ]
     },
     "execution_count": 15,
     "metadata": {},
     "output_type": "execute_result"
    }
   ],
   "source": [
    "Zenit.isim"
   ]
  },
  {
   "cell_type": "markdown",
   "id": "d1ca72dc",
   "metadata": {},
   "source": [
    "## Methodlar"
   ]
  },
  {
   "cell_type": "code",
   "execution_count": 1,
   "id": "2fbf3e67",
   "metadata": {},
   "outputs": [],
   "source": [
    "class Names():\n",
    "    def __init__(self,isimInput, yasInput,meslekInput):\n",
    "        print(\"init çağırıldı\")\n",
    "        self.isim = isimInput\n",
    "        self.yas = yasInput\n",
    "        self.meslek = meslekInput\n",
    "    def ornekMethod(self):\n",
    "        #print(\"Örnek method çağırıldı\")\n",
    "        print(f\"Zenit asla {self.isim}\")\n",
    "\n"
   ]
  },
  {
   "cell_type": "code",
   "execution_count": 4,
   "id": "78a24851",
   "metadata": {},
   "outputs": [
    {
     "name": "stdout",
     "output_type": "stream",
     "text": [
      "Zenit asla never gives up\n"
     ]
    }
   ],
   "source": [
    "Zenit.ornekMethod()"
   ]
  },
  {
   "cell_type": "markdown",
   "id": "564e35c3",
   "metadata": {},
   "source": [
    "## Default Değerler"
   ]
  },
  {
   "cell_type": "code",
   "execution_count": 27,
   "id": "1601706a",
   "metadata": {},
   "outputs": [],
   "source": [
    "class Kopek():\n",
    "    yascarpani = 7\n",
    "    def __init__ (self,yas=5):\n",
    "        self.yas= yas\n",
    "    def insanYasi(self):\n",
    "        return self.yas*self.yascarpani\n",
    "        "
   ]
  },
  {
   "cell_type": "code",
   "execution_count": 29,
   "id": "0b2c1ac0",
   "metadata": {},
   "outputs": [],
   "source": [
    "terrier = Kopek()"
   ]
  },
  {
   "cell_type": "code",
   "execution_count": 30,
   "id": "20767ab8",
   "metadata": {},
   "outputs": [
    {
     "data": {
      "text/plain": [
       "5"
      ]
     },
     "execution_count": 30,
     "metadata": {},
     "output_type": "execute_result"
    }
   ],
   "source": [
    "terrier.yas "
   ]
  },
  {
   "cell_type": "code",
   "execution_count": 5,
   "id": "0d24efde",
   "metadata": {},
   "outputs": [
    {
     "data": {
      "text/plain": [
       "10"
      ]
     },
     "execution_count": 5,
     "metadata": {},
     "output_type": "execute_result"
    }
   ],
   "source": [
    "terrier.yas = 10\n",
    "terrier.yas"
   ]
  },
  {
   "cell_type": "code",
   "execution_count": 31,
   "id": "ea30a10d",
   "metadata": {},
   "outputs": [
    {
     "data": {
      "text/plain": [
       "35"
      ]
     },
     "execution_count": 31,
     "metadata": {},
     "output_type": "execute_result"
    }
   ],
   "source": [
    "terrier.insanYasi()"
   ]
  },
  {
   "cell_type": "code",
   "execution_count": null,
   "id": "8cb8e322",
   "metadata": {},
   "outputs": [],
   "source": []
  }
 ],
 "metadata": {
  "kernelspec": {
   "display_name": "Python 3",
   "language": "python",
   "name": "python3"
  },
  "language_info": {
   "codemirror_mode": {
    "name": "ipython",
    "version": 3
   },
   "file_extension": ".py",
   "mimetype": "text/x-python",
   "name": "python",
   "nbconvert_exporter": "python",
   "pygments_lexer": "ipython3",
   "version": "3.8.8"
  }
 },
 "nbformat": 4,
 "nbformat_minor": 5
}
