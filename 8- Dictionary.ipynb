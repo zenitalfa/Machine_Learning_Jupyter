{
 "cells": [
  {
   "cell_type": "markdown",
   "id": "d4da7531",
   "metadata": {},
   "source": [
    "## Dictionary- Sözlükler"
   ]
  },
  {
   "cell_type": "code",
   "execution_count": 1,
   "id": "b3bdcff5",
   "metadata": {},
   "outputs": [],
   "source": [
    "# Sözlükler index mantığına göre çalışmaz\n",
    "# Key-value ilişkisi vardır"
   ]
  },
  {
   "cell_type": "code",
   "execution_count": 4,
   "id": "ce39231e",
   "metadata": {},
   "outputs": [],
   "source": [
    "dict1 = {\"Zenit\": 21, \"Yigit\": 29, \"Platin\": 16}"
   ]
  },
  {
   "cell_type": "code",
   "execution_count": 5,
   "id": "b18a60ab",
   "metadata": {},
   "outputs": [
    {
     "data": {
      "text/plain": [
       "{'Zenit': 21, 'Yigit': 29, 'Platin': 16}"
      ]
     },
     "execution_count": 5,
     "metadata": {},
     "output_type": "execute_result"
    }
   ],
   "source": [
    "dict1"
   ]
  },
  {
   "cell_type": "code",
   "execution_count": 6,
   "id": "81189c45",
   "metadata": {},
   "outputs": [
    {
     "data": {
      "text/plain": [
       "21"
      ]
     },
     "execution_count": 6,
     "metadata": {},
     "output_type": "execute_result"
    }
   ],
   "source": [
    "# Key ile value ulaşılabilir\n",
    "dict1[\"Zenit\"]"
   ]
  },
  {
   "cell_type": "code",
   "execution_count": 9,
   "id": "7eb33c86",
   "metadata": {},
   "outputs": [
    {
     "data": {
      "text/plain": [
       "dict_values([21, 29, 16])"
      ]
     },
     "execution_count": 9,
     "metadata": {},
     "output_type": "execute_result"
    }
   ],
   "source": [
    "dict1.values() # Bu metod ile value yazdırılır"
   ]
  },
  {
   "cell_type": "code",
   "execution_count": 11,
   "id": "e410db45",
   "metadata": {},
   "outputs": [
    {
     "data": {
      "text/plain": [
       "dict_keys(['Zenit', 'Yigit', 'Platin'])"
      ]
     },
     "execution_count": 11,
     "metadata": {},
     "output_type": "execute_result"
    }
   ],
   "source": [
    "dict1.keys() # bu metod ile key yazdırılır"
   ]
  },
  {
   "cell_type": "markdown",
   "id": "4549e6df",
   "metadata": {},
   "source": [
    "## Dictionary value değiştirme"
   ]
  },
  {
   "cell_type": "code",
   "execution_count": 12,
   "id": "b04c1f26",
   "metadata": {},
   "outputs": [],
   "source": [
    "dict1[\"Zenit\"]= 23"
   ]
  },
  {
   "cell_type": "code",
   "execution_count": 13,
   "id": "ee3889ee",
   "metadata": {},
   "outputs": [
    {
     "data": {
      "text/plain": [
       "dict_values([23, 29, 16])"
      ]
     },
     "execution_count": 13,
     "metadata": {},
     "output_type": "execute_result"
    }
   ],
   "source": [
    "dict1.values() # value değişti"
   ]
  },
  {
   "cell_type": "markdown",
   "id": "e86abaa0",
   "metadata": {},
   "source": [
    "## Value, liste olabilir"
   ]
  },
  {
   "cell_type": "code",
   "execution_count": 14,
   "id": "6b8953b0",
   "metadata": {},
   "outputs": [],
   "source": [
    "newDict = {\"besiktas\": 1903, \"work\": \"hard\", \"never\": [19,3,7, \"give up\"]} # value liste olabilir, o liste string içerebilir\n"
   ]
  },
  {
   "cell_type": "code",
   "execution_count": 15,
   "id": "81f3f451",
   "metadata": {},
   "outputs": [
    {
     "data": {
      "text/plain": [
       "{'besiktas': 1903, 'work': 'hard', 'never': [19, 3, 7, 'give up']}"
      ]
     },
     "execution_count": 15,
     "metadata": {},
     "output_type": "execute_result"
    }
   ],
   "source": [
    "newDict"
   ]
  },
  {
   "cell_type": "code",
   "execution_count": 16,
   "id": "11785646",
   "metadata": {},
   "outputs": [
    {
     "data": {
      "text/plain": [
       "[19, 3, 7, 'give up']"
      ]
     },
     "execution_count": 16,
     "metadata": {},
     "output_type": "execute_result"
    }
   ],
   "source": [
    "newDict['never']"
   ]
  },
  {
   "cell_type": "code",
   "execution_count": 17,
   "id": "8e1776a8",
   "metadata": {},
   "outputs": [
    {
     "data": {
      "text/plain": [
       "list"
      ]
     },
     "execution_count": 17,
     "metadata": {},
     "output_type": "execute_result"
    }
   ],
   "source": [
    "type(newDict['never'])"
   ]
  },
  {
   "cell_type": "markdown",
   "id": "e2030eca",
   "metadata": {},
   "source": [
    "## Dictionary, dictionary içerebilir\n"
   ]
  },
  {
   "cell_type": "code",
   "execution_count": 18,
   "id": "0f4b47f4",
   "metadata": {},
   "outputs": [],
   "source": [
    "denemeDict = {\"merhaba\": \"dünya\", 19: \"privet\", \"never\": {\"give up\": 231}} # dict içine dict eklendi"
   ]
  },
  {
   "cell_type": "code",
   "execution_count": 19,
   "id": "8ae1f5cc",
   "metadata": {},
   "outputs": [
    {
     "data": {
      "text/plain": [
       "{'merhaba': 'dünya', 19: 'privet', 'never': {'give up': 231}}"
      ]
     },
     "execution_count": 19,
     "metadata": {},
     "output_type": "execute_result"
    }
   ],
   "source": [
    "denemeDict"
   ]
  },
  {
   "cell_type": "code",
   "execution_count": 20,
   "id": "c2730ee5",
   "metadata": {},
   "outputs": [
    {
     "data": {
      "text/plain": [
       "{'give up': 231}"
      ]
     },
     "execution_count": 20,
     "metadata": {},
     "output_type": "execute_result"
    }
   ],
   "source": [
    "denemeDict['never']"
   ]
  },
  {
   "cell_type": "code",
   "execution_count": 21,
   "id": "90cec39f",
   "metadata": {},
   "outputs": [
    {
     "data": {
      "text/plain": [
       "dict"
      ]
     },
     "execution_count": 21,
     "metadata": {},
     "output_type": "execute_result"
    }
   ],
   "source": [
    "type(denemeDict['never']) # type dictionary"
   ]
  },
  {
   "cell_type": "code",
   "execution_count": 22,
   "id": "86b28fd7",
   "metadata": {},
   "outputs": [
    {
     "data": {
      "text/plain": [
       "231"
      ]
     },
     "execution_count": 22,
     "metadata": {},
     "output_type": "execute_result"
    }
   ],
   "source": [
    "denemeDict['never']['give up'] # bu şekilde de value elde edilebilir"
   ]
  },
  {
   "cell_type": "code",
   "execution_count": 23,
   "id": "eff66f0b",
   "metadata": {},
   "outputs": [
    {
     "data": {
      "text/plain": [
       "231"
      ]
     },
     "execution_count": 23,
     "metadata": {},
     "output_type": "execute_result"
    }
   ],
   "source": [
    "denemeDict['never'][\"give up\"]"
   ]
  },
  {
   "cell_type": "code",
   "execution_count": null,
   "id": "2d026c68",
   "metadata": {},
   "outputs": [],
   "source": []
  }
 ],
 "metadata": {
  "kernelspec": {
   "display_name": "Python 3",
   "language": "python",
   "name": "python3"
  },
  "language_info": {
   "codemirror_mode": {
    "name": "ipython",
    "version": 3
   },
   "file_extension": ".py",
   "mimetype": "text/x-python",
   "name": "python",
   "nbconvert_exporter": "python",
   "pygments_lexer": "ipython3",
   "version": "3.8.8"
  }
 },
 "nbformat": 4,
 "nbformat_minor": 5
}
