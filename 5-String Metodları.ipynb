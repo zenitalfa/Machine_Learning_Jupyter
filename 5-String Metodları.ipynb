{
 "cells": [
  {
   "cell_type": "code",
   "execution_count": 2,
   "id": "5f7fd3ff",
   "metadata": {},
   "outputs": [],
   "source": [
    "yeniString = \"deneme string\""
   ]
  },
  {
   "cell_type": "code",
   "execution_count": 3,
   "id": "2bd7e1bb",
   "metadata": {},
   "outputs": [
    {
     "data": {
      "text/plain": [
       "'Deneme string'"
      ]
     },
     "execution_count": 3,
     "metadata": {},
     "output_type": "execute_result"
    }
   ],
   "source": [
    "yeniString.capitalize()"
   ]
  },
  {
   "cell_type": "code",
   "execution_count": 4,
   "id": "8fe95e80",
   "metadata": {},
   "outputs": [
    {
     "data": {
      "text/plain": [
       "'Deneme string'"
      ]
     },
     "execution_count": 4,
     "metadata": {},
     "output_type": "execute_result"
    }
   ],
   "source": [
    "capitalString = yeniString.capitalize() # ilk karakteri büyük harf yapar\n",
    "capitalString"
   ]
  },
  {
   "cell_type": "code",
   "execution_count": 5,
   "id": "a78d9664",
   "metadata": {},
   "outputs": [
    {
     "data": {
      "text/plain": [
       "'deneme string'"
      ]
     },
     "execution_count": 5,
     "metadata": {},
     "output_type": "execute_result"
    }
   ],
   "source": [
    "yeniString"
   ]
  },
  {
   "cell_type": "code",
   "execution_count": 6,
   "id": "50e3c250",
   "metadata": {},
   "outputs": [
    {
     "data": {
      "text/plain": [
       "['deneme', 'string']"
      ]
     },
     "execution_count": 6,
     "metadata": {},
     "output_type": "execute_result"
    }
   ],
   "source": [
    "yeniString.split() # stringi boşluğun olduğu yerden iki stringe ayırır"
   ]
  },
  {
   "cell_type": "code",
   "execution_count": 5,
   "id": "e5234153",
   "metadata": {},
   "outputs": [],
   "source": [
    "splitString = yeniString.split()"
   ]
  },
  {
   "cell_type": "code",
   "execution_count": 8,
   "id": "eb363fbf",
   "metadata": {},
   "outputs": [
    {
     "data": {
      "text/plain": [
       "['deneme', 'string']"
      ]
     },
     "execution_count": 8,
     "metadata": {},
     "output_type": "execute_result"
    }
   ],
   "source": [
    "splitString"
   ]
  },
  {
   "cell_type": "code",
   "execution_count": 9,
   "id": "46fe3d10",
   "metadata": {},
   "outputs": [
    {
     "data": {
      "text/plain": [
       "list"
      ]
     },
     "execution_count": 9,
     "metadata": {},
     "output_type": "execute_result"
    }
   ],
   "source": [
    "type(splitString)"
   ]
  },
  {
   "cell_type": "code",
   "execution_count": 10,
   "id": "082ff1f6",
   "metadata": {},
   "outputs": [
    {
     "data": {
      "text/plain": [
       "'string'"
      ]
     },
     "execution_count": 10,
     "metadata": {},
     "output_type": "execute_result"
    }
   ],
   "source": [
    "splitString[1] # listenin elemanlarına bakılabilir"
   ]
  },
  {
   "cell_type": "code",
   "execution_count": 9,
   "id": "4e4c4266",
   "metadata": {},
   "outputs": [],
   "source": [
    "splitString.append(\"naber\")"
   ]
  },
  {
   "cell_type": "code",
   "execution_count": 10,
   "id": "15a57119",
   "metadata": {},
   "outputs": [
    {
     "data": {
      "text/plain": [
       "['deneme', 'string', ['naber'], 'naber', 'naber']"
      ]
     },
     "execution_count": 10,
     "metadata": {},
     "output_type": "execute_result"
    }
   ],
   "source": [
    "splitString"
   ]
  },
  {
   "cell_type": "code",
   "execution_count": 11,
   "id": "9a66579c",
   "metadata": {},
   "outputs": [],
   "source": [
    "deneme = \"bu bir string dosyasıdır\""
   ]
  },
  {
   "cell_type": "code",
   "execution_count": 12,
   "id": "333c3bfe",
   "metadata": {},
   "outputs": [
    {
     "data": {
      "text/plain": [
       "'BU BIR STRING DOSYASIDIR'"
      ]
     },
     "execution_count": 12,
     "metadata": {},
     "output_type": "execute_result"
    }
   ],
   "source": [
    "deneme.upper() # string içindeki bütün karakterleri büyük yapar"
   ]
  },
  {
   "cell_type": "code",
   "execution_count": null,
   "id": "8afb53fe",
   "metadata": {},
   "outputs": [],
   "source": []
  }
 ],
 "metadata": {
  "kernelspec": {
   "display_name": "Python 3",
   "language": "python",
   "name": "python3"
  },
  "language_info": {
   "codemirror_mode": {
    "name": "ipython",
    "version": 3
   },
   "file_extension": ".py",
   "mimetype": "text/x-python",
   "name": "python",
   "nbconvert_exporter": "python",
   "pygments_lexer": "ipython3",
   "version": "3.8.8"
  }
 },
 "nbformat": 4,
 "nbformat_minor": 5
}
