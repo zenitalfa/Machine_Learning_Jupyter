{
 "cells": [
  {
   "cell_type": "markdown",
   "id": "eced17f8",
   "metadata": {},
   "source": [
    "## try & except & else & finally"
   ]
  },
  {
   "cell_type": "code",
   "execution_count": 1,
   "id": "d62cc94b",
   "metadata": {},
   "outputs": [],
   "source": [
    "def toplama(num1,num2):\n",
    "    return num1+num2\n"
   ]
  },
  {
   "cell_type": "code",
   "execution_count": 2,
   "id": "ff3fc57b",
   "metadata": {},
   "outputs": [
    {
     "name": "stdout",
     "output_type": "stream",
     "text": [
      "Bir sayi giriniz: 5\n",
      "Bir sayi daha giriniz: 2\n"
     ]
    },
    {
     "data": {
      "text/plain": [
       "7"
      ]
     },
     "execution_count": 2,
     "metadata": {},
     "output_type": "execute_result"
    }
   ],
   "source": [
    "x = int(input(\"Bir sayi giriniz: \"))\n",
    "y = int(input(\"Bir sayi daha giriniz: \"))\n",
    "toplama(x,y)"
   ]
  },
  {
   "cell_type": "code",
   "execution_count": 7,
   "id": "0097b6cc",
   "metadata": {},
   "outputs": [
    {
     "name": "stdout",
     "output_type": "stream",
     "text": [
      "Bir sayi giriniz: 10\n",
      "Bir sayi daha giriniz: 12\n",
      "22\n",
      "Else çalıştı\n",
      "Finally her koşulda çalışır\n"
     ]
    }
   ],
   "source": [
    "while True:\n",
    "    \n",
    "    #def toplama(num1,num2):\n",
    "        try:\n",
    "            a = int(input(\"Bir sayi giriniz: \"))\n",
    "            b = int(input(\"Bir sayi daha giriniz: \"))\n",
    "            print(a+b)\n",
    "        except:\n",
    "            print(\"Girdiğinizin bir sayı olduğundan emin olunuz\")\n",
    "            continue\n",
    "        else:\n",
    "            print(\"Else çalıştı\")\n",
    "            break\n",
    "        finally:\n",
    "            print(\"Finally her koşulda çalışır\")\n",
    "        \n",
    "        \n",
    "    "
   ]
  },
  {
   "cell_type": "code",
   "execution_count": null,
   "id": "dbcd85b7",
   "metadata": {},
   "outputs": [],
   "source": []
  }
 ],
 "metadata": {
  "kernelspec": {
   "display_name": "Python 3",
   "language": "python",
   "name": "python3"
  },
  "language_info": {
   "codemirror_mode": {
    "name": "ipython",
    "version": 3
   },
   "file_extension": ".py",
   "mimetype": "text/x-python",
   "name": "python",
   "nbconvert_exporter": "python",
   "pygments_lexer": "ipython3",
   "version": "3.8.8"
  }
 },
 "nbformat": 4,
 "nbformat_minor": 5
}
