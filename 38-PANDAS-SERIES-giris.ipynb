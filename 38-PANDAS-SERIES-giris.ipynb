{
 "cells": [
  {
   "cell_type": "code",
   "execution_count": 4,
   "id": "2eeab3ae",
   "metadata": {},
   "outputs": [],
   "source": [
    "import numpy as np\n",
    "import pandas as pd"
   ]
  },
  {
   "cell_type": "markdown",
   "id": "9cc2217b",
   "metadata": {},
   "source": [
    "## SERİES / SERİLER"
   ]
  },
  {
   "cell_type": "markdown",
   "id": "1cbfcdee",
   "metadata": {},
   "source": [
    "## Seri Oluşturma"
   ]
  },
  {
   "cell_type": "markdown",
   "id": "9a596df4",
   "metadata": {},
   "source": [
    "## 1. yöntem"
   ]
  },
  {
   "cell_type": "code",
   "execution_count": 5,
   "id": "fded7dec",
   "metadata": {},
   "outputs": [],
   "source": [
    "benimSozluk = {\"Zenit\": 29, \"Gizem\": 35, \"Orhan\": 42}"
   ]
  },
  {
   "cell_type": "code",
   "execution_count": 6,
   "id": "6b017363",
   "metadata": {},
   "outputs": [
    {
     "data": {
      "text/plain": [
       "{'Zenit': 29, 'Gizem': 35, 'Orhan': 42}"
      ]
     },
     "execution_count": 6,
     "metadata": {},
     "output_type": "execute_result"
    }
   ],
   "source": [
    "benimSozluk"
   ]
  },
  {
   "cell_type": "code",
   "execution_count": 10,
   "id": "95364434",
   "metadata": {},
   "outputs": [],
   "source": [
    "ilkSeri = pd.Series(benimSozluk)"
   ]
  },
  {
   "cell_type": "code",
   "execution_count": 12,
   "id": "6466c6c3",
   "metadata": {},
   "outputs": [
    {
     "data": {
      "text/plain": [
       "Zenit    29\n",
       "Gizem    35\n",
       "Orhan    42\n",
       "dtype: int64"
      ]
     },
     "execution_count": 12,
     "metadata": {},
     "output_type": "execute_result"
    }
   ],
   "source": [
    "ilkSeri"
   ]
  },
  {
   "cell_type": "markdown",
   "id": "129ec333",
   "metadata": {},
   "source": [
    "## 2. Yöntem"
   ]
  },
  {
   "cell_type": "code",
   "execution_count": 19,
   "id": "e6ef0fbe",
   "metadata": {},
   "outputs": [],
   "source": [
    "benimYaslistem = [29,35,42] # Buradaki asıl verinin yaş olduğunu unutma. \n",
    "benimAdlistem = [\"Zenit\", \"Gizem\",\"Orhan\"] # İsim verileri sadece indexksmiş gibi davranırlar"
   ]
  },
  {
   "cell_type": "code",
   "execution_count": 20,
   "id": "3a59c827",
   "metadata": {},
   "outputs": [
    {
     "data": {
      "text/plain": [
       "Zenit    29\n",
       "Gizem    35\n",
       "Orhan    42\n",
       "dtype: int64"
      ]
     },
     "execution_count": 20,
     "metadata": {},
     "output_type": "execute_result"
    }
   ],
   "source": [
    "pd.Series(benimYaslistem,benimAdlistem)"
   ]
  },
  {
   "cell_type": "code",
   "execution_count": 21,
   "id": "414d6546",
   "metadata": {},
   "outputs": [
    {
     "data": {
      "text/plain": [
       "Zenit    29\n",
       "Gizem    35\n",
       "Orhan    42\n",
       "dtype: int64"
      ]
     },
     "execution_count": 21,
     "metadata": {},
     "output_type": "execute_result"
    }
   ],
   "source": [
    "# ÖNEMLİ\n",
    "pd.Series(data= benimYaslistem, index = benimAdlistem)"
   ]
  },
  {
   "cell_type": "markdown",
   "id": "ae2af1cd",
   "metadata": {},
   "source": [
    "## 3. Yöntem- numpy dizisi ile oluşturma"
   ]
  },
  {
   "cell_type": "code",
   "execution_count": 24,
   "id": "4a843f78",
   "metadata": {},
   "outputs": [],
   "source": [
    "diziNew = np.array([29,35,42])"
   ]
  },
  {
   "cell_type": "code",
   "execution_count": 25,
   "id": "68dae0c2",
   "metadata": {},
   "outputs": [
    {
     "data": {
      "text/plain": [
       "Zenit    29\n",
       "Gizem    35\n",
       "Orhan    42\n",
       "dtype: int32"
      ]
     },
     "execution_count": 25,
     "metadata": {},
     "output_type": "execute_result"
    }
   ],
   "source": [
    "pd.Series(diziNew, benimAdlistem)"
   ]
  },
  {
   "cell_type": "code",
   "execution_count": 1,
   "id": "9891ba2a",
   "metadata": {},
   "outputs": [],
   "source": [
    "import numpy as np\n",
    "import pandas as pd\n",
    "\n",
    "isimListe = [\"Never\", \"Give \", \"Up\"]\n",
    "array1 = np.array([12, 84, 93])\n"
   ]
  },
  {
   "cell_type": "code",
   "execution_count": 2,
   "id": "58858f6b",
   "metadata": {},
   "outputs": [],
   "source": [
    "seri = pd.Series( data = array1, index = isimListe)"
   ]
  },
  {
   "cell_type": "code",
   "execution_count": 3,
   "id": "b498ccba",
   "metadata": {},
   "outputs": [
    {
     "data": {
      "text/plain": [
       "Never    12\n",
       "Give     84\n",
       "Up       93\n",
       "dtype: int32"
      ]
     },
     "execution_count": 3,
     "metadata": {},
     "output_type": "execute_result"
    }
   ],
   "source": [
    "seri"
   ]
  },
  {
   "cell_type": "code",
   "execution_count": null,
   "id": "f0c538e1",
   "metadata": {},
   "outputs": [],
   "source": []
  }
 ],
 "metadata": {
  "kernelspec": {
   "display_name": "Python 3",
   "language": "python",
   "name": "python3"
  },
  "language_info": {
   "codemirror_mode": {
    "name": "ipython",
    "version": 3
   },
   "file_extension": ".py",
   "mimetype": "text/x-python",
   "name": "python",
   "nbconvert_exporter": "python",
   "pygments_lexer": "ipython3",
   "version": "3.8.8"
  }
 },
 "nbformat": 4,
 "nbformat_minor": 5
}
