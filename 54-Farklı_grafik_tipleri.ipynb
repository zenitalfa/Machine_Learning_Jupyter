{
 "cells": [
  {
   "cell_type": "markdown",
   "id": "1949f3e7",
   "metadata": {},
   "source": [
    "## FARKLI GRAFİK TİPLERİ"
   ]
  },
  {
   "cell_type": "code",
   "execution_count": 2,
   "id": "60765ef8",
   "metadata": {},
   "outputs": [],
   "source": [
    "## Scatter plot"
   ]
  },
  {
   "cell_type": "code",
   "execution_count": 6,
   "id": "3455eb2a",
   "metadata": {},
   "outputs": [],
   "source": [
    "import numpy as np\n",
    "import matplotlib.pyplot as plt\n",
    "\n",
    "Dizi1 = np.linspace(0,20,20)\n",
    "Dizi2 = np.linspace(0,20,20)"
   ]
  },
  {
   "cell_type": "code",
   "execution_count": 7,
   "id": "0b000bd9",
   "metadata": {},
   "outputs": [],
   "source": [
    "%matplotlib inline"
   ]
  },
  {
   "cell_type": "code",
   "execution_count": 13,
   "id": "95b019ca",
   "metadata": {},
   "outputs": [
    {
     "data": {
      "text/plain": [
       "<matplotlib.collections.PathCollection at 0x1e65cdfd310>"
      ]
     },
     "execution_count": 13,
     "metadata": {},
     "output_type": "execute_result"
    },
    {
     "data": {
      "image/png": "[encoded data removed]",
      "text/plain": [
       "<Figure size 432x288 with 1 Axes>"
      ]
     },
     "metadata": {
      "needs_background": "light"
     },
     "output_type": "display_data"
    }
   ],
   "source": [
    "(yeniFigure, eksen) = plt.subplots()\n",
    "eksen.scatter(Dizi1, Dizi2, linewidth = 6)\n"
   ]
  },
  {
   "cell_type": "markdown",
   "id": "691bc720",
   "metadata": {},
   "source": [
    "##  Histogram"
   ]
  },
  {
   "cell_type": "code",
   "execution_count": 14,
   "id": "403ad99b",
   "metadata": {},
   "outputs": [],
   "source": [
    "yeniDizi = np.random.randint(0,100,25)"
   ]
  },
  {
   "cell_type": "code",
   "execution_count": 15,
   "id": "5193292e",
   "metadata": {},
   "outputs": [
    {
     "data": {
      "text/plain": [
       "array([98, 57, 41, 86,  1, 10, 25, 10, 84, 25, 69, 81, 49, 21, 77, 74, 77,\n",
       "       53, 51, 59, 97, 51, 33, 15, 42])"
      ]
     },
     "execution_count": 15,
     "metadata": {},
     "output_type": "execute_result"
    }
   ],
   "source": [
    "yeniDizi"
   ]
  },
  {
   "cell_type": "code",
   "execution_count": 21,
   "id": "267db20e",
   "metadata": {},
   "outputs": [
    {
     "data": {
      "text/plain": [
       "(array([3., 1., 3., 1., 3., 5., 0., 4., 3., 2.]),\n",
       " array([ 1. , 10.7, 20.4, 30.1, 39.8, 49.5, 59.2, 68.9, 78.6, 88.3, 98. ]),\n",
       " <BarContainer object of 10 artists>)"
      ]
     },
     "execution_count": 21,
     "metadata": {},
     "output_type": "execute_result"
    },
    {
     "data": {
      "image/png": "[encoded data removed]",
      "text/plain": [
       "<Figure size 432x288 with 1 Axes>"
      ]
     },
     "metadata": {
      "needs_background": "light"
     },
     "output_type": "display_data"
    }
   ],
   "source": [
    "plt.hist(yeniDizi)"
   ]
  },
  {
   "cell_type": "markdown",
   "id": "d33f65df",
   "metadata": {},
   "source": [
    "## Boxplot"
   ]
  },
  {
   "cell_type": "code",
   "execution_count": 22,
   "id": "333a553c",
   "metadata": {},
   "outputs": [
    {
     "data": {
      "text/plain": [
       "{'whiskers': [<matplotlib.lines.Line2D at 0x1e65f8348b0>,\n",
       "  <matplotlib.lines.Line2D at 0x1e65f834c40>],\n",
       " 'caps': [<matplotlib.lines.Line2D at 0x1e65f834f70>,\n",
       "  <matplotlib.lines.Line2D at 0x1e65f843280>],\n",
       " 'boxes': [<matplotlib.lines.Line2D at 0x1e65f834520>],\n",
       " 'medians': [<matplotlib.lines.Line2D at 0x1e65f843610>],\n",
       " 'fliers': [<matplotlib.lines.Line2D at 0x1e65f843940>],\n",
       " 'means': []}"
      ]
     },
     "execution_count": 22,
     "metadata": {},
     "output_type": "execute_result"
    },
    {
     "data": {
      "image/png": "[encoded data removed]",
      "text/plain": [
       "<Figure size 432x288 with 1 Axes>"
      ]
     },
     "metadata": {
      "needs_background": "light"
     },
     "output_type": "display_data"
    }
   ],
   "source": [
    "plt.boxplot(yeniDizi, )"
   ]
  },
  {
   "cell_type": "code",
   "execution_count": null,
   "id": "bd8de0b5",
   "metadata": {},
   "outputs": [],
   "source": []
  }
 ],
 "metadata": {
  "kernelspec": {
   "display_name": "Python 3 (ipykernel)",
   "language": "python",
   "name": "python3"
  },
  "language_info": {
   "codemirror_mode": {
    "name": "ipython",
    "version": 3
   },
   "file_extension": ".py",
   "mimetype": "text/x-python",
   "name": "python",
   "nbconvert_exporter": "python",
   "pygments_lexer": "ipython3",
   "version": "3.9.7"
  }
 },
 "nbformat": 4,
 "nbformat_minor": 5
}
