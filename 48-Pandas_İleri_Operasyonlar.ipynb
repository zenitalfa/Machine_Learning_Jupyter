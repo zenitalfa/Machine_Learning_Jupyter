{
 "cells": [
  {
   "cell_type": "markdown",
   "id": "70911dfe",
   "metadata": {},
   "source": [
    "## Pandas İleri Operasyonlar"
   ]
  },
  {
   "cell_type": "code",
   "execution_count": 2,
   "id": "302aa0ac",
   "metadata": {},
   "outputs": [],
   "source": [
    "import numpy as np\n",
    "import pandas as pd\n",
    "import matplotlib.pyplot as plt"
   ]
  },
  {
   "cell_type": "code",
   "execution_count": 3,
   "id": "b0c3e1ac",
   "metadata": {},
   "outputs": [],
   "source": [
    "maasSozluk = {\"İsim\": [\"Sercan\",\"Yiğit\",\"Darya\",\"Şevki\"], \"Departman\": [\"Yazılım\",\"Finans\", \"Yazılım\",\"Pazarlama\"], \n",
    "              \"Maas\": [200, 140, 600,340]}"
   ]
  },
  {
   "cell_type": "code",
   "execution_count": 4,
   "id": "82d41a8d",
   "metadata": {},
   "outputs": [],
   "source": [
    "maasDatFrame = pd.DataFrame(data= maasSozluk)"
   ]
  },
  {
   "cell_type": "code",
   "execution_count": 5,
   "id": "678fe8a2",
   "metadata": {},
   "outputs": [
    {
     "data": {
      "text/html": [
       "<div>\n",
       "<style scoped>\n",
       "    .dataframe tbody tr th:only-of-type {\n",
       "        vertical-align: middle;\n",
       "    }\n",
       "\n",
       "    .dataframe tbody tr th {\n",
       "        vertical-align: top;\n",
       "    }\n",
       "\n",
       "    .dataframe thead th {\n",
       "        text-align: right;\n",
       "    }\n",
       "</style>\n",
       "<table border=\"1\" class=\"dataframe\">\n",
       "  <thead>\n",
       "    <tr style=\"text-align: right;\">\n",
       "      <th></th>\n",
       "      <th>İsim</th>\n",
       "      <th>Departman</th>\n",
       "      <th>Maas</th>\n",
       "    </tr>\n",
       "  </thead>\n",
       "  <tbody>\n",
       "    <tr>\n",
       "      <th>0</th>\n",
       "      <td>Sercan</td>\n",
       "      <td>Yazılım</td>\n",
       "      <td>200</td>\n",
       "    </tr>\n",
       "    <tr>\n",
       "      <th>1</th>\n",
       "      <td>Yiğit</td>\n",
       "      <td>Finans</td>\n",
       "      <td>140</td>\n",
       "    </tr>\n",
       "    <tr>\n",
       "      <th>2</th>\n",
       "      <td>Darya</td>\n",
       "      <td>Yazılım</td>\n",
       "      <td>600</td>\n",
       "    </tr>\n",
       "    <tr>\n",
       "      <th>3</th>\n",
       "      <td>Şevki</td>\n",
       "      <td>Pazarlama</td>\n",
       "      <td>340</td>\n",
       "    </tr>\n",
       "  </tbody>\n",
       "</table>\n",
       "</div>"
      ],
      "text/plain": [
       "     İsim  Departman  Maas\n",
       "0  Sercan    Yazılım   200\n",
       "1   Yiğit     Finans   140\n",
       "2   Darya    Yazılım   600\n",
       "3   Şevki  Pazarlama   340"
      ]
     },
     "execution_count": 5,
     "metadata": {},
     "output_type": "execute_result"
    }
   ],
   "source": [
    "maasDatFrame"
   ]
  },
  {
   "cell_type": "code",
   "execution_count": 8,
   "id": "f896aa9a",
   "metadata": {},
   "outputs": [
    {
     "data": {
      "text/plain": [
       "array(['Yazılım', 'Finans', 'Pazarlama'], dtype=object)"
      ]
     },
     "execution_count": 8,
     "metadata": {},
     "output_type": "execute_result"
    }
   ],
   "source": [
    "maasDatFrame[\"Departman\"].unique()\n",
    "\n",
    "## Departman içerisindeki unique değerleri getirir\n"
   ]
  },
  {
   "cell_type": "code",
   "execution_count": 10,
   "id": "3b51f1c6",
   "metadata": {},
   "outputs": [
    {
     "data": {
      "text/plain": [
       "3"
      ]
     },
     "execution_count": 10,
     "metadata": {},
     "output_type": "execute_result"
    }
   ],
   "source": [
    "maasDatFrame[\"Departman\"].nunique()\n",
    "\n",
    "## Departman kolonu içindeki unique değerlerin sayısını verir"
   ]
  },
  {
   "cell_type": "code",
   "execution_count": 12,
   "id": "406d151b",
   "metadata": {},
   "outputs": [
    {
     "data": {
      "text/plain": [
       "Yazılım      2\n",
       "Finans       1\n",
       "Pazarlama    1\n",
       "Name: Departman, dtype: int64"
      ]
     },
     "execution_count": 12,
     "metadata": {},
     "output_type": "execute_result"
    }
   ],
   "source": [
    "maasDatFrame[\"Departman\"].value_counts()\n",
    "\n",
    "## Departman kolonu içindeki verilerin değerlerini verir, yani kaç tane o veriden olduğunu"
   ]
  },
  {
   "cell_type": "markdown",
   "id": "359cf30c",
   "metadata": {},
   "source": [
    "## Fonksiyon içinde serileri kullanmak"
   ]
  },
  {
   "cell_type": "code",
   "execution_count": 13,
   "id": "56337aef",
   "metadata": {},
   "outputs": [],
   "source": [
    "def bruttenNete(maas):\n",
    "    return maas*0.66"
   ]
  },
  {
   "cell_type": "code",
   "execution_count": 15,
   "id": "42a72db8",
   "metadata": {},
   "outputs": [
    {
     "data": {
      "text/plain": [
       "0    132.0\n",
       "1     92.4\n",
       "2    396.0\n",
       "3    224.4\n",
       "Name: Maas, dtype: float64"
      ]
     },
     "execution_count": 15,
     "metadata": {},
     "output_type": "execute_result"
    }
   ],
   "source": [
    "maasDatFrame[\"Maas\"].apply(bruttenNete)\n",
    "\n",
    "## Bir fonksiyonu bu şekilde seri(dataframe) ie kullanmak mümkündür"
   ]
  },
  {
   "cell_type": "markdown",
   "id": "151a474a",
   "metadata": {},
   "source": [
    "## devam"
   ]
  },
  {
   "cell_type": "code",
   "execution_count": 18,
   "id": "fc312942",
   "metadata": {},
   "outputs": [
    {
     "data": {
      "text/html": [
       "<div>\n",
       "<style scoped>\n",
       "    .dataframe tbody tr th:only-of-type {\n",
       "        vertical-align: middle;\n",
       "    }\n",
       "\n",
       "    .dataframe tbody tr th {\n",
       "        vertical-align: top;\n",
       "    }\n",
       "\n",
       "    .dataframe thead th {\n",
       "        text-align: right;\n",
       "    }\n",
       "</style>\n",
       "<table border=\"1\" class=\"dataframe\">\n",
       "  <thead>\n",
       "    <tr style=\"text-align: right;\">\n",
       "      <th></th>\n",
       "      <th>İsim</th>\n",
       "      <th>Departman</th>\n",
       "      <th>Maas</th>\n",
       "    </tr>\n",
       "  </thead>\n",
       "  <tbody>\n",
       "    <tr>\n",
       "      <th>0</th>\n",
       "      <td>False</td>\n",
       "      <td>False</td>\n",
       "      <td>False</td>\n",
       "    </tr>\n",
       "    <tr>\n",
       "      <th>1</th>\n",
       "      <td>False</td>\n",
       "      <td>False</td>\n",
       "      <td>False</td>\n",
       "    </tr>\n",
       "    <tr>\n",
       "      <th>2</th>\n",
       "      <td>False</td>\n",
       "      <td>False</td>\n",
       "      <td>False</td>\n",
       "    </tr>\n",
       "    <tr>\n",
       "      <th>3</th>\n",
       "      <td>False</td>\n",
       "      <td>False</td>\n",
       "      <td>False</td>\n",
       "    </tr>\n",
       "  </tbody>\n",
       "</table>\n",
       "</div>"
      ],
      "text/plain": [
       "    İsim  Departman   Maas\n",
       "0  False      False  False\n",
       "1  False      False  False\n",
       "2  False      False  False\n",
       "3  False      False  False"
      ]
     },
     "execution_count": 18,
     "metadata": {},
     "output_type": "execute_result"
    }
   ],
   "source": [
    "maasDatFrame.isnull()\n",
    "\n",
    "# Null bir değer var mı yok mu onu görürüz\n"
   ]
  },
  {
   "cell_type": "markdown",
   "id": "e6b76cf3",
   "metadata": {},
   "source": [
    "## Pivot Table- Excel gibi"
   ]
  },
  {
   "cell_type": "code",
   "execution_count": 20,
   "id": "3b1649b1",
   "metadata": {},
   "outputs": [],
   "source": [
    "yeniDic = {\"Karakter Sınıfı\" : [\"South\",\"Simpson\",\"South\",\"Family Guy\"],\n",
    "            \"Karakter İsmi\": [\"Ken\", \"Homer\",\"Cartman\",\"Stewie\"],\n",
    "            \"Karakter Yaşı\": [9, 40,19, 3]}"
   ]
  },
  {
   "cell_type": "code",
   "execution_count": 21,
   "id": "0a6da67a",
   "metadata": {},
   "outputs": [],
   "source": [
    "yeniFrame = pd.DataFrame(data = yeniDic)"
   ]
  },
  {
   "cell_type": "code",
   "execution_count": 22,
   "id": "d37dfa4b",
   "metadata": {},
   "outputs": [
    {
     "data": {
      "text/html": [
       "<div>\n",
       "<style scoped>\n",
       "    .dataframe tbody tr th:only-of-type {\n",
       "        vertical-align: middle;\n",
       "    }\n",
       "\n",
       "    .dataframe tbody tr th {\n",
       "        vertical-align: top;\n",
       "    }\n",
       "\n",
       "    .dataframe thead th {\n",
       "        text-align: right;\n",
       "    }\n",
       "</style>\n",
       "<table border=\"1\" class=\"dataframe\">\n",
       "  <thead>\n",
       "    <tr style=\"text-align: right;\">\n",
       "      <th></th>\n",
       "      <th>Karakter Sınıfı</th>\n",
       "      <th>Karakter İsmi</th>\n",
       "      <th>Karakter Yaşı</th>\n",
       "    </tr>\n",
       "  </thead>\n",
       "  <tbody>\n",
       "    <tr>\n",
       "      <th>0</th>\n",
       "      <td>South</td>\n",
       "      <td>Ken</td>\n",
       "      <td>9</td>\n",
       "    </tr>\n",
       "    <tr>\n",
       "      <th>1</th>\n",
       "      <td>Simpson</td>\n",
       "      <td>Homer</td>\n",
       "      <td>40</td>\n",
       "    </tr>\n",
       "    <tr>\n",
       "      <th>2</th>\n",
       "      <td>South</td>\n",
       "      <td>Cartman</td>\n",
       "      <td>19</td>\n",
       "    </tr>\n",
       "    <tr>\n",
       "      <th>3</th>\n",
       "      <td>Family Guy</td>\n",
       "      <td>Stewie</td>\n",
       "      <td>3</td>\n",
       "    </tr>\n",
       "  </tbody>\n",
       "</table>\n",
       "</div>"
      ],
      "text/plain": [
       "  Karakter Sınıfı Karakter İsmi  Karakter Yaşı\n",
       "0           South           Ken              9\n",
       "1         Simpson         Homer             40\n",
       "2           South       Cartman             19\n",
       "3      Family Guy        Stewie              3"
      ]
     },
     "execution_count": 22,
     "metadata": {},
     "output_type": "execute_result"
    }
   ],
   "source": [
    "yeniFrame"
   ]
  },
  {
   "cell_type": "code",
   "execution_count": 23,
   "id": "5f43e2a1",
   "metadata": {},
   "outputs": [
    {
     "data": {
      "text/html": [
       "<div>\n",
       "<style scoped>\n",
       "    .dataframe tbody tr th:only-of-type {\n",
       "        vertical-align: middle;\n",
       "    }\n",
       "\n",
       "    .dataframe tbody tr th {\n",
       "        vertical-align: top;\n",
       "    }\n",
       "\n",
       "    .dataframe thead th {\n",
       "        text-align: right;\n",
       "    }\n",
       "</style>\n",
       "<table border=\"1\" class=\"dataframe\">\n",
       "  <thead>\n",
       "    <tr style=\"text-align: right;\">\n",
       "      <th></th>\n",
       "      <th></th>\n",
       "      <th>Karakter Yaşı</th>\n",
       "    </tr>\n",
       "    <tr>\n",
       "      <th>Karakter Sınıfı</th>\n",
       "      <th>Karakter İsmi</th>\n",
       "      <th></th>\n",
       "    </tr>\n",
       "  </thead>\n",
       "  <tbody>\n",
       "    <tr>\n",
       "      <th>Family Guy</th>\n",
       "      <th>Stewie</th>\n",
       "      <td>3</td>\n",
       "    </tr>\n",
       "    <tr>\n",
       "      <th>Simpson</th>\n",
       "      <th>Homer</th>\n",
       "      <td>40</td>\n",
       "    </tr>\n",
       "    <tr>\n",
       "      <th rowspan=\"2\" valign=\"top\">South</th>\n",
       "      <th>Cartman</th>\n",
       "      <td>19</td>\n",
       "    </tr>\n",
       "    <tr>\n",
       "      <th>Ken</th>\n",
       "      <td>9</td>\n",
       "    </tr>\n",
       "  </tbody>\n",
       "</table>\n",
       "</div>"
      ],
      "text/plain": [
       "                               Karakter Yaşı\n",
       "Karakter Sınıfı Karakter İsmi               \n",
       "Family Guy      Stewie                     3\n",
       "Simpson         Homer                     40\n",
       "South           Cartman                   19\n",
       "                Ken                        9"
      ]
     },
     "execution_count": 23,
     "metadata": {},
     "output_type": "execute_result"
    }
   ],
   "source": [
    "yeniFrame.pivot_table(values = \"Karakter Yaşı\", index =[ \"Karakter Sınıfı\", \"Karakter İsmi\"])"
   ]
  },
  {
   "cell_type": "code",
   "execution_count": null,
   "id": "ac3e5013",
   "metadata": {},
   "outputs": [],
   "source": []
  }
 ],
 "metadata": {
  "kernelspec": {
   "display_name": "Python 3 (ipykernel)",
   "language": "python",
   "name": "python3"
  },
  "language_info": {
   "codemirror_mode": {
    "name": "ipython",
    "version": 3
   },
   "file_extension": ".py",
   "mimetype": "text/x-python",
   "name": "python",
   "nbconvert_exporter": "python",
   "pygments_lexer": "ipython3",
   "version": "3.9.7"
  }
 },
 "nbformat": 4,
 "nbformat_minor": 5
}
