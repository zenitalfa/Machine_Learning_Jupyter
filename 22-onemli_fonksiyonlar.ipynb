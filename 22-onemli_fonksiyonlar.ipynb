{
 "cells": [
  {
   "cell_type": "markdown",
   "id": "b3be64c7",
   "metadata": {},
   "source": [
    "## Map"
   ]
  },
  {
   "cell_type": "code",
   "execution_count": 18,
   "id": "e04fffae",
   "metadata": {},
   "outputs": [],
   "source": [
    "listeNew = []\n",
    "\n",
    "def bolme(numara):\n",
    "    return numara / 2"
   ]
  },
  {
   "cell_type": "code",
   "execution_count": 19,
   "id": "f5178589",
   "metadata": {},
   "outputs": [],
   "source": [
    "liste1 = list(range(1,27,4))\n",
    "for eleman in liste1:\n",
    "    listeNew.append(bolme(eleman))"
   ]
  },
  {
   "cell_type": "code",
   "execution_count": 20,
   "id": "6da899f1",
   "metadata": {
    "scrolled": true
   },
   "outputs": [
    {
     "data": {
      "text/plain": [
       "[0.5, 2.5, 4.5, 6.5, 8.5, 10.5, 12.5]"
      ]
     },
     "execution_count": 20,
     "metadata": {},
     "output_type": "execute_result"
    }
   ],
   "source": [
    "listeNew"
   ]
  },
  {
   "cell_type": "code",
   "execution_count": 21,
   "id": "255414a9",
   "metadata": {},
   "outputs": [],
   "source": [
    "# bu işlemi map ile de yapabiliriz"
   ]
  },
  {
   "cell_type": "code",
   "execution_count": 23,
   "id": "c6b21006",
   "metadata": {},
   "outputs": [],
   "source": [
    "listeSon = list(map(bolme, liste1))"
   ]
  },
  {
   "cell_type": "code",
   "execution_count": 26,
   "id": "2c539856",
   "metadata": {},
   "outputs": [
    {
     "data": {
      "text/plain": [
       "True"
      ]
     },
     "execution_count": 26,
     "metadata": {},
     "output_type": "execute_result"
    }
   ],
   "source": [
    "listeSon == listeNew # iki liste birbirine eşittir"
   ]
  },
  {
   "cell_type": "code",
   "execution_count": 25,
   "id": "c79034f9",
   "metadata": {},
   "outputs": [
    {
     "data": {
      "text/plain": [
       "[0.5, 2.5, 4.5, 6.5, 8.5, 10.5, 12.5]"
      ]
     },
     "execution_count": 25,
     "metadata": {},
     "output_type": "execute_result"
    }
   ],
   "source": [
    "listeSon"
   ]
  },
  {
   "cell_type": "markdown",
   "id": "cf35f05c",
   "metadata": {},
   "source": [
    "# Örnek-2"
   ]
  },
  {
   "cell_type": "code",
   "execution_count": 27,
   "id": "b3fbae16",
   "metadata": {},
   "outputs": [],
   "source": [
    "def controlfunc(string):\n",
    "    return \"e\" in string"
   ]
  },
  {
   "cell_type": "code",
   "execution_count": 28,
   "id": "841a5b0f",
   "metadata": {},
   "outputs": [],
   "source": [
    "stringListe = [\"ZENİT\",\" never give up\", \"work\",\"more\"]"
   ]
  },
  {
   "cell_type": "code",
   "execution_count": 30,
   "id": "ec619ba0",
   "metadata": {},
   "outputs": [
    {
     "data": {
      "text/plain": [
       "[False, True, False, True]"
      ]
     },
     "execution_count": 30,
     "metadata": {},
     "output_type": "execute_result"
    }
   ],
   "source": [
    "list(map(controlfunc, stringListe)) # hangi stringlerde e olup olmadığını verir"
   ]
  },
  {
   "cell_type": "markdown",
   "id": "03080109",
   "metadata": {},
   "source": [
    "## Filter"
   ]
  },
  {
   "cell_type": "code",
   "execution_count": 31,
   "id": "7f5b12cc",
   "metadata": {},
   "outputs": [],
   "source": [
    "# filter, map ile benzer bir işi yapar ancak filtreler"
   ]
  },
  {
   "cell_type": "code",
   "execution_count": 32,
   "id": "7c852458",
   "metadata": {},
   "outputs": [
    {
     "data": {
      "text/plain": [
       "[' never give up', 'more']"
      ]
     },
     "execution_count": 32,
     "metadata": {},
     "output_type": "execute_result"
    }
   ],
   "source": [
    "list(filter(controlfunc,stringListe))"
   ]
  },
  {
   "cell_type": "markdown",
   "id": "b27e86c4",
   "metadata": {},
   "source": [
    "## Lambda"
   ]
  },
  {
   "cell_type": "code",
   "execution_count": 33,
   "id": "21cf0211",
   "metadata": {},
   "outputs": [],
   "source": [
    "# Bir fonksiyonu tek satırda yazabiliriz\n",
    "\n",
    "carpma = lambda sayi : sayi *3"
   ]
  },
  {
   "cell_type": "code",
   "execution_count": 34,
   "id": "6781ecf6",
   "metadata": {},
   "outputs": [
    {
     "data": {
      "text/plain": [
       "30"
      ]
     },
     "execution_count": 34,
     "metadata": {},
     "output_type": "execute_result"
    }
   ],
   "source": [
    "carpma(10)"
   ]
  },
  {
   "cell_type": "code",
   "execution_count": 37,
   "id": "3762ff56",
   "metadata": {},
   "outputs": [
    {
     "data": {
      "text/plain": [
       "[14, 24, 34]"
      ]
     },
     "execution_count": 37,
     "metadata": {},
     "output_type": "execute_result"
    }
   ],
   "source": [
    "list(map(lambda sayi: sayi+4, [10,20,30])) # map içerine de yazılabilir"
   ]
  },
  {
   "cell_type": "code",
   "execution_count": null,
   "id": "7eb79181",
   "metadata": {},
   "outputs": [],
   "source": []
  }
 ],
 "metadata": {
  "kernelspec": {
   "display_name": "Python 3",
   "language": "python",
   "name": "python3"
  },
  "language_info": {
   "codemirror_mode": {
    "name": "ipython",
    "version": 3
   },
   "file_extension": ".py",
   "mimetype": "text/x-python",
   "name": "python",
   "nbconvert_exporter": "python",
   "pygments_lexer": "ipython3",
   "version": "3.8.8"
  }
 },
 "nbformat": 4,
 "nbformat_minor": 5
}
