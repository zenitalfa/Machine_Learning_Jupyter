{
 "cells": [
  {
   "cell_type": "code",
   "execution_count": 1,
   "id": "36b72ae9",
   "metadata": {},
   "outputs": [
    {
     "name": "stdout",
     "output_type": "stream",
     "text": [
      "Please type first number: 10\n",
      "Please type second number: 2\n",
      "Please choose your operation: +, -, *, /*\n"
     ]
    },
    {
     "data": {
      "text/plain": [
       "'10 * 2 = 20'"
      ]
     },
     "execution_count": 1,
     "metadata": {},
     "output_type": "execute_result"
    }
   ],
   "source": [
    "def calculator(a,b,islem):\n",
    "    \n",
    "    if islem== \"+\":\n",
    "        return (str(a)+ \" + \"+ str(b)+ \" = \"+str(a+b))\n",
    "    if islem==\"-\":\n",
    "        return (str(a)+ \" - \"+ str(b)+ \" = \"+str(a-b))\n",
    "    if islem== \"/\":\n",
    "        return (str(a)+ \" / \"+ str(b)+ \" = \"+str(a/b))\n",
    "    if islem== \"*\":\n",
    "        return (str(a)+ \" * \"+ str(b)+ \" = \"+str(a*b))\n",
    "\n",
    "a = int(input(\"Please type first number: \"))\n",
    "b= int(input(\"Please type second number: \"))\n",
    "islem= input(\"Please choose your operation: +, -, *, /\")\n",
    "calculator(a,b,islem)"
   ]
  },
  {
   "cell_type": "code",
   "execution_count": null,
   "id": "2e110d2a",
   "metadata": {},
   "outputs": [],
   "source": []
  }
 ],
 "metadata": {
  "kernelspec": {
   "display_name": "Python 3",
   "language": "python",
   "name": "python3"
  },
  "language_info": {
   "codemirror_mode": {
    "name": "ipython",
    "version": 3
   },
   "file_extension": ".py",
   "mimetype": "text/x-python",
   "name": "python",
   "nbconvert_exporter": "python",
   "pygments_lexer": "ipython3",
   "version": "3.8.8"
  }
 },
 "nbformat": 4,
 "nbformat_minor": 5
}
