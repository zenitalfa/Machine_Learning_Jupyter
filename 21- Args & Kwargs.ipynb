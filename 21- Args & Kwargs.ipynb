{
 "cells": [
  {
   "cell_type": "markdown",
   "id": "b58e30e5",
   "metadata": {},
   "source": [
    "## Args & Kwargs"
   ]
  },
  {
   "cell_type": "code",
   "execution_count": 1,
   "id": "774f863e",
   "metadata": {},
   "outputs": [],
   "source": [
    "# arguments and keyword arguments"
   ]
  },
  {
   "cell_type": "code",
   "execution_count": 4,
   "id": "61ce604f",
   "metadata": {},
   "outputs": [
    {
     "data": {
      "text/plain": [
       "110"
      ]
     },
     "execution_count": 4,
     "metadata": {},
     "output_type": "execute_result"
    }
   ],
   "source": [
    "def argToplama(*args): # buradaki * işareti istenilen kadar giriş olabileceğini gösterir\n",
    "    return sum(args)\n",
    "\n",
    "sonuc = argToplama(12, 21, 19, 18, 40) # return ile fonksiyon yeni bir değişkene atandı\n",
    "sonuc"
   ]
  },
  {
   "cell_type": "markdown",
   "id": "3db0745e",
   "metadata": {},
   "source": [
    "## **kwargs , dictionary return eder"
   ]
  },
  {
   "cell_type": "code",
   "execution_count": 7,
   "id": "553c5180",
   "metadata": {},
   "outputs": [],
   "source": [
    "def keywordkontrol(**kwargs):\n",
    "    if 5 or \"never give up\" in kwargs:\n",
    "        print(\"you know the fact: work hard and get what you want\")\n",
    "    elif \"zenit\" in kwargs:\n",
    "        print(\"zenit, don't waste your time\")\n",
    "    else:\n",
    "        print(\"be wiser\")"
   ]
  },
  {
   "cell_type": "code",
   "execution_count": 8,
   "id": "43b70a2d",
   "metadata": {},
   "outputs": [
    {
     "name": "stdout",
     "output_type": "stream",
     "text": [
      "you know the fact: work hard and get what you want\n"
     ]
    }
   ],
   "source": [
    "keywordkontrol(never=5, platin= 19, workhard= \"always\" )"
   ]
  },
  {
   "cell_type": "code",
   "execution_count": null,
   "id": "1e665499",
   "metadata": {},
   "outputs": [],
   "source": []
  }
 ],
 "metadata": {
  "kernelspec": {
   "display_name": "Python 3",
   "language": "python",
   "name": "python3"
  },
  "language_info": {
   "codemirror_mode": {
    "name": "ipython",
    "version": 3
   },
   "file_extension": ".py",
   "mimetype": "text/x-python",
   "name": "python",
   "nbconvert_exporter": "python",
   "pygments_lexer": "ipython3",
   "version": "3.8.8"
  }
 },
 "nbformat": 4,
 "nbformat_minor": 5
}
