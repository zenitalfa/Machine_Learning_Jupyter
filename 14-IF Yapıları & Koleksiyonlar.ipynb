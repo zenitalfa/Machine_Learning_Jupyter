{
 "cells": [
  {
   "cell_type": "markdown",
   "id": "d6d908f1",
   "metadata": {},
   "source": [
    "## Örnek- if & string "
   ]
  },
  {
   "cell_type": "code",
   "execution_count": 1,
   "id": "b16c0b15",
   "metadata": {},
   "outputs": [],
   "source": [
    "stringDeneme = \"just work hard for the future\""
   ]
  },
  {
   "cell_type": "code",
   "execution_count": 2,
   "id": "e2eebaef",
   "metadata": {},
   "outputs": [
    {
     "name": "stdout",
     "output_type": "stream",
     "text": [
      "never ever give up\n"
     ]
    }
   ],
   "source": [
    "if \"future\" in stringDeneme:\n",
    "    print(\"never ever give up\")\n",
    "else:\n",
    "    print(\"never give up Zenit\")"
   ]
  },
  {
   "cell_type": "markdown",
   "id": "d08bbb87",
   "metadata": {},
   "source": [
    "## İf & liste örnek"
   ]
  },
  {
   "cell_type": "code",
   "execution_count": 8,
   "id": "f463b64b",
   "metadata": {},
   "outputs": [],
   "source": [
    "listeDeneme= [\"work hard\", 19,0,13,\"be wiser and wiser\"]"
   ]
  },
  {
   "cell_type": "code",
   "execution_count": 9,
   "id": "0447c11c",
   "metadata": {},
   "outputs": [
    {
     "data": {
      "text/plain": [
       "['work hard', 19, 0, 13, 'be wiser and wiser']"
      ]
     },
     "execution_count": 9,
     "metadata": {},
     "output_type": "execute_result"
    }
   ],
   "source": [
    "listeDeneme"
   ]
  },
  {
   "cell_type": "code",
   "execution_count": 10,
   "id": "6c6a6cc4",
   "metadata": {},
   "outputs": [
    {
     "name": "stdout",
     "output_type": "stream",
     "text": [
      "be wiser\n"
     ]
    }
   ],
   "source": [
    "if \"wiser\" in listeDeneme:\n",
    "    print(\"just work more\")\n",
    "else:\n",
    "    print(\"be wiser\")"
   ]
  },
  {
   "cell_type": "code",
   "execution_count": 12,
   "id": "ea95c25e",
   "metadata": {},
   "outputs": [
    {
     "name": "stdout",
     "output_type": "stream",
     "text": [
      "Zenit,wake up\n"
     ]
    }
   ],
   "source": [
    "if 13 in listeDeneme: \n",
    "    print(\"Zenit,wake up\")\n",
    "else:\n",
    "    print(\"wake up!\")"
   ]
  },
  {
   "cell_type": "markdown",
   "id": "faf0a5c1",
   "metadata": {},
   "source": [
    "## İf & Dictionary"
   ]
  },
  {
   "cell_type": "code",
   "execution_count": 14,
   "id": "960ea97b",
   "metadata": {},
   "outputs": [],
   "source": [
    "dictDeneme= {\"work\": 23, \"more\": 112, \"zenit\": 1243}"
   ]
  },
  {
   "cell_type": "code",
   "execution_count": 15,
   "id": "316b18fe",
   "metadata": {},
   "outputs": [
    {
     "data": {
      "text/plain": [
       "{'work': 23, 'more': 112, 'zenit': 1243}"
      ]
     },
     "execution_count": 15,
     "metadata": {},
     "output_type": "execute_result"
    }
   ],
   "source": [
    "dictDeneme"
   ]
  },
  {
   "cell_type": "code",
   "execution_count": 17,
   "id": "1ab899db",
   "metadata": {},
   "outputs": [
    {
     "data": {
      "text/plain": [
       "dict_keys(['work', 'more', 'zenit'])"
      ]
     },
     "execution_count": 17,
     "metadata": {},
     "output_type": "execute_result"
    }
   ],
   "source": [
    "dictDeneme.keys()"
   ]
  },
  {
   "cell_type": "code",
   "execution_count": 18,
   "id": "a6579e65",
   "metadata": {},
   "outputs": [
    {
     "data": {
      "text/plain": [
       "dict_values([23, 112, 1243])"
      ]
     },
     "execution_count": 18,
     "metadata": {},
     "output_type": "execute_result"
    }
   ],
   "source": [
    "dictDeneme.values()"
   ]
  },
  {
   "cell_type": "markdown",
   "id": "4b3e2f73",
   "metadata": {},
   "source": [
    "## if ile value-key değerlerini kullanabiliriz!"
   ]
  },
  {
   "cell_type": "code",
   "execution_count": 19,
   "id": "632ea152",
   "metadata": {},
   "outputs": [
    {
     "name": "stdout",
     "output_type": "stream",
     "text": [
      "you are the most\n"
     ]
    }
   ],
   "source": [
    "if \"zenit\" in dictDeneme.keys():\n",
    "    print(\"you are the most\")\n",
    "else:\n",
    "    print(\"get back to 12\")"
   ]
  },
  {
   "cell_type": "code",
   "execution_count": 20,
   "id": "5ceaf480",
   "metadata": {},
   "outputs": [
    {
     "name": "stdout",
     "output_type": "stream",
     "text": [
      "get back 12\n"
     ]
    }
   ],
   "source": [
    "if 1243 in dictDeneme.values():\n",
    "    print(\"get back 12\")\n",
    "else:\n",
    "    print(\"get back earlier\")"
   ]
  },
  {
   "cell_type": "code",
   "execution_count": null,
   "id": "8b863b3c",
   "metadata": {},
   "outputs": [],
   "source": []
  }
 ],
 "metadata": {
  "kernelspec": {
   "display_name": "Python 3",
   "language": "python",
   "name": "python3"
  },
  "language_info": {
   "codemirror_mode": {
    "name": "ipython",
    "version": 3
   },
   "file_extension": ".py",
   "mimetype": "text/x-python",
   "name": "python",
   "nbconvert_exporter": "python",
   "pygments_lexer": "ipython3",
   "version": "3.8.8"
  }
 },
 "nbformat": 4,
 "nbformat_minor": 5
}
