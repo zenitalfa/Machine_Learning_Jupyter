{
 "cells": [
  {
   "cell_type": "markdown",
   "id": "6f610bba",
   "metadata": {},
   "source": [
    "## Series Özellikleri"
   ]
  },
  {
   "cell_type": "code",
   "execution_count": 3,
   "id": "0b3a7b0d",
   "metadata": {},
   "outputs": [],
   "source": [
    "import numpy as np\n",
    "import pandas as pd"
   ]
  },
  {
   "cell_type": "code",
   "execution_count": 4,
   "id": "742f8eda",
   "metadata": {},
   "outputs": [],
   "source": [
    "benimSozluk = {\"Zenit\": 29, \"Gizem\": 35, \"Orhan\" : 42}"
   ]
  },
  {
   "cell_type": "code",
   "execution_count": 5,
   "id": "3acfa415",
   "metadata": {},
   "outputs": [],
   "source": [
    "benimSeri = pd.Series(benimSozluk)"
   ]
  },
  {
   "cell_type": "markdown",
   "id": "c3a11247",
   "metadata": {},
   "source": [
    "benimSeri"
   ]
  },
  {
   "cell_type": "code",
   "execution_count": 7,
   "id": "60da22ae",
   "metadata": {},
   "outputs": [
    {
     "data": {
      "text/plain": [
       "Zenit    40\n",
       "Gizem    46\n",
       "Orhan    53\n",
       "dtype: int64"
      ]
     },
     "execution_count": 7,
     "metadata": {},
     "output_type": "execute_result"
    }
   ],
   "source": [
    "benimSeri.add(11)"
   ]
  },
  {
   "cell_type": "code",
   "execution_count": 8,
   "id": "276d5387",
   "metadata": {},
   "outputs": [
    {
     "data": {
      "text/plain": [
       "42"
      ]
     },
     "execution_count": 8,
     "metadata": {},
     "output_type": "execute_result"
    }
   ],
   "source": [
    "benimSeri.max()"
   ]
  },
  {
   "cell_type": "code",
   "execution_count": 11,
   "id": "14671af7",
   "metadata": {},
   "outputs": [
    {
     "data": {
      "text/plain": [
       "1     Yiğit\n",
       "2    reyhan\n",
       "3    Sercan\n",
       "dtype: object"
      ]
     },
     "execution_count": 11,
     "metadata": {},
     "output_type": "execute_result"
    }
   ],
   "source": [
    "# Serilerde veri string yapıları da olabilir\n",
    "pd.Series([\"Yiğit\", \"reyhan\",\"Sercan\"], [1,2,3]) # indeksleri biz belirledik ve data ise string yapıda"
   ]
  },
  {
   "cell_type": "markdown",
   "id": "84a0824b",
   "metadata": {},
   "source": [
    "## Örnek"
   ]
  },
  {
   "cell_type": "code",
   "execution_count": 12,
   "id": "75042063",
   "metadata": {},
   "outputs": [],
   "source": [
    "yarismaSonucu1 = pd.Series([10,5,1], [\"Yiğit\", \"Reyhan\",\"Sercan\"])"
   ]
  },
  {
   "cell_type": "code",
   "execution_count": 13,
   "id": "d0890816",
   "metadata": {},
   "outputs": [
    {
     "data": {
      "text/plain": [
       "Yiğit     10\n",
       "Reyhan     5\n",
       "Sercan     1\n",
       "dtype: int64"
      ]
     },
     "execution_count": 13,
     "metadata": {},
     "output_type": "execute_result"
    }
   ],
   "source": [
    "yarismaSonucu1"
   ]
  },
  {
   "cell_type": "code",
   "execution_count": 14,
   "id": "b0112ddf",
   "metadata": {},
   "outputs": [],
   "source": [
    "yarismaSonucu2 = pd.Series([20,10,8],[\"Yiğit\", \"Reyhan\",\"Sercan\"])"
   ]
  },
  {
   "cell_type": "code",
   "execution_count": 15,
   "id": "1b657e27",
   "metadata": {},
   "outputs": [
    {
     "data": {
      "text/plain": [
       "Yiğit     20\n",
       "Reyhan    10\n",
       "Sercan     8\n",
       "dtype: int64"
      ]
     },
     "execution_count": 15,
     "metadata": {},
     "output_type": "execute_result"
    }
   ],
   "source": [
    "yarismaSonucu2"
   ]
  },
  {
   "cell_type": "code",
   "execution_count": 16,
   "id": "cdc6e59c",
   "metadata": {},
   "outputs": [],
   "source": [
    "# içeriden veri çekmek için indeks yazılır, burada indeksler string yapıda, dikkat"
   ]
  },
  {
   "cell_type": "code",
   "execution_count": 18,
   "id": "19070a9d",
   "metadata": {},
   "outputs": [
    {
     "data": {
      "text/plain": [
       "5"
      ]
     },
     "execution_count": 18,
     "metadata": {},
     "output_type": "execute_result"
    }
   ],
   "source": [
    "yarismaSonucu1[\"Reyhan\"]"
   ]
  },
  {
   "cell_type": "markdown",
   "id": "0b2e3e64",
   "metadata": {},
   "source": [
    "## İki seri toplanabilir"
   ]
  },
  {
   "cell_type": "code",
   "execution_count": 19,
   "id": "2ec5d539",
   "metadata": {},
   "outputs": [],
   "source": [
    "sonSonuc = yarismaSonucu1 + yarismaSonucu2 # iki seri toplanabilir"
   ]
  },
  {
   "cell_type": "code",
   "execution_count": 20,
   "id": "853243d6",
   "metadata": {},
   "outputs": [
    {
     "data": {
      "text/plain": [
       "Yiğit     30\n",
       "Reyhan    15\n",
       "Sercan     9\n",
       "dtype: int64"
      ]
     },
     "execution_count": 20,
     "metadata": {},
     "output_type": "execute_result"
    }
   ],
   "source": [
    "sonSonuc"
   ]
  },
  {
   "cell_type": "markdown",
   "id": "601ba287",
   "metadata": {},
   "source": [
    "## Örnek"
   ]
  },
  {
   "cell_type": "code",
   "execution_count": 22,
   "id": "a8804c5e",
   "metadata": {},
   "outputs": [],
   "source": [
    "yeniSeri1 = pd.Series([20,30,40,50], [\"a\", \"b\",\"c\",\"d\"])"
   ]
  },
  {
   "cell_type": "code",
   "execution_count": 23,
   "id": "c64823be",
   "metadata": {},
   "outputs": [],
   "source": [
    "yeniSeri2 = pd.Series([10,5,3,1], [\"a\", \"c\",\"f\",\"g\"])"
   ]
  },
  {
   "cell_type": "code",
   "execution_count": 26,
   "id": "beb0d850",
   "metadata": {},
   "outputs": [
    {
     "data": {
      "text/plain": [
       "a    30.0\n",
       "b     NaN\n",
       "c    45.0\n",
       "d     NaN\n",
       "f     NaN\n",
       "g     NaN\n",
       "dtype: float64"
      ]
     },
     "execution_count": 26,
     "metadata": {},
     "output_type": "execute_result"
    }
   ],
   "source": [
    "yeniSeri1 + yeniSeri2 # sadece birbirleriyle kesiştiği indeksleri toplar"
   ]
  },
  {
   "cell_type": "code",
   "execution_count": null,
   "id": "de078013",
   "metadata": {},
   "outputs": [],
   "source": []
  }
 ],
 "metadata": {
  "kernelspec": {
   "display_name": "Python 3",
   "language": "python",
   "name": "python3"
  },
  "language_info": {
   "codemirror_mode": {
    "name": "ipython",
    "version": 3
   },
   "file_extension": ".py",
   "mimetype": "text/x-python",
   "name": "python",
   "nbconvert_exporter": "python",
   "pygments_lexer": "ipython3",
   "version": "3.8.8"
  }
 },
 "nbformat": 4,
 "nbformat_minor": 5
}
