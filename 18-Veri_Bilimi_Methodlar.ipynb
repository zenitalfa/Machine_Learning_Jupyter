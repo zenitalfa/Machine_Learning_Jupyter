{
 "cells": [
  {
   "cell_type": "markdown",
   "id": "4b41b4a2",
   "metadata": {},
   "source": [
    "## range() metodu"
   ]
  },
  {
   "cell_type": "code",
   "execution_count": 1,
   "id": "8bc60648",
   "metadata": {},
   "outputs": [
    {
     "data": {
      "text/plain": [
       "range(0, 15)"
      ]
     },
     "execution_count": 1,
     "metadata": {},
     "output_type": "execute_result"
    }
   ],
   "source": [
    "range(15)"
   ]
  },
  {
   "cell_type": "code",
   "execution_count": 3,
   "id": "0f6b2d3b",
   "metadata": {},
   "outputs": [
    {
     "data": {
      "text/plain": [
       "[0, 1, 2, 3, 4, 5, 6, 7, 8, 9, 10, 11, 12, 13, 14]"
      ]
     },
     "execution_count": 3,
     "metadata": {},
     "output_type": "execute_result"
    }
   ],
   "source": [
    "list(range(15)) # list ile birlikte kullanılırsa liste oluşturabiliriz"
   ]
  },
  {
   "cell_type": "code",
   "execution_count": 5,
   "id": "28c3475f",
   "metadata": {},
   "outputs": [
    {
     "data": {
      "text/plain": [
       "(0, 1, 2, 3, 4, 5, 6, 7, 8, 9, 10, 11, 12, 13, 14)"
      ]
     },
     "execution_count": 5,
     "metadata": {},
     "output_type": "execute_result"
    }
   ],
   "source": [
    "tuple(range(15)) # tuple oluşturabiliriz"
   ]
  },
  {
   "cell_type": "markdown",
   "id": "a0c3daae",
   "metadata": {},
   "source": [
    "## range(start,stop,step)"
   ]
  },
  {
   "cell_type": "code",
   "execution_count": 6,
   "id": "ba696e60",
   "metadata": {},
   "outputs": [
    {
     "data": {
      "text/plain": [
       "range(1, 4, 37)"
      ]
     },
     "execution_count": 6,
     "metadata": {},
     "output_type": "execute_result"
    }
   ],
   "source": [
    "range(1,37,4)"
   ]
  },
  {
   "cell_type": "code",
   "execution_count": 8,
   "id": "f3706bab",
   "metadata": {},
   "outputs": [
    {
     "data": {
      "text/plain": [
       "[1, 5, 9, 13, 17, 21, 25, 29, 33]"
      ]
     },
     "execution_count": 8,
     "metadata": {},
     "output_type": "execute_result"
    }
   ],
   "source": [
    "list(range(1,37,4))"
   ]
  },
  {
   "cell_type": "markdown",
   "id": "6085d0c1",
   "metadata": {},
   "source": [
    "## Enumerate"
   ]
  },
  {
   "cell_type": "code",
   "execution_count": 1,
   "id": "7eed3b62",
   "metadata": {},
   "outputs": [
    {
     "name": "stdout",
     "output_type": "stream",
     "text": [
      "numara değeri: 4 ve indeks değeri: 0\n",
      "numara değeri: 5 ve indeks değeri: 1\n",
      "numara değeri: 6 ve indeks değeri: 2\n",
      "numara değeri: 7 ve indeks değeri: 3\n",
      "numara değeri: 8 ve indeks değeri: 4\n",
      "numara değeri: 9 ve indeks değeri: 5\n",
      "numara değeri: 10 ve indeks değeri: 6\n",
      "numara değeri: 11 ve indeks değeri: 7\n",
      "numara değeri: 12 ve indeks değeri: 8\n",
      "numara değeri: 13 ve indeks değeri: 9\n",
      "numara değeri: 14 ve indeks değeri: 10\n",
      "numara değeri: 15 ve indeks değeri: 11\n",
      "numara değeri: 16 ve indeks değeri: 12\n",
      "numara değeri: 17 ve indeks değeri: 13\n",
      "numara değeri: 18 ve indeks değeri: 14\n",
      "numara değeri: 19 ve indeks değeri: 15\n",
      "numara değeri: 20 ve indeks değeri: 16\n"
     ]
    }
   ],
   "source": [
    "# Bize döngü içerisinde indeksi de verir\n",
    "# Manuel yöntem\n",
    "index = 0\n",
    "for numara in list(range(4,21)):\n",
    "    print(f\"numara değeri: {numara} ve indeks değeri: {index}\")\n",
    "    index = index+ 1"
   ]
  },
  {
   "cell_type": "markdown",
   "id": "a4920da4",
   "metadata": {},
   "source": [
    "## Enumerate ile birlikte ise"
   ]
  },
  {
   "cell_type": "code",
   "execution_count": 4,
   "id": "1262407b",
   "metadata": {},
   "outputs": [
    {
     "name": "stdout",
     "output_type": "stream",
     "text": [
      "number value is : (0, 1)\n",
      "number value is : (1, 2)\n",
      "number value is : (2, 3)\n",
      "number value is : (3, 4)\n",
      "number value is : (4, 5)\n",
      "number value is : (5, 6)\n",
      "number value is : (6, 7)\n",
      "number value is : (7, 8)\n",
      "number value is : (8, 9)\n",
      "number value is : (9, 10)\n",
      "number value is : (10, 11)\n",
      "number value is : (11, 12)\n",
      "number value is : (12, 13)\n",
      "number value is : (13, 14)\n",
      "number value is : (14, 15)\n",
      "number value is : (15, 16)\n",
      "number value is : (16, 17)\n",
      "number value is : (17, 18)\n",
      "number value is : (18, 19)\n",
      "number value is : (19, 20)\n"
     ]
    }
   ],
   "source": [
    "for number in enumerate(list(range(1,21))):\n",
    "    print(f\"number value is : {number}\")\n",
    "    \n",
    "# burada indeksleriyle beraber verildi, Enumerate bu işi yaramakta"
   ]
  },
  {
   "cell_type": "code",
   "execution_count": 6,
   "id": "17fac021",
   "metadata": {},
   "outputs": [
    {
     "name": "stdout",
     "output_type": "stream",
     "text": [
      "0\n",
      "1\n",
      "1\n",
      "2\n",
      "2\n",
      "3\n",
      "3\n",
      "4\n",
      "4\n",
      "5\n",
      "5\n",
      "6\n",
      "6\n",
      "7\n",
      "7\n",
      "8\n",
      "8\n",
      "9\n",
      "9\n",
      "10\n",
      "10\n",
      "11\n",
      "11\n",
      "12\n",
      "12\n",
      "13\n",
      "13\n",
      "14\n",
      "14\n",
      "15\n",
      "15\n",
      "16\n",
      "16\n",
      "17\n",
      "17\n",
      "18\n",
      "18\n",
      "19\n",
      "19\n",
      "20\n"
     ]
    }
   ],
   "source": [
    "for (sayi, index) in enumerate(list(range(1,21))):\n",
    "    print(sayi)\n",
    "    print(index) # bu şekilde bir index,sayı matrisi oluşturulabilir"
   ]
  },
  {
   "cell_type": "code",
   "execution_count": null,
   "id": "8c7ee2e8",
   "metadata": {},
   "outputs": [],
   "source": []
  }
 ],
 "metadata": {
  "kernelspec": {
   "display_name": "Python 3",
   "language": "python",
   "name": "python3"
  },
  "language_info": {
   "codemirror_mode": {
    "name": "ipython",
    "version": 3
   },
   "file_extension": ".py",
   "mimetype": "text/x-python",
   "name": "python",
   "nbconvert_exporter": "python",
   "pygments_lexer": "ipython3",
   "version": "3.8.8"
  }
 },
 "nbformat": 4,
 "nbformat_minor": 5
}
