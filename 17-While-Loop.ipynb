{
 "cells": [
  {
   "cell_type": "code",
   "execution_count": 11,
   "id": "52d9de89",
   "metadata": {},
   "outputs": [],
   "source": [
    "a = 7\n",
    "while a<10:\n",
    "    print(\"never give up\")\n",
    "    print(a)\n",
    "    a= a+1"
   ]
  },
  {
   "cell_type": "markdown",
   "id": "666f50f6",
   "metadata": {},
   "source": [
    "## Liste oluşturuldu "
   ]
  },
  {
   "cell_type": "code",
   "execution_count": 13,
   "id": "5ab9b3ad",
   "metadata": {},
   "outputs": [],
   "source": [
    "list1 = [1,2,3,4,5,6,7,8]"
   ]
  },
  {
   "cell_type": "code",
   "execution_count": 14,
   "id": "17ab9070",
   "metadata": {},
   "outputs": [
    {
     "data": {
      "text/plain": [
       "8"
      ]
     },
     "execution_count": 14,
     "metadata": {},
     "output_type": "execute_result"
    }
   ],
   "source": [
    "list1.pop() 3 listenin son elemanını çıkartır"
   ]
  },
  {
   "cell_type": "code",
   "execution_count": 15,
   "id": "307ec396",
   "metadata": {},
   "outputs": [
    {
     "data": {
      "text/plain": [
       "[1, 2, 3, 4, 5, 6, 7]"
      ]
     },
     "execution_count": 15,
     "metadata": {},
     "output_type": "execute_result"
    }
   ],
   "source": [
    "list1 # 8 elemanı listeden çıkartıldı"
   ]
  },
  {
   "cell_type": "code",
   "execution_count": 16,
   "id": "db15bb5c",
   "metadata": {},
   "outputs": [],
   "source": [
    "list1.append(8) # 8 geri eklendi"
   ]
  },
  {
   "cell_type": "code",
   "execution_count": 17,
   "id": "b47ceaf4",
   "metadata": {},
   "outputs": [
    {
     "data": {
      "text/plain": [
       "[1, 2, 3, 4, 5, 6, 7, 8]"
      ]
     },
     "execution_count": 17,
     "metadata": {},
     "output_type": "execute_result"
    }
   ],
   "source": [
    "list1"
   ]
  },
  {
   "cell_type": "markdown",
   "id": "b4e7aa43",
   "metadata": {},
   "source": [
    "## While & Listeler"
   ]
  },
  {
   "cell_type": "code",
   "execution_count": 18,
   "id": "c2243549",
   "metadata": {},
   "outputs": [
    {
     "name": "stdout",
     "output_type": "stream",
     "text": [
      "8 listede\n"
     ]
    }
   ],
   "source": [
    "while 8 in list1:\n",
    "    print(\"8 listede\")\n",
    "    break"
   ]
  },
  {
   "cell_type": "code",
   "execution_count": 19,
   "id": "ab60b3a8",
   "metadata": {},
   "outputs": [
    {
     "name": "stdout",
     "output_type": "stream",
     "text": [
      "Numara değeri: 3\n",
      "Numara değeri: 4\n",
      "Numara değeri: 5\n",
      "Numara değeri: 6\n",
      "Numara değeri: 7\n",
      "Numara değeri: 8\n",
      "Numara değeri: 9\n"
     ]
    }
   ],
   "source": [
    "numara = 3\n",
    "while numara<10:\n",
    "    print(\"Numara değeri: \"+ str(numara))\n",
    "    numara= numara + 1"
   ]
  },
  {
   "cell_type": "markdown",
   "id": "bf9bfea8",
   "metadata": {},
   "source": [
    "## Diğer yöntem- string+ int için"
   ]
  },
  {
   "cell_type": "code",
   "execution_count": 1,
   "id": "310b59df",
   "metadata": {},
   "outputs": [
    {
     "name": "stdout",
     "output_type": "stream",
     "text": [
      "No şu değere eşittir: 2\n",
      "No şu değere eşittir: 3\n",
      "No şu değere eşittir: 4\n",
      "No şu değere eşittir: 5\n",
      "No şu değere eşittir: 6\n",
      "No şu değere eşittir: 7\n",
      "No şu değere eşittir: 8\n",
      "No şu değere eşittir: 9\n",
      "No şu değere eşittir: 10\n",
      "No şu değere eşittir: 11\n",
      "No şu değere eşittir: 12\n"
     ]
    }
   ],
   "source": [
    "no = 2\n",
    "while no<13:\n",
    "    print(f\"No şu değere eşittir: {no}\")\n",
    "    no = no + 1"
   ]
  },
  {
   "cell_type": "code",
   "execution_count": null,
   "id": "fe870df4",
   "metadata": {},
   "outputs": [],
   "source": []
  }
 ],
 "metadata": {
  "kernelspec": {
   "display_name": "Python 3",
   "language": "python",
   "name": "python3"
  },
  "language_info": {
   "codemirror_mode": {
    "name": "ipython",
    "version": 3
   },
   "file_extension": ".py",
   "mimetype": "text/x-python",
   "name": "python",
   "nbconvert_exporter": "python",
   "pygments_lexer": "ipython3",
   "version": "3.8.8"
  }
 },
 "nbformat": 4,
 "nbformat_minor": 5
}
