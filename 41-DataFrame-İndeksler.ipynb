{
 "cells": [
  {
   "cell_type": "markdown",
   "id": "89141aa3",
   "metadata": {},
   "source": [
    "## DataFrame İndeksler"
   ]
  },
  {
   "cell_type": "markdown",
   "id": "be9e6891",
   "metadata": {},
   "source": [
    "## 1- yeni kolon ekleme"
   ]
  },
  {
   "cell_type": "code",
   "execution_count": 1,
   "id": "c9cf0c5c",
   "metadata": {},
   "outputs": [],
   "source": [
    "import numpy as np\n",
    "import pandas as pd"
   ]
  },
  {
   "cell_type": "code",
   "execution_count": 2,
   "id": "f2568258",
   "metadata": {},
   "outputs": [],
   "source": [
    "data = np.random.randn(4,3)"
   ]
  },
  {
   "cell_type": "code",
   "execution_count": 3,
   "id": "5a7511a1",
   "metadata": {},
   "outputs": [],
   "source": [
    "dataFrame = pd.DataFrame(data, index = [\"Yiğit\",\"Sercan\",\"Reyhan\",\"Şevki\"], columns=[\"Yaş\",\"iş\",\"Maaş\"])"
   ]
  },
  {
   "cell_type": "code",
   "execution_count": 4,
   "id": "1c06ab54",
   "metadata": {},
   "outputs": [
    {
     "data": {
      "text/html": [
       "<div>\n",
       "<style scoped>\n",
       "    .dataframe tbody tr th:only-of-type {\n",
       "        vertical-align: middle;\n",
       "    }\n",
       "\n",
       "    .dataframe tbody tr th {\n",
       "        vertical-align: top;\n",
       "    }\n",
       "\n",
       "    .dataframe thead th {\n",
       "        text-align: right;\n",
       "    }\n",
       "</style>\n",
       "<table border=\"1\" class=\"dataframe\">\n",
       "  <thead>\n",
       "    <tr style=\"text-align: right;\">\n",
       "      <th></th>\n",
       "      <th>Yaş</th>\n",
       "      <th>iş</th>\n",
       "      <th>Maaş</th>\n",
       "    </tr>\n",
       "  </thead>\n",
       "  <tbody>\n",
       "    <tr>\n",
       "      <th>Yiğit</th>\n",
       "      <td>0.728124</td>\n",
       "      <td>-1.915883</td>\n",
       "      <td>1.011296</td>\n",
       "    </tr>\n",
       "    <tr>\n",
       "      <th>Sercan</th>\n",
       "      <td>-0.007990</td>\n",
       "      <td>1.654855</td>\n",
       "      <td>0.836080</td>\n",
       "    </tr>\n",
       "    <tr>\n",
       "      <th>Reyhan</th>\n",
       "      <td>-0.412708</td>\n",
       "      <td>-0.512368</td>\n",
       "      <td>-0.492226</td>\n",
       "    </tr>\n",
       "    <tr>\n",
       "      <th>Şevki</th>\n",
       "      <td>0.801277</td>\n",
       "      <td>-0.843425</td>\n",
       "      <td>0.090236</td>\n",
       "    </tr>\n",
       "  </tbody>\n",
       "</table>\n",
       "</div>"
      ],
      "text/plain": [
       "             Yaş        iş      Maaş\n",
       "Yiğit   0.728124 -1.915883  1.011296\n",
       "Sercan -0.007990  1.654855  0.836080\n",
       "Reyhan -0.412708 -0.512368 -0.492226\n",
       "Şevki   0.801277 -0.843425  0.090236"
      ]
     },
     "execution_count": 4,
     "metadata": {},
     "output_type": "execute_result"
    }
   ],
   "source": [
    "dataFrame"
   ]
  },
  {
   "cell_type": "code",
   "execution_count": 5,
   "id": "181a88b2",
   "metadata": {},
   "outputs": [],
   "source": [
    "dataFrame[\"Emeklilik\"] = dataFrame[\"Yaş\"] + dataFrame[\"Yaş\"] # aynı iki column birbirine eklendi"
   ]
  },
  {
   "cell_type": "code",
   "execution_count": 6,
   "id": "616824d2",
   "metadata": {},
   "outputs": [
    {
     "data": {
      "text/html": [
       "<div>\n",
       "<style scoped>\n",
       "    .dataframe tbody tr th:only-of-type {\n",
       "        vertical-align: middle;\n",
       "    }\n",
       "\n",
       "    .dataframe tbody tr th {\n",
       "        vertical-align: top;\n",
       "    }\n",
       "\n",
       "    .dataframe thead th {\n",
       "        text-align: right;\n",
       "    }\n",
       "</style>\n",
       "<table border=\"1\" class=\"dataframe\">\n",
       "  <thead>\n",
       "    <tr style=\"text-align: right;\">\n",
       "      <th></th>\n",
       "      <th>Yaş</th>\n",
       "      <th>iş</th>\n",
       "      <th>Maaş</th>\n",
       "      <th>Emeklilik</th>\n",
       "    </tr>\n",
       "  </thead>\n",
       "  <tbody>\n",
       "    <tr>\n",
       "      <th>Yiğit</th>\n",
       "      <td>0.728124</td>\n",
       "      <td>-1.915883</td>\n",
       "      <td>1.011296</td>\n",
       "      <td>1.456247</td>\n",
       "    </tr>\n",
       "    <tr>\n",
       "      <th>Sercan</th>\n",
       "      <td>-0.007990</td>\n",
       "      <td>1.654855</td>\n",
       "      <td>0.836080</td>\n",
       "      <td>-0.015979</td>\n",
       "    </tr>\n",
       "    <tr>\n",
       "      <th>Reyhan</th>\n",
       "      <td>-0.412708</td>\n",
       "      <td>-0.512368</td>\n",
       "      <td>-0.492226</td>\n",
       "      <td>-0.825416</td>\n",
       "    </tr>\n",
       "    <tr>\n",
       "      <th>Şevki</th>\n",
       "      <td>0.801277</td>\n",
       "      <td>-0.843425</td>\n",
       "      <td>0.090236</td>\n",
       "      <td>1.602555</td>\n",
       "    </tr>\n",
       "  </tbody>\n",
       "</table>\n",
       "</div>"
      ],
      "text/plain": [
       "             Yaş        iş      Maaş  Emeklilik\n",
       "Yiğit   0.728124 -1.915883  1.011296   1.456247\n",
       "Sercan -0.007990  1.654855  0.836080  -0.015979\n",
       "Reyhan -0.412708 -0.512368 -0.492226  -0.825416\n",
       "Şevki   0.801277 -0.843425  0.090236   1.602555"
      ]
     },
     "execution_count": 6,
     "metadata": {},
     "output_type": "execute_result"
    }
   ],
   "source": [
    "dataFrame"
   ]
  },
  {
   "cell_type": "code",
   "execution_count": 7,
   "id": "64e03908",
   "metadata": {},
   "outputs": [
    {
     "data": {
      "text/plain": [
       "Yiğit    -1.915883\n",
       "Sercan    1.654855\n",
       "Reyhan   -0.512368\n",
       "Şevki    -0.843425\n",
       "Name: iş, dtype: float64"
      ]
     },
     "execution_count": 7,
     "metadata": {},
     "output_type": "execute_result"
    }
   ],
   "source": [
    "dataFrame[\"iş\"]"
   ]
  },
  {
   "cell_type": "markdown",
   "id": "41750e7f",
   "metadata": {},
   "source": [
    "## DROP- bir columnu düşürebiliriz dataFrame.drop()"
   ]
  },
  {
   "cell_type": "code",
   "execution_count": 10,
   "id": "e3e935e7",
   "metadata": {},
   "outputs": [
    {
     "data": {
      "text/html": [
       "<div>\n",
       "<style scoped>\n",
       "    .dataframe tbody tr th:only-of-type {\n",
       "        vertical-align: middle;\n",
       "    }\n",
       "\n",
       "    .dataframe tbody tr th {\n",
       "        vertical-align: top;\n",
       "    }\n",
       "\n",
       "    .dataframe thead th {\n",
       "        text-align: right;\n",
       "    }\n",
       "</style>\n",
       "<table border=\"1\" class=\"dataframe\">\n",
       "  <thead>\n",
       "    <tr style=\"text-align: right;\">\n",
       "      <th></th>\n",
       "      <th>Yaş</th>\n",
       "      <th>iş</th>\n",
       "      <th>Maaş</th>\n",
       "    </tr>\n",
       "  </thead>\n",
       "  <tbody>\n",
       "    <tr>\n",
       "      <th>Yiğit</th>\n",
       "      <td>0.728124</td>\n",
       "      <td>-1.915883</td>\n",
       "      <td>1.011296</td>\n",
       "    </tr>\n",
       "    <tr>\n",
       "      <th>Sercan</th>\n",
       "      <td>-0.007990</td>\n",
       "      <td>1.654855</td>\n",
       "      <td>0.836080</td>\n",
       "    </tr>\n",
       "    <tr>\n",
       "      <th>Reyhan</th>\n",
       "      <td>-0.412708</td>\n",
       "      <td>-0.512368</td>\n",
       "      <td>-0.492226</td>\n",
       "    </tr>\n",
       "    <tr>\n",
       "      <th>Şevki</th>\n",
       "      <td>0.801277</td>\n",
       "      <td>-0.843425</td>\n",
       "      <td>0.090236</td>\n",
       "    </tr>\n",
       "  </tbody>\n",
       "</table>\n",
       "</div>"
      ],
      "text/plain": [
       "             Yaş        iş      Maaş\n",
       "Yiğit   0.728124 -1.915883  1.011296\n",
       "Sercan -0.007990  1.654855  0.836080\n",
       "Reyhan -0.412708 -0.512368 -0.492226\n",
       "Şevki   0.801277 -0.843425  0.090236"
      ]
     },
     "execution_count": 10,
     "metadata": {},
     "output_type": "execute_result"
    }
   ],
   "source": [
    "dataFrame.drop(\"Emeklilik\", axis = 1) \n",
    "# axis = 1 sütunları ifade eder"
   ]
  },
  {
   "cell_type": "code",
   "execution_count": 13,
   "id": "027927ac",
   "metadata": {},
   "outputs": [
    {
     "data": {
      "text/html": [
       "<div>\n",
       "<style scoped>\n",
       "    .dataframe tbody tr th:only-of-type {\n",
       "        vertical-align: middle;\n",
       "    }\n",
       "\n",
       "    .dataframe tbody tr th {\n",
       "        vertical-align: top;\n",
       "    }\n",
       "\n",
       "    .dataframe thead th {\n",
       "        text-align: right;\n",
       "    }\n",
       "</style>\n",
       "<table border=\"1\" class=\"dataframe\">\n",
       "  <thead>\n",
       "    <tr style=\"text-align: right;\">\n",
       "      <th></th>\n",
       "      <th>Yaş</th>\n",
       "      <th>iş</th>\n",
       "      <th>Maaş</th>\n",
       "      <th>Emeklilik</th>\n",
       "    </tr>\n",
       "  </thead>\n",
       "  <tbody>\n",
       "    <tr>\n",
       "      <th>Yiğit</th>\n",
       "      <td>0.728124</td>\n",
       "      <td>-1.915883</td>\n",
       "      <td>1.011296</td>\n",
       "      <td>1.456247</td>\n",
       "    </tr>\n",
       "    <tr>\n",
       "      <th>Sercan</th>\n",
       "      <td>-0.007990</td>\n",
       "      <td>1.654855</td>\n",
       "      <td>0.836080</td>\n",
       "      <td>-0.015979</td>\n",
       "    </tr>\n",
       "    <tr>\n",
       "      <th>Reyhan</th>\n",
       "      <td>-0.412708</td>\n",
       "      <td>-0.512368</td>\n",
       "      <td>-0.492226</td>\n",
       "      <td>-0.825416</td>\n",
       "    </tr>\n",
       "  </tbody>\n",
       "</table>\n",
       "</div>"
      ],
      "text/plain": [
       "             Yaş        iş      Maaş  Emeklilik\n",
       "Yiğit   0.728124 -1.915883  1.011296   1.456247\n",
       "Sercan -0.007990  1.654855  0.836080  -0.015979\n",
       "Reyhan -0.412708 -0.512368 -0.492226  -0.825416"
      ]
     },
     "execution_count": 13,
     "metadata": {},
     "output_type": "execute_result"
    }
   ],
   "source": [
    "dataFrame.drop(\"Şevki\", axis = 0)\n",
    "# axis = 0 satırları ifade eder"
   ]
  },
  {
   "cell_type": "code",
   "execution_count": 14,
   "id": "abd1f8f6",
   "metadata": {},
   "outputs": [
    {
     "data": {
      "text/html": [
       "<div>\n",
       "<style scoped>\n",
       "    .dataframe tbody tr th:only-of-type {\n",
       "        vertical-align: middle;\n",
       "    }\n",
       "\n",
       "    .dataframe tbody tr th {\n",
       "        vertical-align: top;\n",
       "    }\n",
       "\n",
       "    .dataframe thead th {\n",
       "        text-align: right;\n",
       "    }\n",
       "</style>\n",
       "<table border=\"1\" class=\"dataframe\">\n",
       "  <thead>\n",
       "    <tr style=\"text-align: right;\">\n",
       "      <th></th>\n",
       "      <th>Yaş</th>\n",
       "      <th>iş</th>\n",
       "      <th>Maaş</th>\n",
       "      <th>Emeklilik</th>\n",
       "    </tr>\n",
       "  </thead>\n",
       "  <tbody>\n",
       "    <tr>\n",
       "      <th>Yiğit</th>\n",
       "      <td>0.728124</td>\n",
       "      <td>-1.915883</td>\n",
       "      <td>1.011296</td>\n",
       "      <td>1.456247</td>\n",
       "    </tr>\n",
       "    <tr>\n",
       "      <th>Sercan</th>\n",
       "      <td>-0.007990</td>\n",
       "      <td>1.654855</td>\n",
       "      <td>0.836080</td>\n",
       "      <td>-0.015979</td>\n",
       "    </tr>\n",
       "    <tr>\n",
       "      <th>Reyhan</th>\n",
       "      <td>-0.412708</td>\n",
       "      <td>-0.512368</td>\n",
       "      <td>-0.492226</td>\n",
       "      <td>-0.825416</td>\n",
       "    </tr>\n",
       "    <tr>\n",
       "      <th>Şevki</th>\n",
       "      <td>0.801277</td>\n",
       "      <td>-0.843425</td>\n",
       "      <td>0.090236</td>\n",
       "      <td>1.602555</td>\n",
       "    </tr>\n",
       "  </tbody>\n",
       "</table>\n",
       "</div>"
      ],
      "text/plain": [
       "             Yaş        iş      Maaş  Emeklilik\n",
       "Yiğit   0.728124 -1.915883  1.011296   1.456247\n",
       "Sercan -0.007990  1.654855  0.836080  -0.015979\n",
       "Reyhan -0.412708 -0.512368 -0.492226  -0.825416\n",
       "Şevki   0.801277 -0.843425  0.090236   1.602555"
      ]
     },
     "execution_count": 14,
     "metadata": {},
     "output_type": "execute_result"
    }
   ],
   "source": [
    "dataFrame"
   ]
  },
  {
   "cell_type": "markdown",
   "id": "cbf61601",
   "metadata": {},
   "source": [
    "## dataFrame.drop(\"Emeklilik\", axis = 1 , inplace = True ya da inplace = False)"
   ]
  },
  {
   "cell_type": "code",
   "execution_count": 15,
   "id": "360ed9ca",
   "metadata": {},
   "outputs": [],
   "source": [
    "# Sadece drop yaparak dataframe değişmez"
   ]
  },
  {
   "cell_type": "code",
   "execution_count": 16,
   "id": "cbc86af5",
   "metadata": {},
   "outputs": [],
   "source": [
    "# Bu nedenle inplace= True yaparak bu değişikleri uygulayabiliriz.\n",
    "# Default değer ise inplace = False dur"
   ]
  },
  {
   "cell_type": "code",
   "execution_count": 19,
   "id": "5a4391b1",
   "metadata": {},
   "outputs": [],
   "source": [
    "dataFrame.drop(\"Emeklilik\", axis = 1, inplace = True)"
   ]
  },
  {
   "cell_type": "code",
   "execution_count": 21,
   "id": "ec1e124e",
   "metadata": {},
   "outputs": [
    {
     "data": {
      "text/html": [
       "<div>\n",
       "<style scoped>\n",
       "    .dataframe tbody tr th:only-of-type {\n",
       "        vertical-align: middle;\n",
       "    }\n",
       "\n",
       "    .dataframe tbody tr th {\n",
       "        vertical-align: top;\n",
       "    }\n",
       "\n",
       "    .dataframe thead th {\n",
       "        text-align: right;\n",
       "    }\n",
       "</style>\n",
       "<table border=\"1\" class=\"dataframe\">\n",
       "  <thead>\n",
       "    <tr style=\"text-align: right;\">\n",
       "      <th></th>\n",
       "      <th>Yaş</th>\n",
       "      <th>iş</th>\n",
       "      <th>Maaş</th>\n",
       "    </tr>\n",
       "  </thead>\n",
       "  <tbody>\n",
       "    <tr>\n",
       "      <th>Yiğit</th>\n",
       "      <td>0.728124</td>\n",
       "      <td>-1.915883</td>\n",
       "      <td>1.011296</td>\n",
       "    </tr>\n",
       "    <tr>\n",
       "      <th>Sercan</th>\n",
       "      <td>-0.007990</td>\n",
       "      <td>1.654855</td>\n",
       "      <td>0.836080</td>\n",
       "    </tr>\n",
       "    <tr>\n",
       "      <th>Reyhan</th>\n",
       "      <td>-0.412708</td>\n",
       "      <td>-0.512368</td>\n",
       "      <td>-0.492226</td>\n",
       "    </tr>\n",
       "    <tr>\n",
       "      <th>Şevki</th>\n",
       "      <td>0.801277</td>\n",
       "      <td>-0.843425</td>\n",
       "      <td>0.090236</td>\n",
       "    </tr>\n",
       "  </tbody>\n",
       "</table>\n",
       "</div>"
      ],
      "text/plain": [
       "             Yaş        iş      Maaş\n",
       "Yiğit   0.728124 -1.915883  1.011296\n",
       "Sercan -0.007990  1.654855  0.836080\n",
       "Reyhan -0.412708 -0.512368 -0.492226\n",
       "Şevki   0.801277 -0.843425  0.090236"
      ]
     },
     "execution_count": 21,
     "metadata": {},
     "output_type": "execute_result"
    }
   ],
   "source": [
    "dataFrame\n",
    "# Artık kalıcı olarak silindi"
   ]
  },
  {
   "cell_type": "markdown",
   "id": "537ba3f3",
   "metadata": {},
   "source": [
    "## İndekslerin spesifik değerlerini getirme"
   ]
  },
  {
   "cell_type": "code",
   "execution_count": 23,
   "id": "cf8df725",
   "metadata": {},
   "outputs": [
    {
     "data": {
      "text/plain": [
       "0.7281235613825191"
      ]
     },
     "execution_count": 23,
     "metadata": {},
     "output_type": "execute_result"
    }
   ],
   "source": [
    "dataFrame.loc[\"Yiğit\"][\"Yaş\"] # bu şekilde istenien değeri çağırmak mümkün"
   ]
  },
  {
   "cell_type": "code",
   "execution_count": 24,
   "id": "8175fa92",
   "metadata": {},
   "outputs": [
    {
     "data": {
      "text/plain": [
       "-0.492225573364708"
      ]
     },
     "execution_count": 24,
     "metadata": {},
     "output_type": "execute_result"
    }
   ],
   "source": [
    "dataFrame.loc[\"Reyhan\"][\"Maaş\"]"
   ]
  },
  {
   "cell_type": "code",
   "execution_count": 25,
   "id": "a50da1e6",
   "metadata": {},
   "outputs": [
    {
     "data": {
      "text/html": [
       "<div>\n",
       "<style scoped>\n",
       "    .dataframe tbody tr th:only-of-type {\n",
       "        vertical-align: middle;\n",
       "    }\n",
       "\n",
       "    .dataframe tbody tr th {\n",
       "        vertical-align: top;\n",
       "    }\n",
       "\n",
       "    .dataframe thead th {\n",
       "        text-align: right;\n",
       "    }\n",
       "</style>\n",
       "<table border=\"1\" class=\"dataframe\">\n",
       "  <thead>\n",
       "    <tr style=\"text-align: right;\">\n",
       "      <th></th>\n",
       "      <th>Yaş</th>\n",
       "      <th>iş</th>\n",
       "      <th>Maaş</th>\n",
       "    </tr>\n",
       "  </thead>\n",
       "  <tbody>\n",
       "    <tr>\n",
       "      <th>Yiğit</th>\n",
       "      <td>False</td>\n",
       "      <td>True</td>\n",
       "      <td>False</td>\n",
       "    </tr>\n",
       "    <tr>\n",
       "      <th>Sercan</th>\n",
       "      <td>True</td>\n",
       "      <td>False</td>\n",
       "      <td>False</td>\n",
       "    </tr>\n",
       "    <tr>\n",
       "      <th>Reyhan</th>\n",
       "      <td>True</td>\n",
       "      <td>True</td>\n",
       "      <td>True</td>\n",
       "    </tr>\n",
       "    <tr>\n",
       "      <th>Şevki</th>\n",
       "      <td>False</td>\n",
       "      <td>True</td>\n",
       "      <td>False</td>\n",
       "    </tr>\n",
       "  </tbody>\n",
       "</table>\n",
       "</div>"
      ],
      "text/plain": [
       "          Yaş     iş   Maaş\n",
       "Yiğit   False   True  False\n",
       "Sercan   True  False  False\n",
       "Reyhan   True   True   True\n",
       "Şevki   False   True  False"
      ]
     },
     "execution_count": 25,
     "metadata": {},
     "output_type": "execute_result"
    }
   ],
   "source": [
    "dataFrame< 0"
   ]
  },
  {
   "cell_type": "code",
   "execution_count": 27,
   "id": "a245fd99",
   "metadata": {},
   "outputs": [
    {
     "data": {
      "text/html": [
       "<div>\n",
       "<style scoped>\n",
       "    .dataframe tbody tr th:only-of-type {\n",
       "        vertical-align: middle;\n",
       "    }\n",
       "\n",
       "    .dataframe tbody tr th {\n",
       "        vertical-align: top;\n",
       "    }\n",
       "\n",
       "    .dataframe thead th {\n",
       "        text-align: right;\n",
       "    }\n",
       "</style>\n",
       "<table border=\"1\" class=\"dataframe\">\n",
       "  <thead>\n",
       "    <tr style=\"text-align: right;\">\n",
       "      <th></th>\n",
       "      <th>Yaş</th>\n",
       "      <th>iş</th>\n",
       "      <th>Maaş</th>\n",
       "    </tr>\n",
       "  </thead>\n",
       "  <tbody>\n",
       "    <tr>\n",
       "      <th>Yiğit</th>\n",
       "      <td>0.728124</td>\n",
       "      <td>-1.915883</td>\n",
       "      <td>1.011296</td>\n",
       "    </tr>\n",
       "    <tr>\n",
       "      <th>Şevki</th>\n",
       "      <td>0.801277</td>\n",
       "      <td>-0.843425</td>\n",
       "      <td>0.090236</td>\n",
       "    </tr>\n",
       "  </tbody>\n",
       "</table>\n",
       "</div>"
      ],
      "text/plain": [
       "            Yaş        iş      Maaş\n",
       "Yiğit  0.728124 -1.915883  1.011296\n",
       "Şevki  0.801277 -0.843425  0.090236"
      ]
     },
     "execution_count": 27,
     "metadata": {},
     "output_type": "execute_result"
    }
   ],
   "source": [
    "dataFrame[dataFrame[\"Yaş\"]>0] # Sadece Yaşı 0 dan büyük olanları verir bu şekilde"
   ]
  },
  {
   "cell_type": "code",
   "execution_count": 30,
   "id": "6596dc80",
   "metadata": {},
   "outputs": [
    {
     "data": {
      "text/html": [
       "<div>\n",
       "<style scoped>\n",
       "    .dataframe tbody tr th:only-of-type {\n",
       "        vertical-align: middle;\n",
       "    }\n",
       "\n",
       "    .dataframe tbody tr th {\n",
       "        vertical-align: top;\n",
       "    }\n",
       "\n",
       "    .dataframe thead th {\n",
       "        text-align: right;\n",
       "    }\n",
       "</style>\n",
       "<table border=\"1\" class=\"dataframe\">\n",
       "  <thead>\n",
       "    <tr style=\"text-align: right;\">\n",
       "      <th></th>\n",
       "      <th>Yaş</th>\n",
       "      <th>iş</th>\n",
       "      <th>Maaş</th>\n",
       "    </tr>\n",
       "  </thead>\n",
       "  <tbody>\n",
       "    <tr>\n",
       "      <th>Sercan</th>\n",
       "      <td>-0.00799</td>\n",
       "      <td>1.654855</td>\n",
       "      <td>0.83608</td>\n",
       "    </tr>\n",
       "  </tbody>\n",
       "</table>\n",
       "</div>"
      ],
      "text/plain": [
       "            Yaş        iş     Maaş\n",
       "Sercan -0.00799  1.654855  0.83608"
      ]
     },
     "execution_count": 30,
     "metadata": {},
     "output_type": "execute_result"
    }
   ],
   "source": [
    "dataFrame[dataFrame[\"iş\"]>0]"
   ]
  },
  {
   "cell_type": "code",
   "execution_count": null,
   "id": "c4a081a4",
   "metadata": {},
   "outputs": [],
   "source": []
  }
 ],
 "metadata": {
  "kernelspec": {
   "display_name": "Python 3",
   "language": "python",
   "name": "python3"
  },
  "language_info": {
   "codemirror_mode": {
    "name": "ipython",
    "version": 3
   },
   "file_extension": ".py",
   "mimetype": "text/x-python",
   "name": "python",
   "nbconvert_exporter": "python",
   "pygments_lexer": "ipython3",
   "version": "3.8.8"
  }
 },
 "nbformat": 4,
 "nbformat_minor": 5
}
