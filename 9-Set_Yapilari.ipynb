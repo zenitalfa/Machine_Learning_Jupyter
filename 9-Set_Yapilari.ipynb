{
 "cells": [
  {
   "cell_type": "markdown",
   "id": "ca642b4e",
   "metadata": {},
   "source": [
    "## SET YAPILARI"
   ]
  },
  {
   "cell_type": "markdown",
   "id": "14b256b6",
   "metadata": {},
   "source": [
    "## Setler, listeler ya da dictionaryler gibi koleksiyon yapılarıdır"
   ]
  },
  {
   "cell_type": "code",
   "execution_count": 1,
   "id": "add89f6f",
   "metadata": {},
   "outputs": [],
   "source": [
    "# Set, içerisinde bir elemanı tekrar ettirmez, unique olmalıdır"
   ]
  },
  {
   "cell_type": "code",
   "execution_count": 3,
   "id": "73a6d29f",
   "metadata": {},
   "outputs": [],
   "source": [
    "list1 = [\"istanbul\", 17,\"zenit\", 43,12,98,12,\"istanbul\"]"
   ]
  },
  {
   "cell_type": "code",
   "execution_count": 4,
   "id": "65b70199",
   "metadata": {},
   "outputs": [
    {
     "data": {
      "text/plain": [
       "['istanbul', 17, 'zenit', 43, 12, 98, 12, 'istanbul']"
      ]
     },
     "execution_count": 4,
     "metadata": {},
     "output_type": "execute_result"
    }
   ],
   "source": [
    "list1"
   ]
  },
  {
   "cell_type": "code",
   "execution_count": 5,
   "id": "f891a632",
   "metadata": {},
   "outputs": [],
   "source": [
    "mySet = set(list1) # eleman tekrarları silindi, "
   ]
  },
  {
   "cell_type": "code",
   "execution_count": 6,
   "id": "c48fdd1b",
   "metadata": {},
   "outputs": [
    {
     "data": {
      "text/plain": [
       "{12, 17, 43, 98, 'istanbul', 'zenit'}"
      ]
     },
     "execution_count": 6,
     "metadata": {},
     "output_type": "execute_result"
    }
   ],
   "source": [
    "mySet"
   ]
  },
  {
   "cell_type": "code",
   "execution_count": 7,
   "id": "2c190bd0",
   "metadata": {},
   "outputs": [
    {
     "data": {
      "text/plain": [
       "set"
      ]
     },
     "execution_count": 7,
     "metadata": {},
     "output_type": "execute_result"
    }
   ],
   "source": [
    "type(mySet) # bu bir set tipidir"
   ]
  },
  {
   "cell_type": "markdown",
   "id": "00aa5229",
   "metadata": {},
   "source": [
    "## Set oluşturmak"
   ]
  },
  {
   "cell_type": "code",
   "execution_count": 8,
   "id": "23b6b73b",
   "metadata": {},
   "outputs": [],
   "source": [
    "newSet = {\"a\", 2,74,2, \"zenit\",\"a\"}"
   ]
  },
  {
   "cell_type": "code",
   "execution_count": 9,
   "id": "a0884402",
   "metadata": {},
   "outputs": [
    {
     "data": {
      "text/plain": [
       "{2, 74, 'a', 'zenit'}"
      ]
     },
     "execution_count": 9,
     "metadata": {},
     "output_type": "execute_result"
    }
   ],
   "source": [
    "newSet # elemanları tek olarak yazdırdı, her eleman sadece bir kez tanımlıdır"
   ]
  },
  {
   "cell_type": "code",
   "execution_count": 10,
   "id": "f80abde8",
   "metadata": {},
   "outputs": [],
   "source": [
    "# Boş olarak bir set oluşturmak istiyorsak set() kullanırız, aksi takdirde dictionary ile karışır\n",
    "\n",
    "deneme= {}"
   ]
  },
  {
   "cell_type": "code",
   "execution_count": 11,
   "id": "1a8d7b45",
   "metadata": {},
   "outputs": [
    {
     "data": {
      "text/plain": [
       "dict"
      ]
     },
     "execution_count": 11,
     "metadata": {},
     "output_type": "execute_result"
    }
   ],
   "source": [
    "type(deneme) # görüldüğü gibi default olarak dictionary"
   ]
  },
  {
   "cell_type": "code",
   "execution_count": 13,
   "id": "1d07f103",
   "metadata": {},
   "outputs": [],
   "source": [
    "denemeSet= set() # normal parantez kullanılır"
   ]
  },
  {
   "cell_type": "code",
   "execution_count": 14,
   "id": "d94dca39",
   "metadata": {},
   "outputs": [
    {
     "data": {
      "text/plain": [
       "set"
      ]
     },
     "execution_count": 14,
     "metadata": {},
     "output_type": "execute_result"
    }
   ],
   "source": [
    "type(denemeSet)"
   ]
  },
  {
   "cell_type": "markdown",
   "id": "716b3366",
   "metadata": {},
   "source": [
    "## Set Metodları"
   ]
  },
  {
   "cell_type": "code",
   "execution_count": 21,
   "id": "c9840255",
   "metadata": {},
   "outputs": [],
   "source": [
    "denemeSet.add(231)\n",
    "denemeSet.add(84)\n",
    "denemeSet.add(19)"
   ]
  },
  {
   "cell_type": "code",
   "execution_count": 22,
   "id": "7c22d99a",
   "metadata": {},
   "outputs": [
    {
     "data": {
      "text/plain": [
       "{19, 84, 231}"
      ]
     },
     "execution_count": 22,
     "metadata": {},
     "output_type": "execute_result"
    }
   ],
   "source": [
    "denemeSet"
   ]
  },
  {
   "cell_type": "code",
   "execution_count": 23,
   "id": "0609bcd9",
   "metadata": {},
   "outputs": [],
   "source": [
    "denemeSet.discard(19)"
   ]
  },
  {
   "cell_type": "code",
   "execution_count": 24,
   "id": "386f7209",
   "metadata": {},
   "outputs": [
    {
     "data": {
      "text/plain": [
       "{84, 231}"
      ]
     },
     "execution_count": 24,
     "metadata": {},
     "output_type": "execute_result"
    }
   ],
   "source": [
    "denemeSet # set içerisinden 19'u çıkardı"
   ]
  },
  {
   "cell_type": "code",
   "execution_count": null,
   "id": "ce85ffe2",
   "metadata": {},
   "outputs": [],
   "source": []
  }
 ],
 "metadata": {
  "kernelspec": {
   "display_name": "Python 3",
   "language": "python",
   "name": "python3"
  },
  "language_info": {
   "codemirror_mode": {
    "name": "ipython",
    "version": 3
   },
   "file_extension": ".py",
   "mimetype": "text/x-python",
   "name": "python",
   "nbconvert_exporter": "python",
   "pygments_lexer": "ipython3",
   "version": "3.8.8"
  }
 },
 "nbformat": 4,
 "nbformat_minor": 5
}
