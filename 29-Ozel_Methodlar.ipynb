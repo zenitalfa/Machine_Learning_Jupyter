{
 "cells": [
  {
   "cell_type": "markdown",
   "id": "ab033fd7",
   "metadata": {},
   "source": [
    "## Özel Methodlar"
   ]
  },
  {
   "cell_type": "code",
   "execution_count": 25,
   "id": "0ab4c544",
   "metadata": {},
   "outputs": [],
   "source": [
    "class Meyve():\n",
    "    def __init__(self,isim,kalori):\n",
    "        self.isim = isim\n",
    "        self.kalori = kalori\n",
    "    \n",
    "    def __str__(self): # bu obje çağırıldığında str şeklinde okunabilmesi için bu şekilde bir method vardır\n",
    "        \n",
    "        return f\"{self.isim} , {self.kalori} kaloriye sahiptir\"\n",
    "    \n",
    "    def __len__(self):\n",
    "        return self.kalori\n",
    "        "
   ]
  },
  {
   "cell_type": "code",
   "execution_count": 26,
   "id": "076f3b15",
   "metadata": {},
   "outputs": [],
   "source": [
    "muz = Meyve(\"Muz\", 150)"
   ]
  },
  {
   "cell_type": "markdown",
   "id": "df38a325",
   "metadata": {},
   "source": [
    "   "
   ]
  },
  {
   "cell_type": "code",
   "execution_count": 27,
   "id": "97bc8f21",
   "metadata": {},
   "outputs": [
    {
     "data": {
      "text/plain": [
       "150"
      ]
     },
     "execution_count": 27,
     "metadata": {},
     "output_type": "execute_result"
    }
   ],
   "source": [
    "muz.isim\n",
    "muz.kalori"
   ]
  },
  {
   "cell_type": "code",
   "execution_count": 28,
   "id": "cff4cdb7",
   "metadata": {},
   "outputs": [
    {
     "name": "stdout",
     "output_type": "stream",
     "text": [
      "Muz , 150 kaloriye sahiptir\n"
     ]
    }
   ],
   "source": [
    "print(muz)"
   ]
  },
  {
   "cell_type": "code",
   "execution_count": 29,
   "id": "4c64b486",
   "metadata": {},
   "outputs": [
    {
     "name": "stdout",
     "output_type": "stream",
     "text": [
      "Muz , 150 kaloriye sahiptir\n"
     ]
    }
   ],
   "source": [
    "print(muz)"
   ]
  },
  {
   "cell_type": "code",
   "execution_count": 30,
   "id": "bcc4b146",
   "metadata": {},
   "outputs": [
    {
     "data": {
      "text/plain": [
       "150"
      ]
     },
     "execution_count": 30,
     "metadata": {},
     "output_type": "execute_result"
    }
   ],
   "source": [
    "len(muz)"
   ]
  },
  {
   "cell_type": "code",
   "execution_count": 31,
   "id": "a9966e77",
   "metadata": {},
   "outputs": [],
   "source": [
    "elma = Meyve(\"Elma\",  420)"
   ]
  },
  {
   "cell_type": "code",
   "execution_count": 32,
   "id": "1cd44944",
   "metadata": {},
   "outputs": [
    {
     "data": {
      "text/plain": [
       "420"
      ]
     },
     "execution_count": 32,
     "metadata": {},
     "output_type": "execute_result"
    }
   ],
   "source": [
    "len(elma)"
   ]
  },
  {
   "cell_type": "code",
   "execution_count": 33,
   "id": "18a19bd3",
   "metadata": {},
   "outputs": [
    {
     "name": "stdout",
     "output_type": "stream",
     "text": [
      "Elma , 420 kaloriye sahiptir\n"
     ]
    }
   ],
   "source": [
    "print(elma)"
   ]
  },
  {
   "cell_type": "code",
   "execution_count": null,
   "id": "9cc0439f",
   "metadata": {},
   "outputs": [],
   "source": []
  }
 ],
 "metadata": {
  "kernelspec": {
   "display_name": "Python 3",
   "language": "python",
   "name": "python3"
  },
  "language_info": {
   "codemirror_mode": {
    "name": "ipython",
    "version": 3
   },
   "file_extension": ".py",
   "mimetype": "text/x-python",
   "name": "python",
   "nbconvert_exporter": "python",
   "pygments_lexer": "ipython3",
   "version": "3.8.8"
  }
 },
 "nbformat": 4,
 "nbformat_minor": 5
}
