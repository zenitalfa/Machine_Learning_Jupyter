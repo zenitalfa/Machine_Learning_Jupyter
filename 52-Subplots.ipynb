{
 "cells": [
  {
   "cell_type": "markdown",
   "id": "741c2ffe",
   "metadata": {},
   "source": [
    "## Subplots"
   ]
  },
  {
   "cell_type": "markdown",
   "id": "2110129d",
   "metadata": {},
   "source": [
    "## Önemli"
   ]
  },
  {
   "cell_type": "code",
   "execution_count": 7,
   "id": "b0a9c13b",
   "metadata": {},
   "outputs": [],
   "source": [
    "## plt.subplot bize iki adet numpy döndürebilir\n",
    "\n",
    "import numpy as np\n",
    "import pandas as pd\n",
    "import matplotlib.pyplot as plt\n",
    "\n",
    "%matplotlib inline\n",
    "\n",
    "numpyDizisi1 = np.linspace(0,10,20)\n",
    "numpyDizisi2 = np.linspace(0,10,20)"
   ]
  },
  {
   "cell_type": "code",
   "execution_count": 8,
   "id": "ee85c0d5",
   "metadata": {},
   "outputs": [
    {
     "ename": "AttributeError",
     "evalue": "'AxesSubplot' object has no attribute 'plt'",
     "output_type": "error",
     "traceback": [
      "\u001b[1;31m---------------------------------------------------------------------------\u001b[0m",
      "\u001b[1;31mAttributeError\u001b[0m                            Traceback (most recent call last)",
      "\u001b[1;32m~\\AppData\\Local\\Temp/ipykernel_8612/3032702085.py\u001b[0m in \u001b[0;36m<module>\u001b[1;34m\u001b[0m\n\u001b[0;32m      3\u001b[0m \u001b[1;33m\u001b[0m\u001b[0m\n\u001b[0;32m      4\u001b[0m \u001b[1;32mfor\u001b[0m \u001b[0meksen\u001b[0m \u001b[1;32min\u001b[0m \u001b[0mbenimEksenler\u001b[0m\u001b[1;33m:\u001b[0m\u001b[1;33m\u001b[0m\u001b[1;33m\u001b[0m\u001b[0m\n\u001b[1;32m----> 5\u001b[1;33m     \u001b[0meksen\u001b[0m\u001b[1;33m.\u001b[0m\u001b[0mplt\u001b[0m\u001b[1;33m(\u001b[0m\u001b[0mnumpyDizisi1\u001b[0m\u001b[1;33m,\u001b[0m\u001b[0mnumpyDizisi2\u001b[0m\u001b[1;33m)\u001b[0m\u001b[1;33m\u001b[0m\u001b[1;33m\u001b[0m\u001b[0m\n\u001b[0m",
      "\u001b[1;31mAttributeError\u001b[0m: 'AxesSubplot' object has no attribute 'plt'"
     ]
    },
    {
     "data": {
      "image/png": "[encoded data removed]",
      "text/plain": [
       "<Figure size 432x288 with 2 Axes>"
      ]
     },
     "metadata": {
      "needs_background": "light"
     },
     "output_type": "display_data"
    }
   ],
   "source": [
    "(benimFigure, benimEksenler) = plt.subplots(nrows = 1, ncols = 2) # burada benim eksenler olarak iki adet numpy dizisi döndürür\n",
    "type(benimEksenler)\n",
    "\n",
    "for eksen in benimEksenler:\n",
    "    eksen.plt(numpyDizisi1,numpyDizisi2)\n",
    "    \n",
    "    plt.tight_layout() # grafiğin sağa- sola yapışmasını engeller, biraz boşluk bırakır"
   ]
  },
  {
   "cell_type": "code",
   "execution_count": null,
   "id": "27707b41",
   "metadata": {},
   "outputs": [],
   "source": []
  },
  {
   "cell_type": "code",
   "execution_count": null,
   "id": "3ae6a693",
   "metadata": {},
   "outputs": [],
   "source": []
  }
 ],
 "metadata": {
  "kernelspec": {
   "display_name": "Python 3 (ipykernel)",
   "language": "python",
   "name": "python3"
  },
  "language_info": {
   "codemirror_mode": {
    "name": "ipython",
    "version": 3
   },
   "file_extension": ".py",
   "mimetype": "text/x-python",
   "name": "python",
   "nbconvert_exporter": "python",
   "pygments_lexer": "ipython3",
   "version": "3.9.7"
  }
 },
 "nbformat": 4,
 "nbformat_minor": 5
}
