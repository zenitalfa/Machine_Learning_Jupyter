{
 "cells": [
  {
   "cell_type": "markdown",
   "id": "ec26113e",
   "metadata": {},
   "source": [
    "## STRİNGS"
   ]
  },
  {
   "cell_type": "code",
   "execution_count": 2,
   "id": "00c4283f",
   "metadata": {},
   "outputs": [],
   "source": [
    "str = \"Zenit\""
   ]
  },
  {
   "cell_type": "code",
   "execution_count": 3,
   "id": "6c046ac5",
   "metadata": {},
   "outputs": [
    {
     "name": "stdout",
     "output_type": "stream",
     "text": [
      "Zenit\n"
     ]
    }
   ],
   "source": [
    "print(str)"
   ]
  },
  {
   "cell_type": "code",
   "execution_count": 4,
   "id": "bea91fcb",
   "metadata": {},
   "outputs": [
    {
     "data": {
      "text/plain": [
       "str"
      ]
     },
     "execution_count": 4,
     "metadata": {},
     "output_type": "execute_result"
    }
   ],
   "source": [
    "type(str)"
   ]
  },
  {
   "cell_type": "markdown",
   "id": "d1f24b5e",
   "metadata": {},
   "source": [
    "## Capitalize String"
   ]
  },
  {
   "cell_type": "code",
   "execution_count": 7,
   "id": "679ee9ed",
   "metadata": {},
   "outputs": [
    {
     "data": {
      "text/plain": [
       "'Zenit'"
      ]
     },
     "execution_count": 7,
     "metadata": {},
     "output_type": "execute_result"
    }
   ],
   "source": [
    "x = \"zenit\"\n",
    "x.capitalize() #Sadece parantez kullanılır ve büyük harfle başlatır"
   ]
  },
  {
   "cell_type": "code",
   "execution_count": 8,
   "id": "d5e81899",
   "metadata": {},
   "outputs": [
    {
     "data": {
      "text/plain": [
       "1"
      ]
     },
     "execution_count": 8,
     "metadata": {},
     "output_type": "execute_result"
    }
   ],
   "source": [
    "x.find(\"e\") # içerisinde o karakterin olup olmadığına bakar"
   ]
  },
  {
   "cell_type": "code",
   "execution_count": 10,
   "id": "2f580c0b",
   "metadata": {},
   "outputs": [
    {
     "data": {
      "text/plain": [
       "1"
      ]
     },
     "execution_count": 10,
     "metadata": {},
     "output_type": "execute_result"
    }
   ],
   "source": [
    "x.count(\"i\") # o karakterden kaç tane olduğunu sayar vs"
   ]
  },
  {
   "cell_type": "markdown",
   "id": "8b4b9436",
   "metadata": {},
   "source": [
    "## Stringlerde toplama ve çarpma yapılır"
   ]
  },
  {
   "cell_type": "code",
   "execution_count": 12,
   "id": "7b57512a",
   "metadata": {},
   "outputs": [
    {
     "name": "stdout",
     "output_type": "stream",
     "text": [
      "zenit\n"
     ]
    },
    {
     "data": {
      "text/plain": [
       "'zenitzenitzenitzenit'"
      ]
     },
     "execution_count": 12,
     "metadata": {},
     "output_type": "execute_result"
    }
   ],
   "source": [
    "print(x)\n",
    "x*4"
   ]
  },
  {
   "cell_type": "code",
   "execution_count": 15,
   "id": "71768b42",
   "metadata": {},
   "outputs": [],
   "source": [
    "y= \" ,never give up, ever\""
   ]
  },
  {
   "cell_type": "code",
   "execution_count": 16,
   "id": "cd8d677c",
   "metadata": {},
   "outputs": [
    {
     "data": {
      "text/plain": [
       "'zenit ,never give up, ever'"
      ]
     },
     "execution_count": 16,
     "metadata": {},
     "output_type": "execute_result"
    }
   ],
   "source": [
    "x+y"
   ]
  },
  {
   "cell_type": "markdown",
   "id": "5cf73465",
   "metadata": {},
   "source": [
    "## String Uzunluğu - len(str)"
   ]
  },
  {
   "cell_type": "code",
   "execution_count": 18,
   "id": "346e54ae",
   "metadata": {},
   "outputs": [
    {
     "name": "stdout",
     "output_type": "stream",
     "text": [
      "zenit ,never give up, ever\n"
     ]
    },
    {
     "data": {
      "text/plain": [
       "26"
      ]
     },
     "execution_count": 18,
     "metadata": {},
     "output_type": "execute_result"
    }
   ],
   "source": [
    " sonuc = x+y\n",
    "print(sonuc)\n",
    "len(sonuc)"
   ]
  },
  {
   "cell_type": "code",
   "execution_count": 20,
   "id": "9ab9ad81",
   "metadata": {},
   "outputs": [
    {
     "data": {
      "text/plain": [
       "'Zenit ,never give up, ever'"
      ]
     },
     "execution_count": 20,
     "metadata": {},
     "output_type": "execute_result"
    }
   ],
   "source": [
    "sonuc.capitalize()\n"
   ]
  },
  {
   "cell_type": "code",
   "execution_count": 21,
   "id": "8e765d36",
   "metadata": {},
   "outputs": [
    {
     "data": {
      "text/plain": [
       "False"
      ]
     },
     "execution_count": 21,
     "metadata": {},
     "output_type": "execute_result"
    }
   ],
   "source": [
    "sonuc.isdigit()"
   ]
  },
  {
   "cell_type": "markdown",
   "id": "2ac46549",
   "metadata": {},
   "source": [
    "## \\n - New line demektir, alt satıra geçer"
   ]
  },
  {
   "cell_type": "code",
   "execution_count": 33,
   "id": "ff906b50",
   "metadata": {},
   "outputs": [],
   "source": [
    "k = \"work \\nHARD\""
   ]
  },
  {
   "cell_type": "code",
   "execution_count": 34,
   "id": "04557c4b",
   "metadata": {},
   "outputs": [
    {
     "name": "stdout",
     "output_type": "stream",
     "text": [
      "work \n",
      "HARD\n"
     ]
    }
   ],
   "source": [
    "print(k)"
   ]
  },
  {
   "cell_type": "code",
   "execution_count": null,
   "id": "564b2056",
   "metadata": {},
   "outputs": [],
   "source": []
  }
 ],
 "metadata": {
  "kernelspec": {
   "display_name": "Python 3",
   "language": "python",
   "name": "python3"
  },
  "language_info": {
   "codemirror_mode": {
    "name": "ipython",
    "version": 3
   },
   "file_extension": ".py",
   "mimetype": "text/x-python",
   "name": "python",
   "nbconvert_exporter": "python",
   "pygments_lexer": "ipython3",
   "version": "3.8.8"
  }
 },
 "nbformat": 4,
 "nbformat_minor": 5
}
