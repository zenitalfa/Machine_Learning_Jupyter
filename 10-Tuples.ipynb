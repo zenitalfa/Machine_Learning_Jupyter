{
 "cells": [
  {
   "cell_type": "markdown",
   "id": "254993f0",
   "metadata": {},
   "source": [
    "## TUPLES"
   ]
  },
  {
   "cell_type": "code",
   "execution_count": 1,
   "id": "d1a34e0d",
   "metadata": {},
   "outputs": [],
   "source": [
    "# Tuple, listelere benzer fakat listelerin içeriği değiştirilebilirken tuplelar değişmez\n"
   ]
  },
  {
   "cell_type": "code",
   "execution_count": 2,
   "id": "8562891e",
   "metadata": {},
   "outputs": [],
   "source": [
    "liste1= [\"a\",3,87,1,4]"
   ]
  },
  {
   "cell_type": "code",
   "execution_count": 3,
   "id": "c50b216a",
   "metadata": {},
   "outputs": [],
   "source": [
    "liste1[3]= 9378"
   ]
  },
  {
   "cell_type": "code",
   "execution_count": 4,
   "id": "4b192f39",
   "metadata": {},
   "outputs": [
    {
     "data": {
      "text/plain": [
       "['a', 3, 87, 9378, 4]"
      ]
     },
     "execution_count": 4,
     "metadata": {},
     "output_type": "execute_result"
    }
   ],
   "source": [
    "liste1"
   ]
  },
  {
   "cell_type": "code",
   "execution_count": 5,
   "id": "a9ef2c60",
   "metadata": {},
   "outputs": [],
   "source": [
    "myTuple= (0,19,34,\"abc\",72) # tuple, normal parantez ile oluşturulur"
   ]
  },
  {
   "cell_type": "code",
   "execution_count": 6,
   "id": "7e8aa5e6",
   "metadata": {},
   "outputs": [
    {
     "data": {
      "text/plain": [
       "tuple"
      ]
     },
     "execution_count": 6,
     "metadata": {},
     "output_type": "execute_result"
    }
   ],
   "source": [
    "type(myTuple) # tuple içeriği değiştirilemez"
   ]
  },
  {
   "cell_type": "code",
   "execution_count": 7,
   "id": "4e4630e1",
   "metadata": {},
   "outputs": [
    {
     "ename": "SyntaxError",
     "evalue": "cannot assign to function call (<ipython-input-7-8b0657ae0156>, line 1)",
     "output_type": "error",
     "traceback": [
      "\u001b[1;36m  File \u001b[1;32m\"<ipython-input-7-8b0657ae0156>\"\u001b[1;36m, line \u001b[1;32m1\u001b[0m\n\u001b[1;33m    myTuple(3)= \"bde\"\u001b[0m\n\u001b[1;37m    ^\u001b[0m\n\u001b[1;31mSyntaxError\u001b[0m\u001b[1;31m:\u001b[0m cannot assign to function call\n"
     ]
    }
   ],
   "source": [
    "myTuple(3)= \"bde\""
   ]
  },
  {
   "cell_type": "code",
   "execution_count": null,
   "id": "18fd02d5",
   "metadata": {},
   "outputs": [],
   "source": []
  }
 ],
 "metadata": {
  "kernelspec": {
   "display_name": "Python 3",
   "language": "python",
   "name": "python3"
  },
  "language_info": {
   "codemirror_mode": {
    "name": "ipython",
    "version": 3
   },
   "file_extension": ".py",
   "mimetype": "text/x-python",
   "name": "python",
   "nbconvert_exporter": "python",
   "pygments_lexer": "ipython3",
   "version": "3.8.8"
  }
 },
 "nbformat": 4,
 "nbformat_minor": 5
}
