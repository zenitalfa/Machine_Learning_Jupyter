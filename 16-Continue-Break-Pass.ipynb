{
 "cells": [
  {
   "cell_type": "markdown",
   "id": "b432531f",
   "metadata": {},
   "source": [
    "## Continue-Break- Pass Yapıları"
   ]
  },
  {
   "cell_type": "code",
   "execution_count": 2,
   "id": "c1c79354",
   "metadata": {},
   "outputs": [
    {
     "data": {
      "text/plain": [
       "list"
      ]
     },
     "execution_count": 2,
     "metadata": {},
     "output_type": "execute_result"
    }
   ],
   "source": [
    "myList = [4,17,28,357,70,93]\n",
    "type(myList)"
   ]
  },
  {
   "cell_type": "code",
   "execution_count": 4,
   "id": "05572c3d",
   "metadata": {},
   "outputs": [
    {
     "name": "stdout",
     "output_type": "stream",
     "text": [
      "4\n",
      "17\n",
      "28\n",
      "357\n",
      "70\n",
      "93\n"
     ]
    }
   ],
   "source": [
    "for kk in myList:\n",
    "    print(kk)"
   ]
  },
  {
   "cell_type": "markdown",
   "id": "7d63185a",
   "metadata": {},
   "source": [
    "## Break"
   ]
  },
  {
   "cell_type": "code",
   "execution_count": 5,
   "id": "cada9840",
   "metadata": {},
   "outputs": [
    {
     "name": "stdout",
     "output_type": "stream",
     "text": [
      "357\n",
      "döngü burada bitti\n"
     ]
    }
   ],
   "source": [
    "for numara in myList: \n",
    "    if numara==357:\n",
    "        print(numara)\n",
    "        print(\"döngü burada bitti\")\n",
    "        break #döngüyü bu noktada bitirdi"
   ]
  },
  {
   "cell_type": "markdown",
   "id": "48f7aef2",
   "metadata": {},
   "source": [
    "## Continue"
   ]
  },
  {
   "cell_type": "code",
   "execution_count": 6,
   "id": "7154f77f",
   "metadata": {},
   "outputs": [
    {
     "name": "stdout",
     "output_type": "stream",
     "text": [
      "4\n",
      "17\n",
      "357\n",
      "70\n",
      "93\n"
     ]
    }
   ],
   "source": [
    "for n in myList:\n",
    "    if n==28:\n",
    "        continue # verdiğimiz sayıyı atlayarak işleme devam etti\n",
    "    print(n)"
   ]
  },
  {
   "cell_type": "markdown",
   "id": "1519c1ec",
   "metadata": {},
   "source": [
    "## Pass"
   ]
  },
  {
   "cell_type": "code",
   "execution_count": 7,
   "id": "81bb8c64",
   "metadata": {},
   "outputs": [],
   "source": [
    "for numara in myList:\n",
    "    pass # kod yazarken for döngüsü boş olduğundan hata verecektir, bunu engellemek için pass kullanabiliriz"
   ]
  },
  {
   "cell_type": "code",
   "execution_count": 8,
   "id": "a72c06d1",
   "metadata": {},
   "outputs": [
    {
     "ename": "SyntaxError",
     "evalue": "unexpected EOF while parsing (<ipython-input-8-5b4d2c51fce4>, line 2)",
     "output_type": "error",
     "traceback": [
      "\u001b[1;36m  File \u001b[1;32m\"<ipython-input-8-5b4d2c51fce4>\"\u001b[1;36m, line \u001b[1;32m2\u001b[0m\n\u001b[1;33m    \u001b[0m\n\u001b[1;37m    ^\u001b[0m\n\u001b[1;31mSyntaxError\u001b[0m\u001b[1;31m:\u001b[0m unexpected EOF while parsing\n"
     ]
    }
   ],
   "source": [
    "for numara in myList: # örneğin burada hata verdi\n",
    "    "
   ]
  },
  {
   "cell_type": "code",
   "execution_count": null,
   "id": "f520df95",
   "metadata": {},
   "outputs": [],
   "source": []
  }
 ],
 "metadata": {
  "kernelspec": {
   "display_name": "Python 3",
   "language": "python",
   "name": "python3"
  },
  "language_info": {
   "codemirror_mode": {
    "name": "ipython",
    "version": 3
   },
   "file_extension": ".py",
   "mimetype": "text/x-python",
   "name": "python",
   "nbconvert_exporter": "python",
   "pygments_lexer": "ipython3",
   "version": "3.8.8"
  }
 },
 "nbformat": 4,
 "nbformat_minor": 5
}
