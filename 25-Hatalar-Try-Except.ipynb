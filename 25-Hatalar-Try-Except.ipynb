{
 "cells": [
  {
   "cell_type": "markdown",
   "id": "62823763",
   "metadata": {},
   "source": [
    "## Error Handling"
   ]
  },
  {
   "cell_type": "code",
   "execution_count": null,
   "id": "f8d01472",
   "metadata": {},
   "outputs": [],
   "source": [
    "def calculator(a,b,islem):\n",
    "    if islem not in \"+-*/\":\n",
    "        print(\"Please select one of these: + - / *\")\n",
    "    if islem== \"+\":\n",
    "        return (str(a)+ \" + \"+ str(b)+ \" = \"+str(a+b))\n",
    "    if islem==\"-\":\n",
    "        return (str(a)+ \" - \"+ str(b)+ \" = \"+str(a-b))\n",
    "    if islem== \"/\":\n",
    "        return (str(a)+ \" / \"+ str(b)+ \" = \"+str(a/b))\n",
    "    if islem== \"*\":\n",
    "        return (str(a)+ \" * \"+ str(b)+ \" = \"+str(a*b))\n",
    "    \n",
    "while True:\n",
    "    try:\n",
    "        a = int(input(\"Please type first number: \"))\n",
    "        b= int(input(\"Please type second number: \"))\n",
    "        islem= input(\"Please choose your operation: +, -, *, /\")\n",
    "        print(calculator(a,b,islem))\n",
    "    except:\n",
    "        print(\"Please retype number\")"
   ]
  },
  {
   "cell_type": "code",
   "execution_count": null,
   "id": "2c9dff87",
   "metadata": {},
   "outputs": [],
   "source": []
  }
 ],
 "metadata": {
  "kernelspec": {
   "display_name": "Python 3",
   "language": "python",
   "name": "python3"
  },
  "language_info": {
   "codemirror_mode": {
    "name": "ipython",
    "version": 3
   },
   "file_extension": ".py",
   "mimetype": "text/x-python",
   "name": "python",
   "nbconvert_exporter": "python",
   "pygments_lexer": "ipython3",
   "version": "3.8.8"
  }
 },
 "nbformat": 4,
 "nbformat_minor": 5
}
