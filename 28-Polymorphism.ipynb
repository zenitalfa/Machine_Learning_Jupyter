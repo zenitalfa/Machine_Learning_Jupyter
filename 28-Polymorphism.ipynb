{
 "cells": [
  {
   "cell_type": "markdown",
   "id": "28dfe0e7",
   "metadata": {},
   "source": [
    "## Polymorphism"
   ]
  },
  {
   "cell_type": "code",
   "execution_count": 23,
   "id": "76950053",
   "metadata": {},
   "outputs": [],
   "source": [
    "class Ev():\n",
    "    def __init__(self, isim):\n",
    "        \n",
    "        print(\"Ev, init çağırıldı\")\n",
    "        self.isim = isim\n",
    "    def bilgiver(self):\n",
    "        return self.isim + \" kimin evi?\""
   ]
  },
  {
   "cell_type": "code",
   "execution_count": 24,
   "id": "7113ce5a",
   "metadata": {},
   "outputs": [],
   "source": [
    "class Araba():\n",
    "    def __init__(self,isim):\n",
    "        \n",
    "        print(\"Araba, init çağırıldı\")\n",
    "        self.isim = isim\n",
    "    def bilgiver(self):\n",
    "        return self.isim + \" kimin arabası?\""
   ]
  },
  {
   "cell_type": "code",
   "execution_count": 25,
   "id": "6cb74bab",
   "metadata": {},
   "outputs": [
    {
     "name": "stdout",
     "output_type": "stream",
     "text": [
      "Ev, init çağırıldı\n"
     ]
    }
   ],
   "source": [
    "ev1= Ev(\"ev1\")"
   ]
  },
  {
   "cell_type": "code",
   "execution_count": 26,
   "id": "736aca42",
   "metadata": {},
   "outputs": [
    {
     "data": {
      "text/plain": [
       "'ev1 kimin evi?'"
      ]
     },
     "execution_count": 26,
     "metadata": {},
     "output_type": "execute_result"
    }
   ],
   "source": [
    "ev1.bilgiver()"
   ]
  },
  {
   "cell_type": "code",
   "execution_count": 27,
   "id": "bcac6a49",
   "metadata": {},
   "outputs": [
    {
     "name": "stdout",
     "output_type": "stream",
     "text": [
      "Araba, init çağırıldı\n"
     ]
    }
   ],
   "source": [
    "araba1= Araba(\"araba1\")"
   ]
  },
  {
   "cell_type": "code",
   "execution_count": 28,
   "id": "1036a4e5",
   "metadata": {},
   "outputs": [
    {
     "data": {
      "text/plain": [
       "'araba1 kimin arabası?'"
      ]
     },
     "execution_count": 28,
     "metadata": {},
     "output_type": "execute_result"
    }
   ],
   "source": [
    "araba1.bilgiver()"
   ]
  },
  {
   "cell_type": "code",
   "execution_count": 29,
   "id": "bb3fa8cf",
   "metadata": {},
   "outputs": [],
   "source": [
    "listeDeneme = [ev1, araba1]"
   ]
  },
  {
   "cell_type": "code",
   "execution_count": 30,
   "id": "8dfed717",
   "metadata": {},
   "outputs": [
    {
     "name": "stdout",
     "output_type": "stream",
     "text": [
      "ev1 kimin evi?\n",
      "araba1 kimin arabası?\n"
     ]
    }
   ],
   "source": [
    "for value in listeDeneme:\n",
    "    print(value.bilgiver())  # iki obje de kendine has özelliklerle çağırıldı"
   ]
  },
  {
   "cell_type": "code",
   "execution_count": 31,
   "id": "6dd6570d",
   "metadata": {},
   "outputs": [],
   "source": [
    "def bilgiAl(nesne):\n",
    "    print(nesne.bilgiver())"
   ]
  },
  {
   "cell_type": "code",
   "execution_count": 32,
   "id": "b9de19d9",
   "metadata": {},
   "outputs": [
    {
     "name": "stdout",
     "output_type": "stream",
     "text": [
      "ev1 kimin evi?\n"
     ]
    }
   ],
   "source": [
    "bilgiAl(ev1)"
   ]
  },
  {
   "cell_type": "code",
   "execution_count": null,
   "id": "2ea8f4b0",
   "metadata": {},
   "outputs": [],
   "source": []
  }
 ],
 "metadata": {
  "kernelspec": {
   "display_name": "Python 3",
   "language": "python",
   "name": "python3"
  },
  "language_info": {
   "codemirror_mode": {
    "name": "ipython",
    "version": 3
   },
   "file_extension": ".py",
   "mimetype": "text/x-python",
   "name": "python",
   "nbconvert_exporter": "python",
   "pygments_lexer": "ipython3",
   "version": "3.8.8"
  }
 },
 "nbformat": 4,
 "nbformat_minor": 5
}
