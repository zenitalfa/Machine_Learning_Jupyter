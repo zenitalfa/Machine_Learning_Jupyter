{
 "cells": [
  {
   "cell_type": "markdown",
   "id": "b76daa7b",
   "metadata": {},
   "source": [
    " ## Random"
   ]
  },
  {
   "cell_type": "code",
   "execution_count": 1,
   "id": "33471b1e",
   "metadata": {},
   "outputs": [],
   "source": [
    "# This script about randoms"
   ]
  },
  {
   "cell_type": "code",
   "execution_count": 2,
   "id": "17fd962e",
   "metadata": {},
   "outputs": [],
   "source": [
    "from random import randint"
   ]
  },
  {
   "cell_type": "code",
   "execution_count": 5,
   "id": "7daef734",
   "metadata": {},
   "outputs": [
    {
     "data": {
      "text/plain": [
       "71"
      ]
     },
     "execution_count": 5,
     "metadata": {},
     "output_type": "execute_result"
    }
   ],
   "source": [
    "randint(0,100)"
   ]
  },
  {
   "cell_type": "markdown",
   "id": "3e6aa206",
   "metadata": {},
   "source": [
    "## Liste içerisinden randint ile değişken seçilebilir"
   ]
  },
  {
   "cell_type": "code",
   "execution_count": 10,
   "id": "680df166",
   "metadata": {},
   "outputs": [],
   "source": [
    "deneme = list(range(1,20))"
   ]
  },
  {
   "cell_type": "code",
   "execution_count": 12,
   "id": "9403f647",
   "metadata": {},
   "outputs": [
    {
     "data": {
      "text/plain": [
       "6"
      ]
     },
     "execution_count": 12,
     "metadata": {},
     "output_type": "execute_result"
    }
   ],
   "source": [
    "deneme[randint(1,20)]"
   ]
  },
  {
   "cell_type": "markdown",
   "id": "5a2c3967",
   "metadata": {},
   "source": [
    "## Shuffle"
   ]
  },
  {
   "cell_type": "code",
   "execution_count": 13,
   "id": "169eb4ff",
   "metadata": {},
   "outputs": [],
   "source": [
    "from random import shuffle"
   ]
  },
  {
   "cell_type": "code",
   "execution_count": 14,
   "id": "2bf04cba",
   "metadata": {},
   "outputs": [],
   "source": [
    "shuffle(deneme)"
   ]
  },
  {
   "cell_type": "code",
   "execution_count": 15,
   "id": "548c6e13",
   "metadata": {},
   "outputs": [
    {
     "data": {
      "text/plain": [
       "[8, 17, 2, 14, 12, 6, 11, 10, 18, 16, 19, 15, 4, 9, 3, 5, 1, 13, 7]"
      ]
     },
     "execution_count": 15,
     "metadata": {},
     "output_type": "execute_result"
    }
   ],
   "source": [
    "deneme"
   ]
  },
  {
   "cell_type": "markdown",
   "id": "361c1c3e",
   "metadata": {},
   "source": [
    "## Zip"
   ]
  },
  {
   "cell_type": "code",
   "execution_count": 16,
   "id": "ebea7a22",
   "metadata": {},
   "outputs": [],
   "source": [
    "# zip ile birkaç listeyi birleştirebiliriz"
   ]
  },
  {
   "cell_type": "code",
   "execution_count": 17,
   "id": "2ec51e6e",
   "metadata": {},
   "outputs": [],
   "source": [
    "takimlar = [\"Beşiktaş\", \"Fener\", \"Galatasaray\"]\n",
    "puan = [89, 78, 12]\n",
    "standing = [1,2,19]"
   ]
  },
  {
   "cell_type": "code",
   "execution_count": 19,
   "id": "f4d58960",
   "metadata": {},
   "outputs": [],
   "source": [
    "zip_deneme= list(zip(takimlar,puan, standing)) # bu şekilde listeleri tuple olarak birleştirdi"
   ]
  },
  {
   "cell_type": "code",
   "execution_count": 20,
   "id": "9380abed",
   "metadata": {},
   "outputs": [
    {
     "data": {
      "text/plain": [
       "tuple"
      ]
     },
     "execution_count": 20,
     "metadata": {},
     "output_type": "execute_result"
    }
   ],
   "source": [
    "type(zip_deneme[1])"
   ]
  },
  {
   "cell_type": "code",
   "execution_count": 21,
   "id": "eaae02c9",
   "metadata": {},
   "outputs": [
    {
     "data": {
      "text/plain": [
       "[('Beşiktaş', 89, 1), ('Fener', 78, 2), ('Galatasaray', 12, 19)]"
      ]
     },
     "execution_count": 21,
     "metadata": {},
     "output_type": "execute_result"
    }
   ],
   "source": [
    "zip_deneme"
   ]
  },
  {
   "cell_type": "markdown",
   "id": "b1ae2965",
   "metadata": {},
   "source": [
    "## İleri seviye"
   ]
  },
  {
   "cell_type": "code",
   "execution_count": 24,
   "id": "2797a20b",
   "metadata": {},
   "outputs": [
    {
     "name": "stdout",
     "output_type": "stream",
     "text": [
      "[12]\n",
      "[12, 13]\n",
      "[12, 13, 14]\n",
      "[12, 13, 14, 15]\n",
      "[12, 13, 14, 15, 16]\n",
      "[12, 13, 14, 15, 16, 17]\n",
      "[12, 13, 14, 15, 16, 17, 18]\n",
      "[12, 13, 14, 15, 16, 17, 18, 19]\n",
      "[12, 13, 14, 15, 16, 17, 18, 19, 20]\n",
      "[12, 13, 14, 15, 16, 17, 18, 19, 20, 21]\n",
      "[12, 13, 14, 15, 16, 17, 18, 19, 20, 21, 22]\n",
      "[12, 13, 14, 15, 16, 17, 18, 19, 20, 21, 22, 23]\n",
      "[12, 13, 14, 15, 16, 17, 18, 19, 20, 21, 22, 23, 24]\n",
      "[12, 13, 14, 15, 16, 17, 18, 19, 20, 21, 22, 23, 24, 25]\n",
      "[12, 13, 14, 15, 16, 17, 18, 19, 20, 21, 22, 23, 24, 25, 26]\n"
     ]
    }
   ],
   "source": [
    "yeniListe = []\n",
    "\n",
    "for numara in list(range(12,27)):\n",
    "    yeniListe.append(numara)\n",
    "    print(yeniListe)"
   ]
  },
  {
   "cell_type": "code",
   "execution_count": 25,
   "id": "9245f15c",
   "metadata": {},
   "outputs": [],
   "source": [
    "# Bu işlemi tek satırla yapmak mümkün"
   ]
  },
  {
   "cell_type": "code",
   "execution_count": 26,
   "id": "dfcf3525",
   "metadata": {},
   "outputs": [],
   "source": [
    "liste1 = [variable for variable in list(range(12,27))]"
   ]
  },
  {
   "cell_type": "code",
   "execution_count": 27,
   "id": "cafe3d91",
   "metadata": {},
   "outputs": [
    {
     "data": {
      "text/plain": [
       "[12, 13, 14, 15, 16, 17, 18, 19, 20, 21, 22, 23, 24, 25, 26]"
      ]
     },
     "execution_count": 27,
     "metadata": {},
     "output_type": "execute_result"
    }
   ],
   "source": [
    "liste1"
   ]
  },
  {
   "cell_type": "code",
   "execution_count": 28,
   "id": "9e7189cd",
   "metadata": {},
   "outputs": [
    {
     "data": {
      "text/plain": [
       "True"
      ]
     },
     "execution_count": 28,
     "metadata": {},
     "output_type": "execute_result"
    }
   ],
   "source": [
    "liste1 == yeniListe # iki liste birbirine eşittir"
   ]
  },
  {
   "cell_type": "code",
   "execution_count": 29,
   "id": "10d60a28",
   "metadata": {},
   "outputs": [],
   "source": [
    "# bunu stringlerle de yapabilirsin"
   ]
  },
  {
   "cell_type": "code",
   "execution_count": 33,
   "id": "f6bf42a0",
   "metadata": {},
   "outputs": [],
   "source": [
    "liste2 = [number**2 for number in list(range(1,10,3))] # yazdırılan kısım ilk kısım burada işlem yapılabilir"
   ]
  },
  {
   "cell_type": "code",
   "execution_count": 34,
   "id": "df7b7ea4",
   "metadata": {},
   "outputs": [
    {
     "data": {
      "text/plain": [
       "[1, 16, 49]"
      ]
     },
     "execution_count": 34,
     "metadata": {},
     "output_type": "execute_result"
    }
   ],
   "source": [
    "liste2"
   ]
  },
  {
   "cell_type": "code",
   "execution_count": null,
   "id": "366d1776",
   "metadata": {},
   "outputs": [],
   "source": []
  }
 ],
 "metadata": {
  "kernelspec": {
   "display_name": "Python 3",
   "language": "python",
   "name": "python3"
  },
  "language_info": {
   "codemirror_mode": {
    "name": "ipython",
    "version": 3
   },
   "file_extension": ".py",
   "mimetype": "text/x-python",
   "name": "python",
   "nbconvert_exporter": "python",
   "pygments_lexer": "ipython3",
   "version": "3.8.8"
  }
 },
 "nbformat": 4,
 "nbformat_minor": 5
}
