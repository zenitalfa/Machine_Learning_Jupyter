{
 "cells": [
  {
   "cell_type": "markdown",
   "id": "4d9af9ad",
   "metadata": {},
   "source": [
    "## IF Yapıları-1"
   ]
  },
  {
   "cell_type": "code",
   "execution_count": 2,
   "id": "f8bd9373",
   "metadata": {},
   "outputs": [
    {
     "name": "stdout",
     "output_type": "stream",
     "text": [
      "work hard\n"
     ]
    }
   ],
   "source": [
    "if 3>2:\n",
    "    print(\"work hard\")"
   ]
  },
  {
   "cell_type": "code",
   "execution_count": 8,
   "id": "cde6f0b6",
   "metadata": {},
   "outputs": [
    {
     "name": "stdout",
     "output_type": "stream",
     "text": [
      "just never give up\n"
     ]
    }
   ],
   "source": [
    "x= 12\n",
    "y = 7\n",
    "if x<y:\n",
    "    print(\"work dilligently!\")\n",
    "elif x>y :\n",
    "    print(\"just never give up\")\n",
    "else:\n",
    "    print(\"zenit\")"
   ]
  },
  {
   "cell_type": "markdown",
   "id": "f7310df3",
   "metadata": {},
   "source": [
    "## Örnek\n"
   ]
  },
  {
   "cell_type": "code",
   "execution_count": 13,
   "id": "65c63020",
   "metadata": {},
   "outputs": [
    {
     "name": "stdout",
     "output_type": "stream",
     "text": [
      "Lütfen bir sayı giriniz: 23\n",
      "Bu sayıyı nerden buldun şimdi\n"
     ]
    }
   ],
   "source": [
    "sayiTahmin = int(input(\"Lütfen bir sayı giriniz: \"))\n",
    "if sayiTahmin<0:\n",
    "    print(\"Sayı bir negatif sayıdır!\")\n",
    "elif sayiTahmin == 12:\n",
    "    print(\"En sevdiğim sayı\")\n",
    "elif sayiTahmin == 23:\n",
    "    print(\"Bu sayıyı nerden buldun şimdi\")\n",
    "else:\n",
    "    print(\"Canım bir şey söylemek istemiyor\")"
   ]
  },
  {
   "cell_type": "markdown",
   "id": "07b6f91c",
   "metadata": {},
   "source": [
    "## Örnek 2 - and & or kullanımı"
   ]
  },
  {
   "cell_type": "code",
   "execution_count": 14,
   "id": "d80a1e87",
   "metadata": {},
   "outputs": [],
   "source": [
    "a= 21\n",
    "b= 43\n",
    "c= 7\n",
    "d= \"work hard\""
   ]
  },
  {
   "cell_type": "code",
   "execution_count": 20,
   "id": "54068dc4",
   "metadata": {},
   "outputs": [
    {
     "name": "stdout",
     "output_type": "stream",
     "text": [
      "Lütfen aşağıdakilerden birini seçiniz: \n",
      "\n",
      "Work Hard: [1]\n",
      "\n",
      "No, be lazy: [2]\n",
      "\n",
      "Tercihinizi giriniz: 2\n",
      "Bence çalışmak çok güzel\n"
     ]
    }
   ],
   "source": [
    "print(\"Lütfen aşağıdakilerden birini seçiniz: \")\n",
    "print(\"\\nWork Hard: [1]\")\n",
    "print(\"\\nNo, be lazy: [2]\")\n",
    "\n",
    "giris = int(input(\"\\nTercihinizi giriniz: \"))\n",
    "\n",
    "if giris==1 and a>b:\n",
    "    print(\" \"+\"dakika daha çalışmalısın\")\n",
    "elif giris==1 and a>c:\n",
    "    print(\" \"+\"dakika daha çalışsan yeter\")\n",
    "elif giris==2 or b>c:\n",
    "    print(\"Bence çalışmak çok güzel\")\n",
    "else:\n",
    "    print(\"Biraz kitap okuyalım huh?\")\n"
   ]
  },
  {
   "cell_type": "code",
   "execution_count": null,
   "id": "9c75994c",
   "metadata": {},
   "outputs": [],
   "source": []
  }
 ],
 "metadata": {
  "kernelspec": {
   "display_name": "Python 3",
   "language": "python",
   "name": "python3"
  },
  "language_info": {
   "codemirror_mode": {
    "name": "ipython",
    "version": 3
   },
   "file_extension": ".py",
   "mimetype": "text/x-python",
   "name": "python",
   "nbconvert_exporter": "python",
   "pygments_lexer": "ipython3",
   "version": "3.8.8"
  }
 },
 "nbformat": 4,
 "nbformat_minor": 5
}
