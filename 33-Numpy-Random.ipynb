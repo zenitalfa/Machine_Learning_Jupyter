{
 "cells": [
  {
   "cell_type": "markdown",
   "id": "ad26c302",
   "metadata": {},
   "source": [
    "## Numpy-RANDOM"
   ]
  },
  {
   "cell_type": "code",
   "execution_count": 1,
   "id": "28b39634",
   "metadata": {},
   "outputs": [],
   "source": [
    "import numpy as np"
   ]
  },
  {
   "cell_type": "code",
   "execution_count": 7,
   "id": "8d9816c5",
   "metadata": {},
   "outputs": [
    {
     "data": {
      "text/plain": [
       "array([ 0.4052983 ,  0.08276907,  1.98105339,  0.5372113 , -0.94938985])"
      ]
     },
     "execution_count": 7,
     "metadata": {},
     "output_type": "execute_result"
    }
   ],
   "source": [
    "np.random.randn(5)\n",
    "# Normal dağılımlı array"
   ]
  },
  {
   "cell_type": "code",
   "execution_count": 9,
   "id": "2eb576e0",
   "metadata": {},
   "outputs": [
    {
     "data": {
      "text/plain": [
       "array([[ 0.68856642, -0.4174108 ,  1.25837701, -0.91641994,  0.60801419,\n",
       "         2.6472685 ,  0.47045785],\n",
       "       [-1.2550087 ,  1.18138885,  1.12760201, -0.35098039,  1.59705811,\n",
       "        -0.90305842,  0.82215225],\n",
       "       [ 0.91215124,  0.2719037 ,  0.47767814,  0.00907543, -0.92068918,\n",
       "        -1.57501879,  0.58721765],\n",
       "       [ 0.1412469 , -0.2492786 , -0.53920547, -1.02241866,  0.3087726 ,\n",
       "        -0.12116031,  0.17862673]])"
      ]
     },
     "execution_count": 9,
     "metadata": {},
     "output_type": "execute_result"
    }
   ],
   "source": [
    "np.random.randn(4,7)\n",
    "# bu şekilde de bir matris oluşturulabilir"
   ]
  },
  {
   "cell_type": "code",
   "execution_count": 25,
   "id": "26a4f5eb",
   "metadata": {},
   "outputs": [
    {
     "data": {
      "text/plain": [
       "1"
      ]
     },
     "execution_count": 25,
     "metadata": {},
     "output_type": "execute_result"
    }
   ],
   "source": [
    "np.random.randint(0,10)\n",
    "# randint metodu ile birlikte de random integerlar döndürür\n",
    "# son yazılan sayı exclusive!"
   ]
  },
  {
   "cell_type": "code",
   "execution_count": 29,
   "id": "77d6bc0c",
   "metadata": {},
   "outputs": [],
   "source": [
    "numpyDizi = np.random.randint(10,51,6)\n",
    "# 6 elemandan oluşan bir dizi döndürür"
   ]
  },
  {
   "cell_type": "code",
   "execution_count": 28,
   "id": "1a659ff6",
   "metadata": {},
   "outputs": [
    {
     "data": {
      "text/plain": [
       "array([14, 11, 10, 10, 12, 21])"
      ]
     },
     "execution_count": 28,
     "metadata": {},
     "output_type": "execute_result"
    }
   ],
   "source": [
    "numpyDizi"
   ]
  },
  {
   "cell_type": "code",
   "execution_count": null,
   "id": "aaeca814",
   "metadata": {},
   "outputs": [],
   "source": []
  }
 ],
 "metadata": {
  "kernelspec": {
   "display_name": "Python 3",
   "language": "python",
   "name": "python3"
  },
  "language_info": {
   "codemirror_mode": {
    "name": "ipython",
    "version": 3
   },
   "file_extension": ".py",
   "mimetype": "text/x-python",
   "name": "python",
   "nbconvert_exporter": "python",
   "pygments_lexer": "ipython3",
   "version": "3.8.8"
  }
 },
 "nbformat": 4,
 "nbformat_minor": 5
}
