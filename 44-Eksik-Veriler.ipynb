{
 "cells": [
  {
   "cell_type": "markdown",
   "id": "368ee694",
   "metadata": {},
   "source": [
    "## Eksik veriler olması halinde"
   ]
  },
  {
   "cell_type": "code",
   "execution_count": 21,
   "id": "de56e46c",
   "metadata": {},
   "outputs": [],
   "source": [
    "import numpy as np\n",
    "import pandas as pd"
   ]
  },
  {
   "cell_type": "code",
   "execution_count": 46,
   "id": "7f21fcee",
   "metadata": {},
   "outputs": [],
   "source": [
    "forecastDict = {\"İstanul\": [29,30,np.nan], \"Ankara\": [34,np.nan,21], \"İzmir\": [39,40,36], \"Antalya\": [np.nan, np.nan,43]}\n",
    "days = [\"Pazartesi\", \"Salı\", \"Çarşamba\"]"
   ]
  },
  {
   "cell_type": "code",
   "execution_count": 47,
   "id": "360454fc",
   "metadata": {},
   "outputs": [],
   "source": [
    "forecastDataFrame = pd.DataFrame(data= forecastDict)"
   ]
  },
  {
   "cell_type": "code",
   "execution_count": 60,
   "id": "6a8115d3",
   "metadata": {},
   "outputs": [],
   "source": [
    "forecastDataFrame[\"Günler\"] = days\n",
    "forecastDataFrame.set_index(\"Günler\", inplace = True)"
   ]
  },
  {
   "cell_type": "markdown",
   "id": "42a61adb",
   "metadata": {},
   "source": [
    "## ÖNEMLİ"
   ]
  },
  {
   "cell_type": "code",
   "execution_count": 61,
   "id": "e18f7549",
   "metadata": {},
   "outputs": [
    {
     "data": {
      "text/html": [
       "<div>\n",
       "<style scoped>\n",
       "    .dataframe tbody tr th:only-of-type {\n",
       "        vertical-align: middle;\n",
       "    }\n",
       "\n",
       "    .dataframe tbody tr th {\n",
       "        vertical-align: top;\n",
       "    }\n",
       "\n",
       "    .dataframe thead th {\n",
       "        text-align: right;\n",
       "    }\n",
       "</style>\n",
       "<table border=\"1\" class=\"dataframe\">\n",
       "  <thead>\n",
       "    <tr style=\"text-align: right;\">\n",
       "      <th></th>\n",
       "      <th>İstanul</th>\n",
       "      <th>Ankara</th>\n",
       "      <th>İzmir</th>\n",
       "      <th>Antalya</th>\n",
       "    </tr>\n",
       "    <tr>\n",
       "      <th>Günler</th>\n",
       "      <th></th>\n",
       "      <th></th>\n",
       "      <th></th>\n",
       "      <th></th>\n",
       "    </tr>\n",
       "  </thead>\n",
       "  <tbody>\n",
       "    <tr>\n",
       "      <th>Pazartesi</th>\n",
       "      <td>29.0</td>\n",
       "      <td>34.0</td>\n",
       "      <td>39</td>\n",
       "      <td>NaN</td>\n",
       "    </tr>\n",
       "    <tr>\n",
       "      <th>Salı</th>\n",
       "      <td>30.0</td>\n",
       "      <td>NaN</td>\n",
       "      <td>40</td>\n",
       "      <td>NaN</td>\n",
       "    </tr>\n",
       "    <tr>\n",
       "      <th>Çarşamba</th>\n",
       "      <td>NaN</td>\n",
       "      <td>21.0</td>\n",
       "      <td>36</td>\n",
       "      <td>43.0</td>\n",
       "    </tr>\n",
       "  </tbody>\n",
       "</table>\n",
       "</div>"
      ],
      "text/plain": [
       "           İstanul  Ankara  İzmir  Antalya\n",
       "Günler                                    \n",
       "Pazartesi     29.0    34.0     39      NaN\n",
       "Salı          30.0     NaN     40      NaN\n",
       "Çarşamba       NaN    21.0     36     43.0"
      ]
     },
     "execution_count": 61,
     "metadata": {},
     "output_type": "execute_result"
    }
   ],
   "source": [
    "forecastDataFrame"
   ]
  },
  {
   "cell_type": "code",
   "execution_count": 62,
   "id": "b8a95b6f",
   "metadata": {},
   "outputs": [
    {
     "data": {
      "text/html": [
       "<div>\n",
       "<style scoped>\n",
       "    .dataframe tbody tr th:only-of-type {\n",
       "        vertical-align: middle;\n",
       "    }\n",
       "\n",
       "    .dataframe tbody tr th {\n",
       "        vertical-align: top;\n",
       "    }\n",
       "\n",
       "    .dataframe thead th {\n",
       "        text-align: right;\n",
       "    }\n",
       "</style>\n",
       "<table border=\"1\" class=\"dataframe\">\n",
       "  <thead>\n",
       "    <tr style=\"text-align: right;\">\n",
       "      <th></th>\n",
       "      <th>İstanul</th>\n",
       "      <th>Ankara</th>\n",
       "      <th>İzmir</th>\n",
       "    </tr>\n",
       "    <tr>\n",
       "      <th>Günler</th>\n",
       "      <th></th>\n",
       "      <th></th>\n",
       "      <th></th>\n",
       "    </tr>\n",
       "  </thead>\n",
       "  <tbody>\n",
       "    <tr>\n",
       "      <th>Pazartesi</th>\n",
       "      <td>29.0</td>\n",
       "      <td>34.0</td>\n",
       "      <td>39</td>\n",
       "    </tr>\n",
       "    <tr>\n",
       "      <th>Salı</th>\n",
       "      <td>30.0</td>\n",
       "      <td>NaN</td>\n",
       "      <td>40</td>\n",
       "    </tr>\n",
       "    <tr>\n",
       "      <th>Çarşamba</th>\n",
       "      <td>NaN</td>\n",
       "      <td>21.0</td>\n",
       "      <td>36</td>\n",
       "    </tr>\n",
       "  </tbody>\n",
       "</table>\n",
       "</div>"
      ],
      "text/plain": [
       "           İstanul  Ankara  İzmir\n",
       "Günler                           \n",
       "Pazartesi     29.0    34.0     39\n",
       "Salı          30.0     NaN     40\n",
       "Çarşamba       NaN    21.0     36"
      ]
     },
     "execution_count": 62,
     "metadata": {},
     "output_type": "execute_result"
    }
   ],
   "source": [
    "forecastDataFrame.dropna(axis=1, thresh =2) # axis= 1 sütunlarda işlem yapar\n",
    "# thresh= 2 ise 2 veya üzerinde NaN olan verilerin olduğu sütunu atar"
   ]
  },
  {
   "cell_type": "markdown",
   "id": "e769fecd",
   "metadata": {},
   "source": [
    "## Boş verileri doldurmak"
   ]
  },
  {
   "cell_type": "code",
   "execution_count": 71,
   "id": "93d36606",
   "metadata": {},
   "outputs": [
    {
     "data": {
      "text/html": [
       "<div>\n",
       "<style scoped>\n",
       "    .dataframe tbody tr th:only-of-type {\n",
       "        vertical-align: middle;\n",
       "    }\n",
       "\n",
       "    .dataframe tbody tr th {\n",
       "        vertical-align: top;\n",
       "    }\n",
       "\n",
       "    .dataframe thead th {\n",
       "        text-align: right;\n",
       "    }\n",
       "</style>\n",
       "<table border=\"1\" class=\"dataframe\">\n",
       "  <thead>\n",
       "    <tr style=\"text-align: right;\">\n",
       "      <th></th>\n",
       "      <th>İstanul</th>\n",
       "      <th>Ankara</th>\n",
       "      <th>İzmir</th>\n",
       "      <th>Antalya</th>\n",
       "    </tr>\n",
       "    <tr>\n",
       "      <th>Günler</th>\n",
       "      <th></th>\n",
       "      <th></th>\n",
       "      <th></th>\n",
       "      <th></th>\n",
       "    </tr>\n",
       "  </thead>\n",
       "  <tbody>\n",
       "    <tr>\n",
       "      <th>Pazartesi</th>\n",
       "      <td>29.0</td>\n",
       "      <td>34.0</td>\n",
       "      <td>39</td>\n",
       "      <td>20.0</td>\n",
       "    </tr>\n",
       "    <tr>\n",
       "      <th>Salı</th>\n",
       "      <td>30.0</td>\n",
       "      <td>20.0</td>\n",
       "      <td>40</td>\n",
       "      <td>20.0</td>\n",
       "    </tr>\n",
       "    <tr>\n",
       "      <th>Çarşamba</th>\n",
       "      <td>20.0</td>\n",
       "      <td>21.0</td>\n",
       "      <td>36</td>\n",
       "      <td>43.0</td>\n",
       "    </tr>\n",
       "  </tbody>\n",
       "</table>\n",
       "</div>"
      ],
      "text/plain": [
       "           İstanul  Ankara  İzmir  Antalya\n",
       "Günler                                    \n",
       "Pazartesi     29.0    34.0     39     20.0\n",
       "Salı          30.0    20.0     40     20.0\n",
       "Çarşamba      20.0    21.0     36     43.0"
      ]
     },
     "execution_count": 71,
     "metadata": {},
     "output_type": "execute_result"
    }
   ],
   "source": [
    "forecastDataFrame.fillna(20)\n",
    "# \n",
    "# forecastDataFrame.fillna(forecastDataFrame.mean()) ben uydurdum"
   ]
  },
  {
   "cell_type": "code",
   "execution_count": null,
   "id": "3c162398",
   "metadata": {},
   "outputs": [],
   "source": []
  }
 ],
 "metadata": {
  "kernelspec": {
   "display_name": "Python 3",
   "language": "python",
   "name": "python3"
  },
  "language_info": {
   "codemirror_mode": {
    "name": "ipython",
    "version": 3
   },
   "file_extension": ".py",
   "mimetype": "text/x-python",
   "name": "python",
   "nbconvert_exporter": "python",
   "pygments_lexer": "ipython3",
   "version": "3.8.8"
  }
 },
 "nbformat": 4,
 "nbformat_minor": 5
}
