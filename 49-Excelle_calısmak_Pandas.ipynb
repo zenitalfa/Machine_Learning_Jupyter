{
 "cells": [
  {
   "cell_type": "code",
   "execution_count": 1,
   "id": "c44f5253",
   "metadata": {},
   "outputs": [],
   "source": [
    "## EXCEL ile çalışmak"
   ]
  },
  {
   "cell_type": "code",
   "execution_count": 3,
   "id": "b34ce401",
   "metadata": {},
   "outputs": [],
   "source": [
    "import numpy as np\n",
    "import pandas as pd\n"
   ]
  },
  {
   "cell_type": "code",
   "execution_count": 4,
   "id": "e28b5b41",
   "metadata": {},
   "outputs": [],
   "source": [
    "yeniDic = {\"Karakter Sınıfı\" : [\"South\",\"Simpson\",\"South\",\"Family Guy\"],\n",
    "            \"Karakter İsmi\": [\"Ken\", \"Homer\",\"Cartman\",\"Stewie\"],\n",
    "            \"Karakter Yaşı\": [9, 40,19, 3]}"
   ]
  },
  {
   "cell_type": "code",
   "execution_count": 5,
   "id": "ca669fe3",
   "metadata": {},
   "outputs": [],
   "source": [
    "yeniFrame = pd.DataFrame(data = yeniDic)"
   ]
  },
  {
   "cell_type": "code",
   "execution_count": 6,
   "id": "654b073b",
   "metadata": {},
   "outputs": [],
   "source": [
    "yeniFrame.to_excel(\"yeniFrame.xlsx\")"
   ]
  },
  {
   "cell_type": "code",
   "execution_count": null,
   "id": "89c677e6",
   "metadata": {},
   "outputs": [],
   "source": []
  }
 ],
 "metadata": {
  "kernelspec": {
   "display_name": "Python 3 (ipykernel)",
   "language": "python",
   "name": "python3"
  },
  "language_info": {
   "codemirror_mode": {
    "name": "ipython",
    "version": 3
   },
   "file_extension": ".py",
   "mimetype": "text/x-python",
   "name": "python",
   "nbconvert_exporter": "python",
   "pygments_lexer": "ipython3",
   "version": "3.9.7"
  }
 },
 "nbformat": 4,
 "nbformat_minor": 5
}
