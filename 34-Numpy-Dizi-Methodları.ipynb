{
 "cells": [
  {
   "cell_type": "markdown",
   "id": "98728484",
   "metadata": {},
   "source": [
    "## Numpy Dizi Methodları"
   ]
  },
  {
   "cell_type": "code",
   "execution_count": 26,
   "id": "824bd149",
   "metadata": {},
   "outputs": [],
   "source": [
    "import numpy as np\n",
    "benimDizim = np.arange(0,30)"
   ]
  },
  {
   "cell_type": "code",
   "execution_count": 27,
   "id": "7db75596",
   "metadata": {},
   "outputs": [
    {
     "data": {
      "text/plain": [
       "array([ 0,  1,  2,  3,  4,  5,  6,  7,  8,  9, 10, 11, 12, 13, 14, 15, 16,\n",
       "       17, 18, 19, 20, 21, 22, 23, 24, 25, 26, 27, 28, 29])"
      ]
     },
     "execution_count": 27,
     "metadata": {},
     "output_type": "execute_result"
    }
   ],
   "source": [
    "benimDizim"
   ]
  },
  {
   "cell_type": "code",
   "execution_count": 28,
   "id": "bd34df55",
   "metadata": {},
   "outputs": [
    {
     "data": {
      "text/plain": [
       "14.5"
      ]
     },
     "execution_count": 28,
     "metadata": {},
     "output_type": "execute_result"
    }
   ],
   "source": [
    "# ortalama değer\n",
    "benimDizim.mean()\n",
    "\n"
   ]
  },
  {
   "cell_type": "code",
   "execution_count": 30,
   "id": "b49e3ec9",
   "metadata": {},
   "outputs": [
    {
     "data": {
      "text/plain": [
       "array([  0,   1,   3,   6,  10,  15,  21,  28,  36,  45,  55,  66,  78,\n",
       "        91, 105, 120, 136, 153, 171, 190, 210, 231, 253, 276, 300, 325,\n",
       "       351, 378, 406, 435], dtype=int32)"
      ]
     },
     "execution_count": 30,
     "metadata": {},
     "output_type": "execute_result"
    }
   ],
   "source": [
    "# kümülatif toplamı verir\n",
    "benimDizim.cumsum()"
   ]
  },
  {
   "cell_type": "code",
   "execution_count": 31,
   "id": "00729a0e",
   "metadata": {},
   "outputs": [],
   "source": [
    "# Tüm diziyi verilen sayıyla doldurur\n",
    "benimDizim.fill(10)"
   ]
  },
  {
   "cell_type": "code",
   "execution_count": 32,
   "id": "76741fcc",
   "metadata": {},
   "outputs": [
    {
     "data": {
      "text/plain": [
       "array([10, 10, 10, 10, 10, 10, 10, 10, 10, 10, 10, 10, 10, 10, 10, 10, 10,\n",
       "       10, 10, 10, 10, 10, 10, 10, 10, 10, 10, 10, 10, 10])"
      ]
     },
     "execution_count": 32,
     "metadata": {},
     "output_type": "execute_result"
    }
   ],
   "source": [
    "benimDizim"
   ]
  },
  {
   "cell_type": "code",
   "execution_count": 38,
   "id": "b04ec309",
   "metadata": {},
   "outputs": [
    {
     "data": {
      "text/plain": [
       "array([ 0,  1,  2,  3,  4,  5,  6,  7,  8,  9, 10, 11, 12, 13, 14, 15, 16,\n",
       "       17, 18, 19, 20, 21, 22, 23, 24, 25, 26, 27, 28, 29])"
      ]
     },
     "execution_count": 38,
     "metadata": {},
     "output_type": "execute_result"
    }
   ],
   "source": [
    "yeniDizi = np.arange(0,30)\n",
    "yeniDizi"
   ]
  },
  {
   "cell_type": "code",
   "execution_count": 42,
   "id": "33134e26",
   "metadata": {},
   "outputs": [
    {
     "data": {
      "text/plain": [
       "array([[ 0,  1,  2,  3,  4],\n",
       "       [ 5,  6,  7,  8,  9],\n",
       "       [10, 11, 12, 13, 14],\n",
       "       [15, 16, 17, 18, 19],\n",
       "       [20, 21, 22, 23, 24],\n",
       "       [25, 26, 27, 28, 29]])"
      ]
     },
     "execution_count": 42,
     "metadata": {},
     "output_type": "execute_result"
    }
   ],
   "source": [
    "# Diziyi 6x5 şeklinde reshape eder\n",
    "yeniMatris = yeniDizi.reshape(6,5)\n",
    "yeniMatris"
   ]
  },
  {
   "cell_type": "code",
   "execution_count": 44,
   "id": "7365e28f",
   "metadata": {},
   "outputs": [
    {
     "data": {
      "text/plain": [
       "array([[ 0,  5, 10, 15, 20, 25],\n",
       "       [ 1,  6, 11, 16, 21, 26],\n",
       "       [ 2,  7, 12, 17, 22, 27],\n",
       "       [ 3,  8, 13, 18, 23, 28],\n",
       "       [ 4,  9, 14, 19, 24, 29]])"
      ]
     },
     "execution_count": 44,
     "metadata": {},
     "output_type": "execute_result"
    }
   ],
   "source": [
    "# Matrisin transpozunu alır\n",
    "yeniMatris.T"
   ]
  },
  {
   "cell_type": "code",
   "execution_count": 45,
   "id": "15cbe28b",
   "metadata": {},
   "outputs": [],
   "source": [
    "integerDizi = np.random.randint(0,100,24)"
   ]
  },
  {
   "cell_type": "code",
   "execution_count": 46,
   "id": "440d3a00",
   "metadata": {},
   "outputs": [
    {
     "data": {
      "text/plain": [
       "array([45, 93, 76, 55, 29,  2, 56, 98, 50, 27, 59, 48, 99, 46, 58, 88, 89,\n",
       "       14, 33, 53, 18, 89, 46,  3])"
      ]
     },
     "execution_count": 46,
     "metadata": {},
     "output_type": "execute_result"
    }
   ],
   "source": [
    "integerDizi"
   ]
  },
  {
   "cell_type": "code",
   "execution_count": 48,
   "id": "e0c857fd",
   "metadata": {},
   "outputs": [
    {
     "data": {
      "text/plain": [
       "12"
      ]
     },
     "execution_count": 48,
     "metadata": {},
     "output_type": "execute_result"
    }
   ],
   "source": [
    "# argmax ile max sayının indeksini görmek mümkündür\n",
    "integerDizi.argmax()"
   ]
  },
  {
   "cell_type": "code",
   "execution_count": 50,
   "id": "5d59eedf",
   "metadata": {},
   "outputs": [
    {
     "data": {
      "text/plain": [
       "99"
      ]
     },
     "execution_count": 50,
     "metadata": {},
     "output_type": "execute_result"
    }
   ],
   "source": [
    "integerDizi.max()"
   ]
  },
  {
   "cell_type": "code",
   "execution_count": 51,
   "id": "8dccc2fa",
   "metadata": {},
   "outputs": [
    {
     "data": {
      "text/plain": [
       "5"
      ]
     },
     "execution_count": 51,
     "metadata": {},
     "output_type": "execute_result"
    }
   ],
   "source": [
    "integerDizi.argmin()"
   ]
  },
  {
   "cell_type": "code",
   "execution_count": 53,
   "id": "68731cfc",
   "metadata": {},
   "outputs": [
    {
     "data": {
      "text/plain": [
       "2"
      ]
     },
     "execution_count": 53,
     "metadata": {},
     "output_type": "execute_result"
    }
   ],
   "source": [
    "integerDizi[5]"
   ]
  },
  {
   "cell_type": "code",
   "execution_count": null,
   "id": "5f265a02",
   "metadata": {},
   "outputs": [],
   "source": []
  }
 ],
 "metadata": {
  "kernelspec": {
   "display_name": "Python 3",
   "language": "python",
   "name": "python3"
  },
  "language_info": {
   "codemirror_mode": {
    "name": "ipython",
    "version": 3
   },
   "file_extension": ".py",
   "mimetype": "text/x-python",
   "name": "python",
   "nbconvert_exporter": "python",
   "pygments_lexer": "ipython3",
   "version": "3.8.8"
  }
 },
 "nbformat": 4,
 "nbformat_minor": 5
}
