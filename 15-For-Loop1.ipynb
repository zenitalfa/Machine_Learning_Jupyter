{
 "cells": [
  {
   "cell_type": "markdown",
   "id": "b86b7068",
   "metadata": {},
   "source": [
    "## For loop-örnek"
   ]
  },
  {
   "cell_type": "code",
   "execution_count": 1,
   "id": "09823166",
   "metadata": {},
   "outputs": [],
   "source": [
    "listeDeneme = [12,\"be yourself\",1243,19,6]"
   ]
  },
  {
   "cell_type": "code",
   "execution_count": 2,
   "id": "242d78e3",
   "metadata": {},
   "outputs": [
    {
     "name": "stdout",
     "output_type": "stream",
     "text": [
      "12\n",
      "be yourself\n",
      "1243\n",
      "19\n",
      "6\n"
     ]
    }
   ],
   "source": [
    "for blk in listeDeneme:\n",
    "    print(blk)"
   ]
  },
  {
   "cell_type": "code",
   "execution_count": 12,
   "id": "43e9f12e",
   "metadata": {},
   "outputs": [
    {
     "name": "stdout",
     "output_type": "stream",
     "text": [
      "[0. 0. 0. 0.]\n"
     ]
    }
   ],
   "source": [
    "import numpy as np\n",
    "k = np.zeros(4)\n",
    "print(k)\n",
    "liste2 = [1,98,2,34]"
   ]
  },
  {
   "cell_type": "code",
   "execution_count": 13,
   "id": "ec3cbdc7",
   "metadata": {},
   "outputs": [
    {
     "name": "stdout",
     "output_type": "stream",
     "text": [
      "[ 1. 98.  2. 34.]\n"
     ]
    }
   ],
   "source": [
    "for numara in range(len(liste2)):\n",
    "    k[numara] = liste2[numara]\n",
    "print(k)"
   ]
  },
  {
   "cell_type": "markdown",
   "id": "e70dea6e",
   "metadata": {},
   "source": [
    "## Tek-çift sayıları bulan program"
   ]
  },
  {
   "cell_type": "code",
   "execution_count": 14,
   "id": "9f69a9b7",
   "metadata": {},
   "outputs": [],
   "source": [
    "listeRakam = [17,12,98,33,21,76,19,23]"
   ]
  },
  {
   "cell_type": "code",
   "execution_count": 19,
   "id": "fe82d217",
   "metadata": {},
   "outputs": [
    {
     "name": "stdout",
     "output_type": "stream",
     "text": [
      "17\n",
      "Sayı tektir\n",
      "12\n",
      "Sayı çifttir\n",
      "98\n",
      "Sayı çifttir\n",
      "33\n",
      "Sayı tektir\n",
      "21\n",
      "Sayı tektir\n",
      "76\n",
      "Sayı çifttir\n",
      "19\n",
      "Sayı tektir\n",
      "23\n",
      "Sayı tektir\n"
     ]
    }
   ],
   "source": [
    "for numara in listeRakam:\n",
    "    if numara % 2 ==0:\n",
    "        print(numara)\n",
    "        print(\"Sayı çifttir\")\n",
    "    elif numara % 2 ==1 :\n",
    "        print(numara)\n",
    "        print(\"Sayı tektir\")\n",
    "    else:\n",
    "        print(\"Sayı rasyonel olmayabilir\")"
   ]
  },
  {
   "cell_type": "markdown",
   "id": "e28a3278",
   "metadata": {},
   "source": [
    "## For döngüsü ve koleksiyonlar-tuple-string-dictionary vs"
   ]
  },
  {
   "cell_type": "markdown",
   "id": "04536087",
   "metadata": {},
   "source": [
    "## Tuple için"
   ]
  },
  {
   "cell_type": "code",
   "execution_count": 23,
   "id": "0c02c1dd",
   "metadata": {},
   "outputs": [],
   "source": [
    "benimTuple = (87,33,4,8,12) # tuple, normal parantez"
   ]
  },
  {
   "cell_type": "code",
   "execution_count": 22,
   "id": "293d9cd0",
   "metadata": {},
   "outputs": [
    {
     "name": "stdout",
     "output_type": "stream",
     "text": [
      "87\n",
      "87\n",
      "33\n",
      "120\n",
      "4\n",
      "124\n",
      "8\n",
      "132\n",
      "12\n",
      "144\n"
     ]
    }
   ],
   "source": [
    "top = 0\n",
    "for value in benimTuple:\n",
    "    print(value)\n",
    "    top= value + top\n",
    "    print(top)"
   ]
  },
  {
   "cell_type": "markdown",
   "id": "3d1de71d",
   "metadata": {},
   "source": [
    "## String için"
   ]
  },
  {
   "cell_type": "code",
   "execution_count": 25,
   "id": "6a686bee",
   "metadata": {},
   "outputs": [
    {
     "name": "stdout",
     "output_type": "stream",
     "text": [
      "N\n",
      "e\n",
      "v\n",
      "e\n",
      "r\n",
      " \n",
      "g\n",
      "i\n",
      "v\n",
      "e\n",
      " \n",
      "u\n",
      "p\n",
      ",\n",
      " \n",
      "Z\n",
      "e\n",
      "n\n",
      "i\n",
      "t\n"
     ]
    }
   ],
   "source": [
    "myString = \"Never give up, Zenit\"\n",
    "for letter in myString:\n",
    "    print(letter)"
   ]
  },
  {
   "cell_type": "code",
   "execution_count": 26,
   "id": "82081f06",
   "metadata": {},
   "outputs": [
    {
     "data": {
      "text/plain": [
       "list"
      ]
     },
     "execution_count": 26,
     "metadata": {},
     "output_type": "execute_result"
    }
   ],
   "source": [
    "listeTuple = [(\"a\",\"xyz\",12), (13,9,278), (4,0,\"b\")]\n",
    "type(listeTuple)"
   ]
  },
  {
   "cell_type": "code",
   "execution_count": 30,
   "id": "dbe6879a",
   "metadata": {},
   "outputs": [
    {
     "data": {
      "text/plain": [
       "tuple"
      ]
     },
     "execution_count": 30,
     "metadata": {},
     "output_type": "execute_result"
    }
   ],
   "source": [
    "type(listeTuple[1]) # listenin elemanları tuple\n"
   ]
  },
  {
   "cell_type": "code",
   "execution_count": 31,
   "id": "5e3120a3",
   "metadata": {},
   "outputs": [
    {
     "data": {
      "text/plain": [
       "3"
      ]
     },
     "execution_count": 31,
     "metadata": {},
     "output_type": "execute_result"
    }
   ],
   "source": [
    "len(listeTuple)"
   ]
  },
  {
   "cell_type": "code",
   "execution_count": 32,
   "id": "2c8f988e",
   "metadata": {},
   "outputs": [
    {
     "name": "stdout",
     "output_type": "stream",
     "text": [
      "a\n",
      "13\n",
      "4\n"
     ]
    }
   ],
   "source": [
    "for (x,y,z) in listeTuple: #listedeki üçlü elemanların ilkini yazdırır\n",
    "    print(x)"
   ]
  },
  {
   "cell_type": "code",
   "execution_count": 33,
   "id": "7bcc62a8",
   "metadata": {},
   "outputs": [
    {
     "name": "stdout",
     "output_type": "stream",
     "text": [
      "a xyz\n",
      "13 9\n",
      "4 0\n"
     ]
    }
   ],
   "source": [
    "for (x,y,z) in listeTuple: # iki elemanı yazdırır\n",
    "    print(x,y)"
   ]
  },
  {
   "cell_type": "markdown",
   "id": "1217b40a",
   "metadata": {},
   "source": [
    "## for loop-dictionary\n"
   ]
  },
  {
   "cell_type": "code",
   "execution_count": 34,
   "id": "e6c945f7",
   "metadata": {},
   "outputs": [],
   "source": [
    "benimDict = {\"zenit\": 1243, \"platin\":4, \"devrim\": 1789}"
   ]
  },
  {
   "cell_type": "code",
   "execution_count": 36,
   "id": "c6399cfe",
   "metadata": {},
   "outputs": [
    {
     "data": {
      "text/plain": [
       "dict"
      ]
     },
     "execution_count": 36,
     "metadata": {},
     "output_type": "execute_result"
    }
   ],
   "source": [
    "type(benimDict)"
   ]
  },
  {
   "cell_type": "code",
   "execution_count": 38,
   "id": "b358b21e",
   "metadata": {},
   "outputs": [
    {
     "name": "stdout",
     "output_type": "stream",
     "text": [
      "zenit\n",
      "platin\n",
      "devrim\n"
     ]
    }
   ],
   "source": [
    "for eleman in benimDict.keys(): # Dictionarynin keyleri\n",
    "    print(eleman)\n"
   ]
  },
  {
   "cell_type": "code",
   "execution_count": 39,
   "id": "7b00288e",
   "metadata": {},
   "outputs": [
    {
     "name": "stdout",
     "output_type": "stream",
     "text": [
      "1243\n",
      "4\n",
      "1789\n"
     ]
    }
   ],
   "source": [
    "for i in benimDict.values(): # değerler\n",
    "    print(i)"
   ]
  },
  {
   "cell_type": "code",
   "execution_count": null,
   "id": "609c88ee",
   "metadata": {},
   "outputs": [],
   "source": []
  }
 ],
 "metadata": {
  "kernelspec": {
   "display_name": "Python 3",
   "language": "python",
   "name": "python3"
  },
  "language_info": {
   "codemirror_mode": {
    "name": "ipython",
    "version": 3
   },
   "file_extension": ".py",
   "mimetype": "text/x-python",
   "name": "python",
   "nbconvert_exporter": "python",
   "pygments_lexer": "ipython3",
   "version": "3.8.8"
  }
 },
 "nbformat": 4,
 "nbformat_minor": 5
}
