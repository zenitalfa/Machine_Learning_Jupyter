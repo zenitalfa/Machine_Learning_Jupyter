{
 "cells": [
  {
   "cell_type": "markdown",
   "id": "9147602b",
   "metadata": {},
   "source": [
    "## Numpy-İndeksler"
   ]
  },
  {
   "cell_type": "code",
   "execution_count": 2,
   "id": "40af89c8",
   "metadata": {},
   "outputs": [],
   "source": [
    "import numpy as np"
   ]
  },
  {
   "cell_type": "code",
   "execution_count": 5,
   "id": "30a5de65",
   "metadata": {},
   "outputs": [],
   "source": [
    "ilkDizi = np.arange(0,30)"
   ]
  },
  {
   "cell_type": "code",
   "execution_count": 6,
   "id": "2864e41d",
   "metadata": {},
   "outputs": [
    {
     "data": {
      "text/plain": [
       "array([ 0,  1,  2,  3,  4,  5,  6,  7,  8,  9, 10, 11, 12, 13, 14, 15, 16,\n",
       "       17, 18, 19, 20, 21, 22, 23, 24, 25, 26, 27, 28, 29])"
      ]
     },
     "execution_count": 6,
     "metadata": {},
     "output_type": "execute_result"
    }
   ],
   "source": [
    "ilkDizi"
   ]
  },
  {
   "cell_type": "code",
   "execution_count": 10,
   "id": "674c8bdb",
   "metadata": {},
   "outputs": [
    {
     "data": {
      "text/plain": [
       "array([ 4,  5,  6,  7,  8,  9, 10, 11])"
      ]
     },
     "execution_count": 10,
     "metadata": {},
     "output_type": "execute_result"
    }
   ],
   "source": [
    "# 4 ve 12 indeksleri arasındaki veriyi yazdırdı, 12 hariç\n",
    "ilkDizi[4:12]"
   ]
  },
  {
   "cell_type": "code",
   "execution_count": 15,
   "id": "8a68e939",
   "metadata": {},
   "outputs": [],
   "source": [
    "# diziye eleman eklenebilir\n",
    "ilkDizi[25: 34] = -13"
   ]
  },
  {
   "cell_type": "code",
   "execution_count": 16,
   "id": "1cd2800b",
   "metadata": {},
   "outputs": [
    {
     "data": {
      "text/plain": [
       "array([  0,   1,   2,   3,   4,   5,   6,   7,   8,   9,  10,  11,  12,\n",
       "        13,  14,  15,  16,  17,  18,  19,  20,  21,  22,  23,  24, -13,\n",
       "       -13, -13, -13, -13])"
      ]
     },
     "execution_count": 16,
     "metadata": {},
     "output_type": "execute_result"
    }
   ],
   "source": [
    "ilkDizi"
   ]
  },
  {
   "cell_type": "markdown",
   "id": "bd9ba652",
   "metadata": {},
   "source": [
    "## Slicing ile indeks işlemi\n"
   ]
  },
  {
   "cell_type": "code",
   "execution_count": 19,
   "id": "e5de18cd",
   "metadata": {},
   "outputs": [],
   "source": [
    "arrayNew = np.arange(0,24)"
   ]
  },
  {
   "cell_type": "code",
   "execution_count": 20,
   "id": "df2c7421",
   "metadata": {},
   "outputs": [
    {
     "data": {
      "text/plain": [
       "array([ 0,  1,  2,  3,  4,  5,  6,  7,  8,  9, 10, 11, 12, 13, 14, 15, 16,\n",
       "       17, 18, 19, 20, 21, 22, 23])"
      ]
     },
     "execution_count": 20,
     "metadata": {},
     "output_type": "execute_result"
    }
   ],
   "source": [
    "arrayNew"
   ]
  },
  {
   "cell_type": "code",
   "execution_count": 21,
   "id": "f9d4e83b",
   "metadata": {},
   "outputs": [],
   "source": [
    "# bu işleme slicing denir, hatırla\n",
    "slicingArray = arrayNew[4: 14]"
   ]
  },
  {
   "cell_type": "code",
   "execution_count": 22,
   "id": "af1f791d",
   "metadata": {},
   "outputs": [
    {
     "data": {
      "text/plain": [
       "array([ 4,  5,  6,  7,  8,  9, 10, 11, 12, 13])"
      ]
     },
     "execution_count": 22,
     "metadata": {},
     "output_type": "execute_result"
    }
   ],
   "source": [
    "slicingArray"
   ]
  },
  {
   "cell_type": "code",
   "execution_count": 23,
   "id": "b6bf4dea",
   "metadata": {},
   "outputs": [
    {
     "data": {
      "text/plain": [
       "array([ 4,  5,  6,  7,  8,  9, 10, 11, 12, 13])"
      ]
     },
     "execution_count": 23,
     "metadata": {},
     "output_type": "execute_result"
    }
   ],
   "source": [
    "slicingArray[:]"
   ]
  },
  {
   "cell_type": "code",
   "execution_count": 24,
   "id": "9687f473",
   "metadata": {},
   "outputs": [],
   "source": [
    "slicingArray[:] = 400 "
   ]
  },
  {
   "cell_type": "code",
   "execution_count": 26,
   "id": "736a94d2",
   "metadata": {},
   "outputs": [
    {
     "data": {
      "text/plain": [
       "array([400, 400, 400, 400, 400, 400, 400, 400, 400, 400])"
      ]
     },
     "execution_count": 26,
     "metadata": {},
     "output_type": "execute_result"
    }
   ],
   "source": [
    "# slicingArray içerisindeki tüm elemanlar 400 oldu\n",
    "slicingArray"
   ]
  },
  {
   "cell_type": "code",
   "execution_count": 27,
   "id": "06b19506",
   "metadata": {},
   "outputs": [
    {
     "data": {
      "text/plain": [
       "array([  0,   1,   2,   3, 400, 400, 400, 400, 400, 400, 400, 400, 400,\n",
       "       400,  14,  15,  16,  17,  18,  19,  20,  21,  22,  23])"
      ]
     },
     "execution_count": 27,
     "metadata": {},
     "output_type": "execute_result"
    }
   ],
   "source": [
    "# slicingArray, arrayNew e ait bir parça gibi davranır\n",
    "arrayNew"
   ]
  },
  {
   "cell_type": "code",
   "execution_count": 28,
   "id": "164da90f",
   "metadata": {},
   "outputs": [],
   "source": [
    "# Burada da elemanların değiştini görmekteyiz"
   ]
  },
  {
   "cell_type": "code",
   "execution_count": 31,
   "id": "80ef178f",
   "metadata": {},
   "outputs": [],
   "source": [
    "# Bu işlem olmasın istersek kopyasını alabiliriz\n",
    "arrayNew = np.arange(0,24)\n",
    "arrayCopy = arrayNew.copy()"
   ]
  },
  {
   "cell_type": "code",
   "execution_count": 32,
   "id": "56c192f2",
   "metadata": {},
   "outputs": [
    {
     "data": {
      "text/plain": [
       "array([ 0,  1,  2,  3,  4,  5,  6,  7,  8,  9, 10, 11, 12, 13, 14, 15, 16,\n",
       "       17, 18, 19, 20, 21, 22, 23])"
      ]
     },
     "execution_count": 32,
     "metadata": {},
     "output_type": "execute_result"
    }
   ],
   "source": [
    "arrayCopy"
   ]
  },
  {
   "cell_type": "code",
   "execution_count": 33,
   "id": "4a0eb045",
   "metadata": {},
   "outputs": [],
   "source": [
    "slicingCopy = arrayCopy[4: 19]"
   ]
  },
  {
   "cell_type": "code",
   "execution_count": 34,
   "id": "509a42c7",
   "metadata": {},
   "outputs": [
    {
     "data": {
      "text/plain": [
       "array([ 4,  5,  6,  7,  8,  9, 10, 11, 12, 13, 14, 15, 16, 17, 18])"
      ]
     },
     "execution_count": 34,
     "metadata": {},
     "output_type": "execute_result"
    }
   ],
   "source": [
    "slicingCopy"
   ]
  },
  {
   "cell_type": "code",
   "execution_count": 35,
   "id": "8eec2bd7",
   "metadata": {},
   "outputs": [],
   "source": [
    "slicingCopy[:] = 400"
   ]
  },
  {
   "cell_type": "code",
   "execution_count": 36,
   "id": "cd03f35c",
   "metadata": {},
   "outputs": [
    {
     "data": {
      "text/plain": [
       "array([400, 400, 400, 400, 400, 400, 400, 400, 400, 400, 400, 400, 400,\n",
       "       400, 400])"
      ]
     },
     "execution_count": 36,
     "metadata": {},
     "output_type": "execute_result"
    }
   ],
   "source": [
    "slicingCopy"
   ]
  },
  {
   "cell_type": "code",
   "execution_count": 37,
   "id": "cb966e8d",
   "metadata": {},
   "outputs": [
    {
     "data": {
      "text/plain": [
       "array([ 0,  1,  2,  3,  4,  5,  6,  7,  8,  9, 10, 11, 12, 13, 14, 15, 16,\n",
       "       17, 18, 19, 20, 21, 22, 23])"
      ]
     },
     "execution_count": 37,
     "metadata": {},
     "output_type": "execute_result"
    }
   ],
   "source": [
    "# Herhangi bir değişiklik olmaz\n",
    "arrayNew"
   ]
  },
  {
   "cell_type": "code",
   "execution_count": 38,
   "id": "b9011b72",
   "metadata": {},
   "outputs": [
    {
     "data": {
      "text/plain": [
       "array([  0,   1,   2,   3, 400, 400, 400, 400, 400, 400, 400, 400, 400,\n",
       "       400, 400, 400, 400, 400, 400,  19,  20,  21,  22,  23])"
      ]
     },
     "execution_count": 38,
     "metadata": {},
     "output_type": "execute_result"
    }
   ],
   "source": [
    "# Kopya dizi değişir\n",
    "arrayCopy"
   ]
  },
  {
   "cell_type": "code",
   "execution_count": null,
   "id": "5bfb21b9",
   "metadata": {},
   "outputs": [],
   "source": []
  }
 ],
 "metadata": {
  "kernelspec": {
   "display_name": "Python 3",
   "language": "python",
   "name": "python3"
  },
  "language_info": {
   "codemirror_mode": {
    "name": "ipython",
    "version": 3
   },
   "file_extension": ".py",
   "mimetype": "text/x-python",
   "name": "python",
   "nbconvert_exporter": "python",
   "pygments_lexer": "ipython3",
   "version": "3.8.8"
  }
 },
 "nbformat": 4,
 "nbformat_minor": 5
}
