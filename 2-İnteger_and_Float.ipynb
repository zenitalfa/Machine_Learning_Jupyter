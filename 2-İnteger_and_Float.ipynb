{
 "cells": [
  {
   "cell_type": "markdown",
   "id": "a64b5799",
   "metadata": {},
   "source": [
    "## Python- İnteger & Float\n"
   ]
  },
  {
   "cell_type": "markdown",
   "id": "7be2b0ef",
   "metadata": {},
   "source": [
    "pi = 3.14\n",
    "print(pi)\n",
    "type(pi)"
   ]
  },
  {
   "cell_type": "code",
   "execution_count": 3,
   "id": "72d91342",
   "metadata": {},
   "outputs": [
    {
     "data": {
      "text/plain": [
       "int"
      ]
     },
     "execution_count": 3,
     "metadata": {},
     "output_type": "execute_result"
    }
   ],
   "source": [
    "x = 5\n",
    "type(x)\n"
   ]
  },
  {
   "cell_type": "code",
   "execution_count": 4,
   "id": "7f3081ac",
   "metadata": {},
   "outputs": [
    {
     "data": {
      "text/plain": [
       "float"
      ]
     },
     "execution_count": 4,
     "metadata": {},
     "output_type": "execute_result"
    }
   ],
   "source": [
    "type(x*pi)\n",
    "type(x+pi)\n",
    "type(x/pi)\n",
    "type(x-pi)\n",
    "# İnteger ve float sayılar çarpılabilir, bölünebilir, dört işlem yapılabilir"
   ]
  },
  {
   "cell_type": "code",
   "execution_count": 6,
   "id": "f5884743",
   "metadata": {},
   "outputs": [
    {
     "name": "stdout",
     "output_type": "stream",
     "text": [
      "30\n"
     ]
    },
    {
     "data": {
      "text/plain": [
       "int"
      ]
     },
     "execution_count": 6,
     "metadata": {},
     "output_type": "execute_result"
    }
   ],
   "source": [
    "y = 6\n",
    "sonuc = x*y\n",
    "print(sonuc)\n",
    "type(sonuc)"
   ]
  },
  {
   "cell_type": "markdown",
   "id": "5e53fa1b",
   "metadata": {},
   "source": [
    "## Matematiksel İşlemler\n",
    "\n",
    "\n"
   ]
  },
  {
   "cell_type": "code",
   "execution_count": 15,
   "id": "7b3516c2",
   "metadata": {},
   "outputs": [
    {
     "name": "stdout",
     "output_type": "stream",
     "text": [
      "5\n"
     ]
    },
    {
     "data": {
      "text/plain": [
       "25"
      ]
     },
     "execution_count": 15,
     "metadata": {},
     "output_type": "execute_result"
    }
   ],
   "source": [
    "# Üs alma\n",
    "\n",
    "print(x)\n",
    "x**2\n"
   ]
  },
  {
   "cell_type": "code",
   "execution_count": 16,
   "id": "639d7e32",
   "metadata": {},
   "outputs": [
    {
     "data": {
      "text/plain": [
       "100000"
      ]
     },
     "execution_count": 16,
     "metadata": {},
     "output_type": "execute_result"
    }
   ],
   "source": [
    "y= 10\n",
    "y**x"
   ]
  },
  {
   "cell_type": "markdown",
   "id": "90b9f911",
   "metadata": {},
   "source": [
    "## Remainder - Kalanını Bulmak"
   ]
  },
  {
   "cell_type": "code",
   "execution_count": 18,
   "id": "99f5d95c",
   "metadata": {},
   "outputs": [
    {
     "data": {
      "text/plain": [
       "1"
      ]
     },
     "execution_count": 18,
     "metadata": {},
     "output_type": "execute_result"
    }
   ],
   "source": [
    "10 % 2 # yüzde işareti ile gösterilir"
   ]
  },
  {
   "cell_type": "code",
   "execution_count": 19,
   "id": "a7ddf325",
   "metadata": {},
   "outputs": [
    {
     "data": {
      "text/plain": [
       "1"
      ]
     },
     "execution_count": 19,
     "metadata": {},
     "output_type": "execute_result"
    }
   ],
   "source": [
    "11%2 # bir nevi modunu almak demektir"
   ]
  },
  {
   "cell_type": "code",
   "execution_count": 25,
   "id": "7197859d",
   "metadata": {},
   "outputs": [
    {
     "name": "stdout",
     "output_type": "stream",
     "text": [
      "Yaşınızı Giriniz : 29\n",
      "29.0\n"
     ]
    }
   ],
   "source": [
    "kullanicininYasi = float(input(\"Yaşınızı Giriniz : \"))\n",
    "print(kullanicininYasi)"
   ]
  },
  {
   "cell_type": "code",
   "execution_count": null,
   "id": "a658b2a0",
   "metadata": {},
   "outputs": [],
   "source": []
  }
 ],
 "metadata": {
  "kernelspec": {
   "display_name": "Python 3",
   "language": "python",
   "name": "python3"
  },
  "language_info": {
   "codemirror_mode": {
    "name": "ipython",
    "version": 3
   },
   "file_extension": ".py",
   "mimetype": "text/x-python",
   "name": "python",
   "nbconvert_exporter": "python",
   "pygments_lexer": "ipython3",
   "version": "3.8.8"
  }
 },
 "nbformat": 4,
 "nbformat_minor": 5
}
