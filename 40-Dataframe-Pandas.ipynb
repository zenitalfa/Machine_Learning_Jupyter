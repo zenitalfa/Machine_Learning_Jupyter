{
 "cells": [
  {
   "cell_type": "markdown",
   "id": "966e6fac",
   "metadata": {},
   "source": [
    "## DATAFRAME"
   ]
  },
  {
   "cell_type": "code",
   "execution_count": 6,
   "id": "6c35fc06",
   "metadata": {},
   "outputs": [],
   "source": [
    "import numpy as np\n",
    "import pandas as pd\n"
   ]
  },
  {
   "cell_type": "code",
   "execution_count": 7,
   "id": "3cef207d",
   "metadata": {},
   "outputs": [],
   "source": [
    "data = np.random.randn(4,3)"
   ]
  },
  {
   "cell_type": "code",
   "execution_count": 8,
   "id": "c36b19f5",
   "metadata": {},
   "outputs": [
    {
     "data": {
      "text/plain": [
       "array([[ 0.00853625, -0.3895937 , -0.97562883],\n",
       "       [ 1.33836844, -0.3163605 ,  0.11398823],\n",
       "       [-0.95018344, -1.66838069, -0.95702532],\n",
       "       [ 0.83133242,  0.11774678, -1.49493107]])"
      ]
     },
     "execution_count": 8,
     "metadata": {},
     "output_type": "execute_result"
    }
   ],
   "source": [
    "data"
   ]
  },
  {
   "cell_type": "markdown",
   "id": "f554ac7a",
   "metadata": {},
   "source": [
    "## dataframe objesi"
   ]
  },
  {
   "cell_type": "code",
   "execution_count": 9,
   "id": "4c88a1d6",
   "metadata": {},
   "outputs": [],
   "source": [
    "dataFrame = pd.DataFrame(data)"
   ]
  },
  {
   "cell_type": "code",
   "execution_count": 10,
   "id": "f5a0cd58",
   "metadata": {},
   "outputs": [
    {
     "data": {
      "text/html": [
       "<div>\n",
       "<style scoped>\n",
       "    .dataframe tbody tr th:only-of-type {\n",
       "        vertical-align: middle;\n",
       "    }\n",
       "\n",
       "    .dataframe tbody tr th {\n",
       "        vertical-align: top;\n",
       "    }\n",
       "\n",
       "    .dataframe thead th {\n",
       "        text-align: right;\n",
       "    }\n",
       "</style>\n",
       "<table border=\"1\" class=\"dataframe\">\n",
       "  <thead>\n",
       "    <tr style=\"text-align: right;\">\n",
       "      <th></th>\n",
       "      <th>0</th>\n",
       "      <th>1</th>\n",
       "      <th>2</th>\n",
       "    </tr>\n",
       "  </thead>\n",
       "  <tbody>\n",
       "    <tr>\n",
       "      <th>0</th>\n",
       "      <td>0.008536</td>\n",
       "      <td>-0.389594</td>\n",
       "      <td>-0.975629</td>\n",
       "    </tr>\n",
       "    <tr>\n",
       "      <th>1</th>\n",
       "      <td>1.338368</td>\n",
       "      <td>-0.316360</td>\n",
       "      <td>0.113988</td>\n",
       "    </tr>\n",
       "    <tr>\n",
       "      <th>2</th>\n",
       "      <td>-0.950183</td>\n",
       "      <td>-1.668381</td>\n",
       "      <td>-0.957025</td>\n",
       "    </tr>\n",
       "    <tr>\n",
       "      <th>3</th>\n",
       "      <td>0.831332</td>\n",
       "      <td>0.117747</td>\n",
       "      <td>-1.494931</td>\n",
       "    </tr>\n",
       "  </tbody>\n",
       "</table>\n",
       "</div>"
      ],
      "text/plain": [
       "          0         1         2\n",
       "0  0.008536 -0.389594 -0.975629\n",
       "1  1.338368 -0.316360  0.113988\n",
       "2 -0.950183 -1.668381 -0.957025\n",
       "3  0.831332  0.117747 -1.494931"
      ]
     },
     "execution_count": 10,
     "metadata": {},
     "output_type": "execute_result"
    }
   ],
   "source": [
    "dataFrame"
   ]
  },
  {
   "cell_type": "code",
   "execution_count": 11,
   "id": "6dd38226",
   "metadata": {},
   "outputs": [
    {
     "data": {
      "text/plain": [
       "0    0.008536\n",
       "1    1.338368\n",
       "2   -0.950183\n",
       "3    0.831332\n",
       "Name: 0, dtype: float64"
      ]
     },
     "execution_count": 11,
     "metadata": {},
     "output_type": "execute_result"
    }
   ],
   "source": [
    "dataFrame[0] # içeriye yazılan sütunları getirir"
   ]
  },
  {
   "cell_type": "code",
   "execution_count": 12,
   "id": "c497de06",
   "metadata": {},
   "outputs": [
    {
     "data": {
      "text/plain": [
       "0   -0.975629\n",
       "1    0.113988\n",
       "2   -0.957025\n",
       "3   -1.494931\n",
       "Name: 2, dtype: float64"
      ]
     },
     "execution_count": 12,
     "metadata": {},
     "output_type": "execute_result"
    }
   ],
   "source": [
    "dataFrame[2]"
   ]
  },
  {
   "cell_type": "code",
   "execution_count": 13,
   "id": "9407aa02",
   "metadata": {},
   "outputs": [
    {
     "data": {
      "text/plain": [
       "pandas.core.frame.DataFrame"
      ]
     },
     "execution_count": 13,
     "metadata": {},
     "output_type": "execute_result"
    }
   ],
   "source": [
    "type(dataFrame)"
   ]
  },
  {
   "cell_type": "markdown",
   "id": "7057a2f2",
   "metadata": {},
   "source": [
    "## DİKKAT columns = [\"a\", \"b\"....]"
   ]
  },
  {
   "cell_type": "code",
   "execution_count": 14,
   "id": "21d58ce0",
   "metadata": {},
   "outputs": [],
   "source": [
    "yeniDataFrame = pd.DataFrame(data, index = [\"Yiğit\", \"Reyhan\", \"Sercan\", \"Şevki\"], columns=[\"Yaş\",\"Maaş\",\"Frekans\"])"
   ]
  },
  {
   "cell_type": "code",
   "execution_count": 15,
   "id": "b8d7f826",
   "metadata": {},
   "outputs": [
    {
     "data": {
      "text/html": [
       "<div>\n",
       "<style scoped>\n",
       "    .dataframe tbody tr th:only-of-type {\n",
       "        vertical-align: middle;\n",
       "    }\n",
       "\n",
       "    .dataframe tbody tr th {\n",
       "        vertical-align: top;\n",
       "    }\n",
       "\n",
       "    .dataframe thead th {\n",
       "        text-align: right;\n",
       "    }\n",
       "</style>\n",
       "<table border=\"1\" class=\"dataframe\">\n",
       "  <thead>\n",
       "    <tr style=\"text-align: right;\">\n",
       "      <th></th>\n",
       "      <th>Yaş</th>\n",
       "      <th>Maaş</th>\n",
       "      <th>Frekans</th>\n",
       "    </tr>\n",
       "  </thead>\n",
       "  <tbody>\n",
       "    <tr>\n",
       "      <th>Yiğit</th>\n",
       "      <td>0.008536</td>\n",
       "      <td>-0.389594</td>\n",
       "      <td>-0.975629</td>\n",
       "    </tr>\n",
       "    <tr>\n",
       "      <th>Reyhan</th>\n",
       "      <td>1.338368</td>\n",
       "      <td>-0.316360</td>\n",
       "      <td>0.113988</td>\n",
       "    </tr>\n",
       "    <tr>\n",
       "      <th>Sercan</th>\n",
       "      <td>-0.950183</td>\n",
       "      <td>-1.668381</td>\n",
       "      <td>-0.957025</td>\n",
       "    </tr>\n",
       "    <tr>\n",
       "      <th>Şevki</th>\n",
       "      <td>0.831332</td>\n",
       "      <td>0.117747</td>\n",
       "      <td>-1.494931</td>\n",
       "    </tr>\n",
       "  </tbody>\n",
       "</table>\n",
       "</div>"
      ],
      "text/plain": [
       "             Yaş      Maaş   Frekans\n",
       "Yiğit   0.008536 -0.389594 -0.975629\n",
       "Reyhan  1.338368 -0.316360  0.113988\n",
       "Sercan -0.950183 -1.668381 -0.957025\n",
       "Şevki   0.831332  0.117747 -1.494931"
      ]
     },
     "execution_count": 15,
     "metadata": {},
     "output_type": "execute_result"
    }
   ],
   "source": [
    "yeniDataFrame"
   ]
  },
  {
   "cell_type": "markdown",
   "id": "0dd3fc12",
   "metadata": {},
   "source": [
    "## Dataframe satır getirme, dataframe.loc[\"xyz\"] xyz: indeks ismi"
   ]
  },
  {
   "cell_type": "code",
   "execution_count": 16,
   "id": "0aa30fcf",
   "metadata": {},
   "outputs": [
    {
     "data": {
      "text/plain": [
       "Yaş        0.008536\n",
       "Maaş      -0.389594\n",
       "Frekans   -0.975629\n",
       "Name: Yiğit, dtype: float64"
      ]
     },
     "execution_count": 16,
     "metadata": {},
     "output_type": "execute_result"
    }
   ],
   "source": [
    "yeniDataFrame.loc[\"Yiğit\"] # .loc yazılmalı"
   ]
  },
  {
   "cell_type": "markdown",
   "id": "c081beaa",
   "metadata": {},
   "source": [
    "## dataframe.iloc[1,2,3,.......] > indeks bazlı sıralama"
   ]
  },
  {
   "cell_type": "code",
   "execution_count": 17,
   "id": "508290c2",
   "metadata": {},
   "outputs": [
    {
     "data": {
      "text/plain": [
       "Yaş       -0.950183\n",
       "Maaş      -1.668381\n",
       "Frekans   -0.957025\n",
       "Name: Sercan, dtype: float64"
      ]
     },
     "execution_count": 17,
     "metadata": {},
     "output_type": "execute_result"
    }
   ],
   "source": [
    "yeniDataFrame.iloc[2] # 2. satır değerlerini döndürdü"
   ]
  },
  {
   "cell_type": "code",
   "execution_count": 20,
   "id": "bab3a751",
   "metadata": {},
   "outputs": [
    {
     "data": {
      "text/plain": [
       "Yaş        0.831332\n",
       "Maaş       0.117747\n",
       "Frekans   -1.494931\n",
       "Name: Şevki, dtype: float64"
      ]
     },
     "execution_count": 20,
     "metadata": {},
     "output_type": "execute_result"
    }
   ],
   "source": [
    "yeniDataFrame.loc[\"Şevki\"]"
   ]
  },
  {
   "cell_type": "code",
   "execution_count": null,
   "id": "56903613",
   "metadata": {},
   "outputs": [],
   "source": []
  }
 ],
 "metadata": {
  "kernelspec": {
   "display_name": "Python 3",
   "language": "python",
   "name": "python3"
  },
  "language_info": {
   "codemirror_mode": {
    "name": "ipython",
    "version": 3
   },
   "file_extension": ".py",
   "mimetype": "text/x-python",
   "name": "python",
   "nbconvert_exporter": "python",
   "pygments_lexer": "ipython3",
   "version": "3.8.8"
  }
 },
 "nbformat": 4,
 "nbformat_minor": 5
}
