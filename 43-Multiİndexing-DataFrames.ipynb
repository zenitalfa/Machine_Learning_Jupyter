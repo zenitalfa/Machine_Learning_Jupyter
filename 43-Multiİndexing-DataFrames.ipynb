{
 "cells": [
  {
   "cell_type": "markdown",
   "id": "c0c8f480",
   "metadata": {},
   "source": [
    "## Multi İndexing"
   ]
  },
  {
   "cell_type": "code",
   "execution_count": 1,
   "id": "99887039",
   "metadata": {},
   "outputs": [],
   "source": [
    "import numpy as np\n",
    "import pandas as pd"
   ]
  },
  {
   "cell_type": "code",
   "execution_count": 2,
   "id": "b704c1a3",
   "metadata": {},
   "outputs": [],
   "source": [
    "dataSet = np.random.randn(6,6)"
   ]
  },
  {
   "cell_type": "code",
   "execution_count": 3,
   "id": "0c4bc8b9",
   "metadata": {},
   "outputs": [
    {
     "data": {
      "text/plain": [
       "array([[ 2.49332990e-01,  3.91031496e-01, -6.31638652e-01,\n",
       "        -4.59426743e-01, -7.01665235e-01, -1.34337220e+00],\n",
       "       [-3.68644467e-01,  2.22036005e-02,  1.82891239e+00,\n",
       "        -3.30193688e-01, -1.24811370e+00,  1.01243946e-03],\n",
       "       [-1.27513841e+00,  2.61646837e-01, -6.29633741e-01,\n",
       "         9.68266118e-01, -1.16958539e+00,  9.91119785e-01],\n",
       "       [-3.96781427e-01, -3.01674681e-01, -1.48739257e-01,\n",
       "         1.67716121e+00,  4.20052553e-01,  2.43177688e-01],\n",
       "       [ 1.19178096e+00, -8.44198392e-01,  9.18987026e-01,\n",
       "         3.59492488e-01,  1.93561851e+00, -1.42037208e-01],\n",
       "       [-6.07721869e-01, -5.66915622e-02,  5.93921362e-01,\n",
       "        -5.51755204e-01,  9.57089203e-01,  3.26995892e-01]])"
      ]
     },
     "execution_count": 3,
     "metadata": {},
     "output_type": "execute_result"
    }
   ],
   "source": [
    "dataSet"
   ]
  },
  {
   "cell_type": "code",
   "execution_count": 8,
   "id": "6973ea01",
   "metadata": {},
   "outputs": [],
   "source": [
    "firstIndex = [\"Simpson\",\"Simpson\",\"Simpson\",\"South Park\",\"South Park\",\"South Park\"]"
   ]
  },
  {
   "cell_type": "code",
   "execution_count": 9,
   "id": "4a440a76",
   "metadata": {},
   "outputs": [],
   "source": [
    "secondIndex = [\"Homer\",\"Bart\",\"Marge\", \"Cartman\",\"Kenny\",\"Kyle\"]"
   ]
  },
  {
   "cell_type": "code",
   "execution_count": 10,
   "id": "8b1be82d",
   "metadata": {},
   "outputs": [],
   "source": [
    "mergedIndex = list(zip(firstIndex,secondIndex))"
   ]
  },
  {
   "cell_type": "code",
   "execution_count": 11,
   "id": "2d7c6aef",
   "metadata": {},
   "outputs": [
    {
     "data": {
      "text/plain": [
       "[('Simpson', 'Homer'),\n",
       " ('Simpson', 'Bart'),\n",
       " ('Simpson', 'Marge'),\n",
       " ('South Park', 'Cartman'),\n",
       " ('South Park', 'Kenny'),\n",
       " ('South Park', 'Kyle')]"
      ]
     },
     "execution_count": 11,
     "metadata": {},
     "output_type": "execute_result"
    }
   ],
   "source": [
    "mergedIndex"
   ]
  },
  {
   "cell_type": "markdown",
   "id": "556806ac",
   "metadata": {},
   "source": [
    "## Multiİndex methodu"
   ]
  },
  {
   "cell_type": "code",
   "execution_count": 16,
   "id": "b2d19bfc",
   "metadata": {},
   "outputs": [],
   "source": [
    "mergedIndex = pd.MultiIndex.from_tuples(mergedIndex)"
   ]
  },
  {
   "cell_type": "code",
   "execution_count": 19,
   "id": "a9be9887",
   "metadata": {},
   "outputs": [
    {
     "data": {
      "text/plain": [
       "MultiIndex([(   'Simpson',   'Homer'),\n",
       "            (   'Simpson',    'Bart'),\n",
       "            (   'Simpson',   'Marge'),\n",
       "            ('South Park', 'Cartman'),\n",
       "            ('South Park',   'Kenny'),\n",
       "            ('South Park',    'Kyle')],\n",
       "           )"
      ]
     },
     "execution_count": 19,
     "metadata": {},
     "output_type": "execute_result"
    }
   ],
   "source": [
    "mergedIndex"
   ]
  },
  {
   "cell_type": "code",
   "execution_count": 20,
   "id": "81b9400f",
   "metadata": {},
   "outputs": [],
   "source": [
    "cartoonList = [[10,\"A\"], [11, \"B\"], [12,\"C\"], [13, \"D\"], [14,\"E\"], [15,\"F\"] ]"
   ]
  },
  {
   "cell_type": "code",
   "execution_count": 21,
   "id": "698300bb",
   "metadata": {},
   "outputs": [
    {
     "data": {
      "text/plain": [
       "6"
      ]
     },
     "execution_count": 21,
     "metadata": {},
     "output_type": "execute_result"
    }
   ],
   "source": [
    "len(cartoonList)"
   ]
  },
  {
   "cell_type": "code",
   "execution_count": 22,
   "id": "8c2360b5",
   "metadata": {},
   "outputs": [
    {
     "data": {
      "text/plain": [
       "[[10, 'A'], [11, 'B'], [12, 'C'], [13, 'D'], [14, 'E'], [15, 'F']]"
      ]
     },
     "execution_count": 22,
     "metadata": {},
     "output_type": "execute_result"
    }
   ],
   "source": [
    "cartoonList"
   ]
  },
  {
   "cell_type": "code",
   "execution_count": 25,
   "id": "b018a037",
   "metadata": {},
   "outputs": [],
   "source": [
    "cartoonArray = np.array(cartoonList)"
   ]
  },
  {
   "cell_type": "code",
   "execution_count": 26,
   "id": "b6f8a514",
   "metadata": {},
   "outputs": [
    {
     "data": {
      "text/plain": [
       "array([['10', 'A'],\n",
       "       ['11', 'B'],\n",
       "       ['12', 'C'],\n",
       "       ['13', 'D'],\n",
       "       ['14', 'E'],\n",
       "       ['15', 'F']], dtype='<U11')"
      ]
     },
     "execution_count": 26,
     "metadata": {},
     "output_type": "execute_result"
    }
   ],
   "source": [
    "cartoonArray"
   ]
  },
  {
   "cell_type": "code",
   "execution_count": 27,
   "id": "2cca06c6",
   "metadata": {},
   "outputs": [],
   "source": [
    "cartoonDataFrame = pd.DataFrame(data = cartoonArray, index = mergedIndex, columns = [\"Age\", \"Job\"])"
   ]
  },
  {
   "cell_type": "code",
   "execution_count": 28,
   "id": "5b0fa7a4",
   "metadata": {},
   "outputs": [
    {
     "data": {
      "text/html": [
       "<div>\n",
       "<style scoped>\n",
       "    .dataframe tbody tr th:only-of-type {\n",
       "        vertical-align: middle;\n",
       "    }\n",
       "\n",
       "    .dataframe tbody tr th {\n",
       "        vertical-align: top;\n",
       "    }\n",
       "\n",
       "    .dataframe thead th {\n",
       "        text-align: right;\n",
       "    }\n",
       "</style>\n",
       "<table border=\"1\" class=\"dataframe\">\n",
       "  <thead>\n",
       "    <tr style=\"text-align: right;\">\n",
       "      <th></th>\n",
       "      <th></th>\n",
       "      <th>Age</th>\n",
       "      <th>Job</th>\n",
       "    </tr>\n",
       "  </thead>\n",
       "  <tbody>\n",
       "    <tr>\n",
       "      <th rowspan=\"3\" valign=\"top\">Simpson</th>\n",
       "      <th>Homer</th>\n",
       "      <td>10</td>\n",
       "      <td>A</td>\n",
       "    </tr>\n",
       "    <tr>\n",
       "      <th>Bart</th>\n",
       "      <td>11</td>\n",
       "      <td>B</td>\n",
       "    </tr>\n",
       "    <tr>\n",
       "      <th>Marge</th>\n",
       "      <td>12</td>\n",
       "      <td>C</td>\n",
       "    </tr>\n",
       "    <tr>\n",
       "      <th rowspan=\"3\" valign=\"top\">South Park</th>\n",
       "      <th>Cartman</th>\n",
       "      <td>13</td>\n",
       "      <td>D</td>\n",
       "    </tr>\n",
       "    <tr>\n",
       "      <th>Kenny</th>\n",
       "      <td>14</td>\n",
       "      <td>E</td>\n",
       "    </tr>\n",
       "    <tr>\n",
       "      <th>Kyle</th>\n",
       "      <td>15</td>\n",
       "      <td>F</td>\n",
       "    </tr>\n",
       "  </tbody>\n",
       "</table>\n",
       "</div>"
      ],
      "text/plain": [
       "                   Age Job\n",
       "Simpson    Homer    10   A\n",
       "           Bart     11   B\n",
       "           Marge    12   C\n",
       "South Park Cartman  13   D\n",
       "           Kenny    14   E\n",
       "           Kyle     15   F"
      ]
     },
     "execution_count": 28,
     "metadata": {},
     "output_type": "execute_result"
    }
   ],
   "source": [
    "cartoonDataFrame"
   ]
  },
  {
   "cell_type": "code",
   "execution_count": 33,
   "id": "d0c728c2",
   "metadata": {
    "scrolled": true
   },
   "outputs": [
    {
     "data": {
      "text/html": [
       "<div>\n",
       "<style scoped>\n",
       "    .dataframe tbody tr th:only-of-type {\n",
       "        vertical-align: middle;\n",
       "    }\n",
       "\n",
       "    .dataframe tbody tr th {\n",
       "        vertical-align: top;\n",
       "    }\n",
       "\n",
       "    .dataframe thead th {\n",
       "        text-align: right;\n",
       "    }\n",
       "</style>\n",
       "<table border=\"1\" class=\"dataframe\">\n",
       "  <thead>\n",
       "    <tr style=\"text-align: right;\">\n",
       "      <th></th>\n",
       "      <th>Age</th>\n",
       "      <th>Job</th>\n",
       "    </tr>\n",
       "  </thead>\n",
       "  <tbody>\n",
       "    <tr>\n",
       "      <th>Homer</th>\n",
       "      <td>10</td>\n",
       "      <td>A</td>\n",
       "    </tr>\n",
       "    <tr>\n",
       "      <th>Bart</th>\n",
       "      <td>11</td>\n",
       "      <td>B</td>\n",
       "    </tr>\n",
       "    <tr>\n",
       "      <th>Marge</th>\n",
       "      <td>12</td>\n",
       "      <td>C</td>\n",
       "    </tr>\n",
       "  </tbody>\n",
       "</table>\n",
       "</div>"
      ],
      "text/plain": [
       "      Age Job\n",
       "Homer  10   A\n",
       "Bart   11   B\n",
       "Marge  12   C"
      ]
     },
     "execution_count": 33,
     "metadata": {},
     "output_type": "execute_result"
    }
   ],
   "source": [
    "cartoonDataFrame.loc[\"Simpson\"]"
   ]
  },
  {
   "cell_type": "markdown",
   "id": "a7c3f904",
   "metadata": {},
   "source": [
    "## Birleştirilmiş indekslerden iç indexin getirilmesi : dataFrame.loc[\"xxx\"].loc[\"yyy\"]"
   ]
  },
  {
   "cell_type": "code",
   "execution_count": 37,
   "id": "662fbd01",
   "metadata": {},
   "outputs": [
    {
     "data": {
      "text/plain": [
       "Age    10\n",
       "Job     A\n",
       "Name: Homer, dtype: object"
      ]
     },
     "execution_count": 37,
     "metadata": {},
     "output_type": "execute_result"
    }
   ],
   "source": [
    "cartoonDataFrame.loc[\"Simpson\"].loc[\"Homer\"]"
   ]
  },
  {
   "cell_type": "markdown",
   "id": "653b5712",
   "metadata": {},
   "source": [
    "## İndexlerin ismini değiştirme-ekleme"
   ]
  },
  {
   "cell_type": "code",
   "execution_count": 38,
   "id": "366d42a8",
   "metadata": {},
   "outputs": [],
   "source": [
    "cartoonDataFrame.index.names = [\"Cartoon\", \"Characters\"]"
   ]
  },
  {
   "cell_type": "code",
   "execution_count": 40,
   "id": "c6efe3eb",
   "metadata": {},
   "outputs": [
    {
     "data": {
      "text/html": [
       "<div>\n",
       "<style scoped>\n",
       "    .dataframe tbody tr th:only-of-type {\n",
       "        vertical-align: middle;\n",
       "    }\n",
       "\n",
       "    .dataframe tbody tr th {\n",
       "        vertical-align: top;\n",
       "    }\n",
       "\n",
       "    .dataframe thead th {\n",
       "        text-align: right;\n",
       "    }\n",
       "</style>\n",
       "<table border=\"1\" class=\"dataframe\">\n",
       "  <thead>\n",
       "    <tr style=\"text-align: right;\">\n",
       "      <th></th>\n",
       "      <th></th>\n",
       "      <th>Age</th>\n",
       "      <th>Job</th>\n",
       "    </tr>\n",
       "    <tr>\n",
       "      <th>Cartoon</th>\n",
       "      <th>Characters</th>\n",
       "      <th></th>\n",
       "      <th></th>\n",
       "    </tr>\n",
       "  </thead>\n",
       "  <tbody>\n",
       "    <tr>\n",
       "      <th rowspan=\"3\" valign=\"top\">Simpson</th>\n",
       "      <th>Homer</th>\n",
       "      <td>10</td>\n",
       "      <td>A</td>\n",
       "    </tr>\n",
       "    <tr>\n",
       "      <th>Bart</th>\n",
       "      <td>11</td>\n",
       "      <td>B</td>\n",
       "    </tr>\n",
       "    <tr>\n",
       "      <th>Marge</th>\n",
       "      <td>12</td>\n",
       "      <td>C</td>\n",
       "    </tr>\n",
       "    <tr>\n",
       "      <th rowspan=\"3\" valign=\"top\">South Park</th>\n",
       "      <th>Cartman</th>\n",
       "      <td>13</td>\n",
       "      <td>D</td>\n",
       "    </tr>\n",
       "    <tr>\n",
       "      <th>Kenny</th>\n",
       "      <td>14</td>\n",
       "      <td>E</td>\n",
       "    </tr>\n",
       "    <tr>\n",
       "      <th>Kyle</th>\n",
       "      <td>15</td>\n",
       "      <td>F</td>\n",
       "    </tr>\n",
       "  </tbody>\n",
       "</table>\n",
       "</div>"
      ],
      "text/plain": [
       "                      Age Job\n",
       "Cartoon    Characters        \n",
       "Simpson    Homer       10   A\n",
       "           Bart        11   B\n",
       "           Marge       12   C\n",
       "South Park Cartman     13   D\n",
       "           Kenny       14   E\n",
       "           Kyle        15   F"
      ]
     },
     "execution_count": 40,
     "metadata": {},
     "output_type": "execute_result"
    }
   ],
   "source": [
    "cartoonDataFrame # artık isimler değiştirildi"
   ]
  },
  {
   "cell_type": "code",
   "execution_count": null,
   "id": "aa108f0c",
   "metadata": {},
   "outputs": [],
   "source": []
  }
 ],
 "metadata": {
  "kernelspec": {
   "display_name": "Python 3",
   "language": "python",
   "name": "python3"
  },
  "language_info": {
   "codemirror_mode": {
    "name": "ipython",
    "version": 3
   },
   "file_extension": ".py",
   "mimetype": "text/x-python",
   "name": "python",
   "nbconvert_exporter": "python",
   "pygments_lexer": "ipython3",
   "version": "3.8.8"
  }
 },
 "nbformat": 4,
 "nbformat_minor": 5
}
