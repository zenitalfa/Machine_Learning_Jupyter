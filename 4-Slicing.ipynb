{
 "cells": [
  {
   "cell_type": "markdown",
   "id": "b61b62b1",
   "metadata": {},
   "source": [
    "## Slicing "
   ]
  },
  {
   "cell_type": "markdown",
   "id": "e6dfa3b1",
   "metadata": {},
   "source": [
    "## a) İndex"
   ]
  },
  {
   "cell_type": "code",
   "execution_count": 1,
   "id": "c303a733",
   "metadata": {},
   "outputs": [],
   "source": [
    "ornekString = \"bu bir string\""
   ]
  },
  {
   "cell_type": "code",
   "execution_count": 2,
   "id": "5c39e6bd",
   "metadata": {},
   "outputs": [
    {
     "name": "stdout",
     "output_type": "stream",
     "text": [
      "bu bir string\n"
     ]
    }
   ],
   "source": [
    "print(ornekString)"
   ]
  },
  {
   "cell_type": "code",
   "execution_count": 3,
   "id": "b8cb5478",
   "metadata": {},
   "outputs": [
    {
     "data": {
      "text/plain": [
       "'t'"
      ]
     },
     "execution_count": 3,
     "metadata": {},
     "output_type": "execute_result"
    }
   ],
   "source": [
    "ornekString[8] # köşeli parantez kullanılır"
   ]
  },
  {
   "cell_type": "code",
   "execution_count": 4,
   "id": "3fef4150",
   "metadata": {},
   "outputs": [
    {
     "data": {
      "text/plain": [
       "'b'"
      ]
     },
     "execution_count": 4,
     "metadata": {},
     "output_type": "execute_result"
    }
   ],
   "source": [
    "ornekString[3] # boşluk da bir karakterden sayılır"
   ]
  },
  {
   "cell_type": "code",
   "execution_count": 5,
   "id": "8954c5bf",
   "metadata": {},
   "outputs": [
    {
     "data": {
      "text/plain": [
       "'g'"
      ]
     },
     "execution_count": 5,
     "metadata": {},
     "output_type": "execute_result"
    }
   ],
   "source": [
    "ornekString[-1] # son karakter için -1"
   ]
  },
  {
   "cell_type": "code",
   "execution_count": 6,
   "id": "c4b811e9",
   "metadata": {},
   "outputs": [
    {
     "data": {
      "text/plain": [
       "'2'"
      ]
     },
     "execution_count": 6,
     "metadata": {},
     "output_type": "execute_result"
    }
   ],
   "source": [
    "newString = \"0123456\"\n",
    "newString[2]"
   ]
  },
  {
   "cell_type": "markdown",
   "id": "c64873ef",
   "metadata": {},
   "source": [
    "## b) Slicing"
   ]
  },
  {
   "cell_type": "code",
   "execution_count": 7,
   "id": "a2ff6954",
   "metadata": {},
   "outputs": [
    {
     "data": {
      "text/plain": [
       "'23456'"
      ]
     },
     "execution_count": 7,
     "metadata": {},
     "output_type": "execute_result"
    }
   ],
   "source": [
    "newString[2:] # 2: ile 2. indeksten sonraki elemanlar yazdırılır"
   ]
  },
  {
   "cell_type": "code",
   "execution_count": null,
   "id": "7f5add21",
   "metadata": {},
   "outputs": [],
   "source": [
    "yeniString = \"abcdefghiklmn\"\n",
    "yeniString[:4] # 0'dan 4. indekse kadar olan karakterleri yazdırdı"
   ]
  },
  {
   "cell_type": "code",
   "execution_count": 11,
   "id": "4ff41ac3",
   "metadata": {},
   "outputs": [
    {
     "name": "stdout",
     "output_type": "stream",
     "text": [
      "Lütfen yasinizi giriniz: 28\n",
      "28\n",
      "Kullanıcı28yaşında\n"
     ]
    }
   ],
   "source": [
    "kullaniciYasi = input(\"Lütfen yasinizi giriniz: \")\n",
    "print(kullaniciYasi)\n",
    "string1 = \"Kullanıcı\"+ kullaniciYasi+ \"yaşında\"\n",
    "print(string1)"
   ]
  },
  {
   "cell_type": "raw",
   "id": "4abc3558",
   "metadata": {},
   "source": [
    "print(string1)"
   ]
  },
  {
   "cell_type": "code",
   "execution_count": 14,
   "id": "c9e69cf7",
   "metadata": {},
   "outputs": [
    {
     "data": {
      "text/plain": [
       "'bdfh'"
      ]
     },
     "execution_count": 14,
     "metadata": {},
     "output_type": "execute_result"
    }
   ],
   "source": [
    "yeniString[1:9:2] # 1 VE 9. indeks arasındaki karakterleri 2'şer atlayarak yazdırır"
   ]
  },
  {
   "cell_type": "code",
   "execution_count": 15,
   "id": "3ca2cc5c",
   "metadata": {},
   "outputs": [
    {
     "data": {
      "text/plain": [
       "'adgkn'"
      ]
     },
     "execution_count": 15,
     "metadata": {},
     "output_type": "execute_result"
    }
   ],
   "source": [
    "yeniString[::3]"
   ]
  },
  {
   "cell_type": "code",
   "execution_count": 16,
   "id": "848e1c0b",
   "metadata": {},
   "outputs": [
    {
     "data": {
      "text/plain": [
       "'nmlkihgfedcba'"
      ]
     },
     "execution_count": 16,
     "metadata": {},
     "output_type": "execute_result"
    }
   ],
   "source": [
    "yeniString[::-1] # tersten yazdırır"
   ]
  },
  {
   "cell_type": "code",
   "execution_count": null,
   "id": "855d1e63",
   "metadata": {},
   "outputs": [],
   "source": []
  }
 ],
 "metadata": {
  "kernelspec": {
   "display_name": "Python 3",
   "language": "python",
   "name": "python3"
  },
  "language_info": {
   "codemirror_mode": {
    "name": "ipython",
    "version": 3
   },
   "file_extension": ".py",
   "mimetype": "text/x-python",
   "name": "python",
   "nbconvert_exporter": "python",
   "pygments_lexer": "ipython3",
   "version": "3.8.8"
  }
 },
 "nbformat": 4,
 "nbformat_minor": 5
}
