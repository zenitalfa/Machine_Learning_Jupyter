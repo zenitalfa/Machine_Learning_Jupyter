{
 "cells": [
  {
   "cell_type": "markdown",
   "id": "b428fb57",
   "metadata": {},
   "source": [
    "## Liste içinde liste- nested list"
   ]
  },
  {
   "cell_type": "code",
   "execution_count": 1,
   "id": "1d01bec8",
   "metadata": {},
   "outputs": [],
   "source": [
    "list1 = [\"work\", \"hard\"]"
   ]
  },
  {
   "cell_type": "code",
   "execution_count": 2,
   "id": "7c1cf530",
   "metadata": {},
   "outputs": [],
   "source": [
    "list2 = [6,10,27.9,62.4]"
   ]
  },
  {
   "cell_type": "code",
   "execution_count": 3,
   "id": "7ed09c4e",
   "metadata": {},
   "outputs": [],
   "source": [
    "nestedlist = [list1, list2] # iç içe liste oluşturuldu"
   ]
  },
  {
   "cell_type": "code",
   "execution_count": 4,
   "id": "95512272",
   "metadata": {},
   "outputs": [
    {
     "data": {
      "text/plain": [
       "[['work', 'hard'], [6, 10, 27.9, 62.4]]"
      ]
     },
     "execution_count": 4,
     "metadata": {},
     "output_type": "execute_result"
    }
   ],
   "source": [
    "nestedlist "
   ]
  },
  {
   "cell_type": "code",
   "execution_count": 5,
   "id": "c9d83126",
   "metadata": {},
   "outputs": [
    {
     "data": {
      "text/plain": [
       "list"
      ]
     },
     "execution_count": 5,
     "metadata": {},
     "output_type": "execute_result"
    }
   ],
   "source": [
    "type(nestedlist)"
   ]
  },
  {
   "cell_type": "code",
   "execution_count": 6,
   "id": "7e1e8171",
   "metadata": {},
   "outputs": [],
   "source": [
    "deneme = nestedlist.pop()"
   ]
  },
  {
   "cell_type": "code",
   "execution_count": 7,
   "id": "1b069514",
   "metadata": {},
   "outputs": [
    {
     "data": {
      "text/plain": [
       "[6, 10, 27.9, 62.4]"
      ]
     },
     "execution_count": 7,
     "metadata": {},
     "output_type": "execute_result"
    }
   ],
   "source": [
    "deneme"
   ]
  },
  {
   "cell_type": "code",
   "execution_count": 10,
   "id": "aa6bf3be",
   "metadata": {},
   "outputs": [],
   "source": [
    "degisken= deneme[3]"
   ]
  },
  {
   "cell_type": "code",
   "execution_count": 11,
   "id": "f2fc2bf2",
   "metadata": {},
   "outputs": [
    {
     "data": {
      "text/plain": [
       "62.4"
      ]
     },
     "execution_count": 11,
     "metadata": {},
     "output_type": "execute_result"
    }
   ],
   "source": [
    "degisken"
   ]
  },
  {
   "cell_type": "code",
   "execution_count": 16,
   "id": "c7aa5465",
   "metadata": {},
   "outputs": [],
   "source": [
    "nestedlist = nestedlist + list2"
   ]
  },
  {
   "cell_type": "code",
   "execution_count": 17,
   "id": "8c6e11c4",
   "metadata": {},
   "outputs": [
    {
     "data": {
      "text/plain": [
       "[['work', 'hard'], 6, 10, 27.9, 62.4]"
      ]
     },
     "execution_count": 17,
     "metadata": {},
     "output_type": "execute_result"
    }
   ],
   "source": [
    "nestedlist"
   ]
  },
  {
   "cell_type": "markdown",
   "id": "dcf59d99",
   "metadata": {},
   "source": [
    "## önemli- nested listeden eleman çekme"
   ]
  },
  {
   "cell_type": "code",
   "execution_count": 20,
   "id": "337c83d4",
   "metadata": {},
   "outputs": [],
   "source": [
    "# Diğer yöntem\n",
    "liste3 = [list1, list2]"
   ]
  },
  {
   "cell_type": "code",
   "execution_count": 21,
   "id": "b2bdc8c8",
   "metadata": {},
   "outputs": [
    {
     "data": {
      "text/plain": [
       "[['work', 'hard'], [6, 10, 27.9, 62.4]]"
      ]
     },
     "execution_count": 21,
     "metadata": {},
     "output_type": "execute_result"
    }
   ],
   "source": [
    "liste3"
   ]
  },
  {
   "cell_type": "code",
   "execution_count": 22,
   "id": "0229b051",
   "metadata": {},
   "outputs": [],
   "source": [
    "sonDegisken= liste3[1][3] # Bu yöntemle herhangi bir eleman listeden çekilebilir"
   ]
  },
  {
   "cell_type": "code",
   "execution_count": 23,
   "id": "85544bd7",
   "metadata": {},
   "outputs": [
    {
     "data": {
      "text/plain": [
       "62.4"
      ]
     },
     "execution_count": 23,
     "metadata": {},
     "output_type": "execute_result"
    }
   ],
   "source": [
    "sonDegisken"
   ]
  },
  {
   "cell_type": "code",
   "execution_count": null,
   "id": "d1d0d8ae",
   "metadata": {},
   "outputs": [],
   "source": []
  }
 ],
 "metadata": {
  "kernelspec": {
   "display_name": "Python 3",
   "language": "python",
   "name": "python3"
  },
  "language_info": {
   "codemirror_mode": {
    "name": "ipython",
    "version": 3
   },
   "file_extension": ".py",
   "mimetype": "text/x-python",
   "name": "python",
   "nbconvert_exporter": "python",
   "pygments_lexer": "ipython3",
   "version": "3.8.8"
  }
 },
 "nbformat": 4,
 "nbformat_minor": 5
}
