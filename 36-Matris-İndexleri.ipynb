{
 "cells": [
  {
   "cell_type": "markdown",
   "id": "076e000a",
   "metadata": {},
   "source": [
    "## Matrix indexleri"
   ]
  },
  {
   "cell_type": "code",
   "execution_count": 13,
   "id": "2a02cf2d",
   "metadata": {},
   "outputs": [],
   "source": [
    "import numpy as np"
   ]
  },
  {
   "cell_type": "code",
   "execution_count": 16,
   "id": "68e956f0",
   "metadata": {},
   "outputs": [],
   "source": [
    "matrisİndex = np.array([[10,20, 30], [12, 24,36], [16,32,48]])"
   ]
  },
  {
   "cell_type": "code",
   "execution_count": 17,
   "id": "7a3541de",
   "metadata": {},
   "outputs": [
    {
     "data": {
      "text/plain": [
       "array([[10, 20, 30],\n",
       "       [12, 24, 36],\n",
       "       [16, 32, 48]])"
      ]
     },
     "execution_count": 17,
     "metadata": {},
     "output_type": "execute_result"
    }
   ],
   "source": [
    "matrisİndex"
   ]
  },
  {
   "cell_type": "code",
   "execution_count": 19,
   "id": "f9b527e1",
   "metadata": {},
   "outputs": [
    {
     "data": {
      "text/plain": [
       "(3, 3)"
      ]
     },
     "execution_count": 19,
     "metadata": {},
     "output_type": "execute_result"
    }
   ],
   "source": [
    "matrisİndex.shape"
   ]
  },
  {
   "cell_type": "code",
   "execution_count": 30,
   "id": "fb0b6740",
   "metadata": {},
   "outputs": [],
   "source": [
    "# Ya da liste ile de matris oluşturulabilir\n",
    "listeDeneme = [[1,2,3], [10,20,30], [33,63,93]]"
   ]
  },
  {
   "cell_type": "code",
   "execution_count": 31,
   "id": "c065207b",
   "metadata": {},
   "outputs": [
    {
     "data": {
      "text/plain": [
       "[[1, 2, 3], [10, 20, 30], [33, 63, 93]]"
      ]
     },
     "execution_count": 31,
     "metadata": {},
     "output_type": "execute_result"
    }
   ],
   "source": [
    "listeDeneme"
   ]
  },
  {
   "cell_type": "code",
   "execution_count": 33,
   "id": "3d9d1498",
   "metadata": {},
   "outputs": [
    {
     "data": {
      "text/plain": [
       "array([[ 1,  2,  3],\n",
       "       [10, 20, 30],\n",
       "       [33, 63, 93]])"
      ]
     },
     "execution_count": 33,
     "metadata": {},
     "output_type": "execute_result"
    }
   ],
   "source": [
    "# Yine numpy kullanarak matris oluşturuldu\n",
    "matrixDeneme = np.array(listeDeneme)\n",
    "matrixDeneme"
   ]
  },
  {
   "cell_type": "code",
   "execution_count": 34,
   "id": "8ab859de",
   "metadata": {},
   "outputs": [
    {
     "data": {
      "text/plain": [
       "63"
      ]
     },
     "execution_count": 34,
     "metadata": {},
     "output_type": "execute_result"
    }
   ],
   "source": [
    "matrixDeneme[2][1]"
   ]
  },
  {
   "cell_type": "code",
   "execution_count": 38,
   "id": "6efe9578",
   "metadata": {},
   "outputs": [
    {
     "data": {
      "text/plain": [
       "array([ 2, 20, 63])"
      ]
     },
     "execution_count": 38,
     "metadata": {},
     "output_type": "execute_result"
    }
   ],
   "source": [
    "# Bu iki işlem de birbirinin aynısıdr\n",
    "matrixDeneme[2,1]"
   ]
  },
  {
   "cell_type": "code",
   "execution_count": 39,
   "id": "60ede1ff",
   "metadata": {},
   "outputs": [
    {
     "data": {
      "text/plain": [
       "array([ 3, 30, 93])"
      ]
     },
     "execution_count": 39,
     "metadata": {},
     "output_type": "execute_result"
    }
   ],
   "source": [
    "# Tek bir satır ya da sütun alınmak istenirse\n",
    "matrixDeneme[:,2]"
   ]
  },
  {
   "cell_type": "markdown",
   "id": "3a137ab0",
   "metadata": {},
   "source": [
    "## Fancy İndexing\n"
   ]
  },
  {
   "cell_type": "code",
   "execution_count": 41,
   "id": "b161b222",
   "metadata": {},
   "outputs": [],
   "source": [
    "listem = [[1,2,3,4,5], [6,7,8,9,10], [11,12,13,14,15], [16,17,18,19,20]]"
   ]
  },
  {
   "cell_type": "code",
   "execution_count": 42,
   "id": "fec9d355",
   "metadata": {},
   "outputs": [],
   "source": [
    "yeniMatrix = np.array(listem)"
   ]
  },
  {
   "cell_type": "code",
   "execution_count": 43,
   "id": "72f4a79c",
   "metadata": {},
   "outputs": [
    {
     "data": {
      "text/plain": [
       "array([[ 1,  2,  3,  4,  5],\n",
       "       [ 6,  7,  8,  9, 10],\n",
       "       [11, 12, 13, 14, 15],\n",
       "       [16, 17, 18, 19, 20]])"
      ]
     },
     "execution_count": 43,
     "metadata": {},
     "output_type": "execute_result"
    }
   ],
   "source": [
    "yeniMatrix"
   ]
  },
  {
   "cell_type": "code",
   "execution_count": 45,
   "id": "e44e2aa8",
   "metadata": {},
   "outputs": [
    {
     "data": {
      "text/plain": [
       "array([[ 1,  2,  3,  4,  5],\n",
       "       [ 6,  7,  8,  9, 10],\n",
       "       [16, 17, 18, 19, 20]])"
      ]
     },
     "execution_count": 45,
     "metadata": {},
     "output_type": "execute_result"
    }
   ],
   "source": [
    "#fancy indexing\n",
    "yeniMatrix[[0,1,3]]\n",
    "# 0,1 ve 3. satırları verir"
   ]
  },
  {
   "cell_type": "code",
   "execution_count": 46,
   "id": "9a358988",
   "metadata": {},
   "outputs": [],
   "source": [
    "slicingMatrix = yeniMatrix[[0,1,3]]"
   ]
  },
  {
   "cell_type": "code",
   "execution_count": 47,
   "id": "eaa25c3f",
   "metadata": {},
   "outputs": [
    {
     "data": {
      "text/plain": [
       "array([[ 1,  2,  3,  4,  5],\n",
       "       [ 6,  7,  8,  9, 10],\n",
       "       [16, 17, 18, 19, 20]])"
      ]
     },
     "execution_count": 47,
     "metadata": {},
     "output_type": "execute_result"
    }
   ],
   "source": [
    "slicingMatrix"
   ]
  },
  {
   "cell_type": "code",
   "execution_count": null,
   "id": "3eecc8e2",
   "metadata": {},
   "outputs": [],
   "source": []
  }
 ],
 "metadata": {
  "kernelspec": {
   "display_name": "Python 3",
   "language": "python",
   "name": "python3"
  },
  "language_info": {
   "codemirror_mode": {
    "name": "ipython",
    "version": 3
   },
   "file_extension": ".py",
   "mimetype": "text/x-python",
   "name": "python",
   "nbconvert_exporter": "python",
   "pygments_lexer": "ipython3",
   "version": "3.8.8"
  }
 },
 "nbformat": 4,
 "nbformat_minor": 5
}
