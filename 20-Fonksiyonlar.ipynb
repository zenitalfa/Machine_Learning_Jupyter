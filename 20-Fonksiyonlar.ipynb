{
 "cells": [
  {
   "cell_type": "markdown",
   "id": "cac5112f",
   "metadata": {},
   "source": [
    "## Fonksiyonlar & input-return"
   ]
  },
  {
   "cell_type": "code",
   "execution_count": 1,
   "id": "fa2ed0ec",
   "metadata": {},
   "outputs": [],
   "source": [
    "def function1():\n",
    "    print(\"ilk fonksiyon\")\n",
    "    deneme = list(range(1,70,3))\n",
    "    for numara in deneme:\n",
    "        print(f\"Liste değerleri:{numara}\")"
   ]
  },
  {
   "cell_type": "code",
   "execution_count": 3,
   "id": "082af4b0",
   "metadata": {},
   "outputs": [
    {
     "name": "stdout",
     "output_type": "stream",
     "text": [
      "ilk fonksiyon\n",
      "Liste değerleri:1\n",
      "Liste değerleri:4\n",
      "Liste değerleri:7\n",
      "Liste değerleri:10\n",
      "Liste değerleri:13\n",
      "Liste değerleri:16\n",
      "Liste değerleri:19\n",
      "Liste değerleri:22\n",
      "Liste değerleri:25\n",
      "Liste değerleri:28\n",
      "Liste değerleri:31\n",
      "Liste değerleri:34\n",
      "Liste değerleri:37\n",
      "Liste değerleri:40\n",
      "Liste değerleri:43\n",
      "Liste değerleri:46\n",
      "Liste değerleri:49\n",
      "Liste değerleri:52\n",
      "Liste değerleri:55\n",
      "Liste değerleri:58\n",
      "Liste değerleri:61\n",
      "Liste değerleri:64\n",
      "Liste değerleri:67\n"
     ]
    }
   ],
   "source": [
    "function1()"
   ]
  },
  {
   "cell_type": "markdown",
   "id": "afc1caa7",
   "metadata": {},
   "source": [
    "## input - return"
   ]
  },
  {
   "cell_type": "code",
   "execution_count": 4,
   "id": "ea5d2691",
   "metadata": {},
   "outputs": [],
   "source": [
    "def merhaba(isim):\n",
    "    print(\"merhaba\")\n",
    "    print(isim)"
   ]
  },
  {
   "cell_type": "code",
   "execution_count": 5,
   "id": "a1c0ae7d",
   "metadata": {},
   "outputs": [
    {
     "name": "stdout",
     "output_type": "stream",
     "text": [
      "merhaba\n",
      "yigit\n"
     ]
    }
   ],
   "source": [
    "merhaba(\"yigit\")"
   ]
  },
  {
   "cell_type": "code",
   "execution_count": 6,
   "id": "d77cb555",
   "metadata": {},
   "outputs": [
    {
     "name": "stdout",
     "output_type": "stream",
     "text": [
      "merhaba\n",
      "18\n"
     ]
    }
   ],
   "source": [
    "merhaba(18)"
   ]
  },
  {
   "cell_type": "code",
   "execution_count": 9,
   "id": "56b811ae",
   "metadata": {},
   "outputs": [],
   "source": [
    "def toplama(numara1,numara2):\n",
    "    sonuc = numara1 + numara2\n",
    "    print(f\"Toplama sonucu: {sonuc}\")"
   ]
  },
  {
   "cell_type": "code",
   "execution_count": 10,
   "id": "9ac53638",
   "metadata": {},
   "outputs": [
    {
     "name": "stdout",
     "output_type": "stream",
     "text": [
      "Toplama sonucu: 25\n"
     ]
    }
   ],
   "source": [
    "toplama(13,12)"
   ]
  },
  {
   "cell_type": "markdown",
   "id": "f1f8ac17",
   "metadata": {},
   "source": [
    "## bir fonksiyon sonucu değişkene atamak için \"return\" kullanılır"
   ]
  },
  {
   "cell_type": "code",
   "execution_count": 11,
   "id": "3fdb220e",
   "metadata": {},
   "outputs": [],
   "source": [
    "def carpma(num1,num2):\n",
    "    return(num1*num2)\n",
    "\n",
    "carpmaSonucu = carpma(10,3)"
   ]
  },
  {
   "cell_type": "code",
   "execution_count": 12,
   "id": "fefe1593",
   "metadata": {},
   "outputs": [
    {
     "data": {
      "text/plain": [
       "30"
      ]
     },
     "execution_count": 12,
     "metadata": {},
     "output_type": "execute_result"
    }
   ],
   "source": [
    "carpmaSonucu"
   ]
  },
  {
   "cell_type": "code",
   "execution_count": 45,
   "id": "7ae97cf6",
   "metadata": {},
   "outputs": [
    {
     "name": "stdout",
     "output_type": "stream",
     "text": [
      "sayı bilinmiyor\n"
     ]
    }
   ],
   "source": [
    "from random import randint\n",
    "k = randint(1,200)\n",
    "\n",
    "def fac(giris=k):\n",
    "    if giris<100:\n",
    "        print(\"sayı 100'den küçüktür\")\n",
    "    elif giris==27:\n",
    "        print(\"Sayı 27'dir\")\n",
    "    else:\n",
    "        print(\"sayı bilinmiyor\")\n",
    "    \n",
    "    \n",
    "fac(k)"
   ]
  },
  {
   "cell_type": "code",
   "execution_count": null,
   "id": "121f7767",
   "metadata": {},
   "outputs": [],
   "source": []
  },
  {
   "cell_type": "code",
   "execution_count": null,
   "id": "771ff62b",
   "metadata": {},
   "outputs": [],
   "source": []
  }
 ],
 "metadata": {
  "kernelspec": {
   "display_name": "Python 3",
   "language": "python",
   "name": "python3"
  },
  "language_info": {
   "codemirror_mode": {
    "name": "ipython",
    "version": 3
   },
   "file_extension": ".py",
   "mimetype": "text/x-python",
   "name": "python",
   "nbconvert_exporter": "python",
   "pygments_lexer": "ipython3",
   "version": "3.8.8"
  }
 },
 "nbformat": 4,
 "nbformat_minor": 5
}
