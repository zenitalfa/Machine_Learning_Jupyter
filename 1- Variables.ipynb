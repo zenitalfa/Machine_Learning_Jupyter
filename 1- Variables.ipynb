{
 "cells": [
  {
   "cell_type": "markdown",
   "id": "211ce880",
   "metadata": {},
   "source": [
    "## Variables & Types"
   ]
  },
  {
   "cell_type": "code",
   "execution_count": null,
   "id": "54ddad56",
   "metadata": {},
   "outputs": [],
   "source": [
    "# print(\"Jupyter\")\n"
   ]
  },
  {
   "cell_type": "code",
   "execution_count": 5,
   "id": "3d68214e",
   "metadata": {},
   "outputs": [
    {
     "data": {
      "text/plain": [
       "15"
      ]
     },
     "execution_count": 5,
     "metadata": {},
     "output_type": "execute_result"
    }
   ],
   "source": [
    "x= 5\n",
    "y= 10\n",
    "z = x+y\n",
    "z\n"
   ]
  },
  {
   "cell_type": "code",
   "execution_count": 6,
   "id": "9b73d9a5",
   "metadata": {},
   "outputs": [
    {
     "data": {
      "text/plain": [
       "int"
      ]
     },
     "execution_count": 6,
     "metadata": {},
     "output_type": "execute_result"
    }
   ],
   "source": [
    "type(x)"
   ]
  },
  {
   "cell_type": "code",
   "execution_count": 10,
   "id": "2403df35",
   "metadata": {},
   "outputs": [],
   "source": [
    "K = [\"anne\", 17, \"baba\" , 23]"
   ]
  },
  {
   "cell_type": "code",
   "execution_count": 11,
   "id": "0c519d2f",
   "metadata": {},
   "outputs": [
    {
     "data": {
      "text/plain": [
       "list"
      ]
     },
     "execution_count": 11,
     "metadata": {},
     "output_type": "execute_result"
    }
   ],
   "source": [
    "type(K)"
   ]
  },
  {
   "cell_type": "code",
   "execution_count": 24,
   "id": "044cec78",
   "metadata": {},
   "outputs": [
    {
     "data": {
      "text/plain": [
       "<function int.from_bytes(bytes, byteorder, *, signed=False)>"
      ]
     },
     "execution_count": 24,
     "metadata": {},
     "output_type": "execute_result"
    }
   ],
   "source": [
    "## ÖNEMLİ\n",
    "\n",
    "# Eğer değişlen isminin sonuna .(nokta) koyarsak yapılabilecekler listelenelir TAB tuşuna basılmalı\n",
    "\n",
    "import cmath\n",
    "a= 3\n",
    "b = 5\n",
    "\n",
    "c = complex(a,b)\n",
    "c.imag"
   ]
  },
  {
   "cell_type": "code",
   "execution_count": null,
   "id": "75ba2a5f",
   "metadata": {},
   "outputs": [],
   "source": []
  }
 ],
 "metadata": {
  "kernelspec": {
   "display_name": "Python 3",
   "language": "python",
   "name": "python3"
  },
  "language_info": {
   "codemirror_mode": {
    "name": "ipython",
    "version": 3
   },
   "file_extension": ".py",
   "mimetype": "text/x-python",
   "name": "python",
   "nbconvert_exporter": "python",
   "pygments_lexer": "ipython3",
   "version": "3.8.8"
  }
 },
 "nbformat": 4,
 "nbformat_minor": 5
}
