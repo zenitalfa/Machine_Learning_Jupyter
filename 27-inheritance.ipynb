{
 "cells": [
  {
   "cell_type": "markdown",
   "id": "f508af0c",
   "metadata": {},
   "source": [
    "## İnheritance"
   ]
  },
  {
   "cell_type": "code",
   "execution_count": 12,
   "id": "9918afe8",
   "metadata": {},
   "outputs": [],
   "source": [
    "class Hayvan():\n",
    "    \n",
    "    def __init__ (self):\n",
    "        \n",
    "        print(\"Hayvan sınıfı init çağırıldı\")\n",
    "    \n",
    "    def method1(self):\n",
    "        print(\"Hayvan sınıf-Method 1\")\n",
    "    \n",
    "    def method2(self):\n",
    "        print(\"Hayvan Sınıfı-Method 2\")"
   ]
  },
  {
   "cell_type": "code",
   "execution_count": 13,
   "id": "e791c739",
   "metadata": {},
   "outputs": [
    {
     "name": "stdout",
     "output_type": "stream",
     "text": [
      "Hayvan sınıfı init çağırıldı\n"
     ]
    }
   ],
   "source": [
    "benimHayvan = Hayvan()"
   ]
  },
  {
   "cell_type": "code",
   "execution_count": 14,
   "id": "339ebcd7",
   "metadata": {},
   "outputs": [
    {
     "name": "stdout",
     "output_type": "stream",
     "text": [
      "Hayvan sınıf-Method 1\n"
     ]
    }
   ],
   "source": [
    "benimHayvan.method1()"
   ]
  },
  {
   "cell_type": "code",
   "execution_count": 26,
   "id": "f5fca749",
   "metadata": {},
   "outputs": [],
   "source": [
    "class Kedi(Hayvan):\n",
    "    \n",
    "    def __init__(self):\n",
    "        Hayvan.__init__(self)\n",
    "        print(\"Kedi init çağırıldı\")\n",
    "    def miyavla(self):\n",
    "        print(\"kedi miyavlar\")\n",
    "    \n",
    "    def method1(self):\n",
    "        print(\"kedi sınıfındaki metod 1\")\n",
    "\n",
    "# Kedi sınıfı hayvan sınıfını yaptığı her işi yapabilir, bunu kalıtım-miras olarak alır\n",
    "# Ancak hayvan sınıfı kedi sınıfının yaptığı her işi yapamaz"
   ]
  },
  {
   "cell_type": "code",
   "execution_count": 27,
   "id": "5f68824a",
   "metadata": {},
   "outputs": [
    {
     "name": "stdout",
     "output_type": "stream",
     "text": [
      "Hayvan sınıfı init çağırıldı\n",
      "Kedi init çağırıldı\n"
     ]
    }
   ],
   "source": [
    "benimKedi = Kedi()"
   ]
  },
  {
   "cell_type": "code",
   "execution_count": 28,
   "id": "e8ec0058",
   "metadata": {},
   "outputs": [
    {
     "name": "stdout",
     "output_type": "stream",
     "text": [
      "kedi sınıfındaki metod 1\n"
     ]
    }
   ],
   "source": [
    "benimKedi.method1()"
   ]
  },
  {
   "cell_type": "code",
   "execution_count": 29,
   "id": "757913a5",
   "metadata": {},
   "outputs": [
    {
     "name": "stdout",
     "output_type": "stream",
     "text": [
      "kedi miyavlar\n"
     ]
    }
   ],
   "source": [
    "benimKedi.miyavla()"
   ]
  },
  {
   "cell_type": "code",
   "execution_count": 30,
   "id": "70682155",
   "metadata": {},
   "outputs": [
    {
     "name": "stdout",
     "output_type": "stream",
     "text": [
      "Hayvan sınıf-Method 1\n"
     ]
    }
   ],
   "source": [
    "benimHayvan.method1() # Hayvan sınıfında miyavla metodu çıkmaz. Hayvan sınıfı buna erişemez"
   ]
  },
  {
   "cell_type": "code",
   "execution_count": 31,
   "id": "c96ecb5f",
   "metadata": {},
   "outputs": [
    {
     "name": "stdout",
     "output_type": "stream",
     "text": [
      "Hayvan sınıfı init çağırıldı\n",
      "Kedi init çağırıldı\n"
     ]
    }
   ],
   "source": [
    "vanKedisi = Kedi()"
   ]
  },
  {
   "cell_type": "code",
   "execution_count": 37,
   "id": "a62dcb7d",
   "metadata": {},
   "outputs": [
    {
     "name": "stdout",
     "output_type": "stream",
     "text": [
      "kedi sınıfındaki metod 1\n"
     ]
    }
   ],
   "source": [
    "vanKedisi.method1() # bu metod ve kedi sınıfındaki metod artık birbirinden farklıdır"
   ]
  },
  {
   "cell_type": "code",
   "execution_count": 34,
   "id": "0abce593",
   "metadata": {},
   "outputs": [
    {
     "name": "stdout",
     "output_type": "stream",
     "text": [
      "Hayvan sınıfı init çağırıldı\n"
     ]
    }
   ],
   "source": [
    "digerHayvan= Hayvan() "
   ]
  },
  {
   "cell_type": "code",
   "execution_count": 38,
   "id": "02c08084",
   "metadata": {},
   "outputs": [
    {
     "name": "stdout",
     "output_type": "stream",
     "text": [
      "Hayvan sınıf-Method 1\n"
     ]
    }
   ],
   "source": [
    "digerHayvan.method1() # sadece hayvan sınıfındaki metod 1 e erişim sağlar"
   ]
  },
  {
   "cell_type": "code",
   "execution_count": null,
   "id": "9da30822",
   "metadata": {},
   "outputs": [],
   "source": []
  }
 ],
 "metadata": {
  "kernelspec": {
   "display_name": "Python 3",
   "language": "python",
   "name": "python3"
  },
  "language_info": {
   "codemirror_mode": {
    "name": "ipython",
    "version": 3
   },
   "file_extension": ".py",
   "mimetype": "text/x-python",
   "name": "python",
   "nbconvert_exporter": "python",
   "pygments_lexer": "ipython3",
   "version": "3.8.8"
  }
 },
 "nbformat": 4,
 "nbformat_minor": 5
}
