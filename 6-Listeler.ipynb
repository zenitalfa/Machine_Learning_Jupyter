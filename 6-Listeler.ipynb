{
 "cells": [
  {
   "cell_type": "markdown",
   "id": "9b659e05",
   "metadata": {},
   "source": [
    "## Lists"
   ]
  },
  {
   "cell_type": "code",
   "execution_count": 1,
   "id": "4b97aca4",
   "metadata": {},
   "outputs": [],
   "source": [
    "myList = [\"a\",20, 33,\"zenit\"]"
   ]
  },
  {
   "cell_type": "code",
   "execution_count": 2,
   "id": "e65deee5",
   "metadata": {},
   "outputs": [
    {
     "data": {
      "text/plain": [
       "['a', 20, 33, 'zenit']"
      ]
     },
     "execution_count": 2,
     "metadata": {},
     "output_type": "execute_result"
    }
   ],
   "source": [
    "myList"
   ]
  },
  {
   "cell_type": "code",
   "execution_count": 3,
   "id": "ffc105fc",
   "metadata": {},
   "outputs": [
    {
     "data": {
      "text/plain": [
       "33"
      ]
     },
     "execution_count": 3,
     "metadata": {},
     "output_type": "execute_result"
    }
   ],
   "source": [
    "myList[2] # Listenin ikinci elemanını bulur"
   ]
  },
  {
   "cell_type": "code",
   "execution_count": 5,
   "id": "f64c5a55",
   "metadata": {},
   "outputs": [
    {
     "data": {
      "text/plain": [
       "['a alfabenin ilk harfi', 20, 33, 'zenit']"
      ]
     },
     "execution_count": 5,
     "metadata": {},
     "output_type": "execute_result"
    }
   ],
   "source": [
    "myList[0] = \"a alfabenin ilk harfi\" # Listenin elemanlarını bu şekilde indexlerini vererek değiştirebiliriz\n",
    "myList"
   ]
  },
  {
   "cell_type": "code",
   "execution_count": 6,
   "id": "1aac7738",
   "metadata": {},
   "outputs": [],
   "source": [
    "myList[3] = 217 # 3. eleman string idi, onu int ile değiştirdik"
   ]
  },
  {
   "cell_type": "code",
   "execution_count": 7,
   "id": "1d3481f3",
   "metadata": {},
   "outputs": [
    {
     "data": {
      "text/plain": [
       "['a alfabenin ilk harfi', 20, 33, 217]"
      ]
     },
     "execution_count": 7,
     "metadata": {},
     "output_type": "execute_result"
    }
   ],
   "source": [
    "myList"
   ]
  },
  {
   "cell_type": "markdown",
   "id": "7d7196a3",
   "metadata": {},
   "source": [
    "## Listeye eleman ekleme(append) & çıkarma\n"
   ]
  },
  {
   "cell_type": "code",
   "execution_count": 9,
   "id": "bef94273",
   "metadata": {},
   "outputs": [
    {
     "data": {
      "text/plain": [
       "['a alfabenin ilk harfi', 20, 33, 217, 10, 10]"
      ]
     },
     "execution_count": 9,
     "metadata": {},
     "output_type": "execute_result"
    }
   ],
   "source": [
    "myList.append(10)\n"
   ]
  },
  {
   "cell_type": "code",
   "execution_count": 10,
   "id": "8787a7e2",
   "metadata": {},
   "outputs": [
    {
     "data": {
      "text/plain": [
       "['a alfabenin ilk harfi', 20, 33, 217, 10, 10]"
      ]
     },
     "execution_count": 10,
     "metadata": {},
     "output_type": "execute_result"
    }
   ],
   "source": [
    "myList"
   ]
  },
  {
   "cell_type": "code",
   "execution_count": 14,
   "id": "1c7daa5b",
   "metadata": {},
   "outputs": [],
   "source": [
    "myList.clear() # Listeyi tamamen temizledi"
   ]
  },
  {
   "cell_type": "code",
   "execution_count": 15,
   "id": "92cfac7a",
   "metadata": {},
   "outputs": [
    {
     "data": {
      "text/plain": [
       "[]"
      ]
     },
     "execution_count": 15,
     "metadata": {},
     "output_type": "execute_result"
    }
   ],
   "source": [
    "myList"
   ]
  },
  {
   "cell_type": "markdown",
   "id": "876522a4",
   "metadata": {},
   "source": [
    "## Liste Metodları"
   ]
  },
  {
   "cell_type": "code",
   "execution_count": 1,
   "id": "9866bdeb",
   "metadata": {},
   "outputs": [],
   "source": [
    "myList = ['a alfabenin ilk harfi', 20, 33, 217, 10, 10]"
   ]
  },
  {
   "cell_type": "code",
   "execution_count": 2,
   "id": "dfa8bd92",
   "metadata": {},
   "outputs": [],
   "source": [
    "myList.remove(10) # 10'u listeden sildi"
   ]
  },
  {
   "cell_type": "code",
   "execution_count": 3,
   "id": "08cc7e2e",
   "metadata": {},
   "outputs": [
    {
     "data": {
      "text/plain": [
       "['a alfabenin ilk harfi', 20, 33, 217, 10]"
      ]
     },
     "execution_count": 3,
     "metadata": {},
     "output_type": "execute_result"
    }
   ],
   "source": [
    "myList"
   ]
  },
  {
   "cell_type": "code",
   "execution_count": 4,
   "id": "5097f1c2",
   "metadata": {},
   "outputs": [],
   "source": [
    "myList.remove(33) # 33 elemanını listeden sildi"
   ]
  },
  {
   "cell_type": "code",
   "execution_count": 20,
   "id": "65c4e5bb",
   "metadata": {},
   "outputs": [
    {
     "data": {
      "text/plain": [
       "['a alfabenin ilk harfi', 20, 217, 10]"
      ]
     },
     "execution_count": 20,
     "metadata": {},
     "output_type": "execute_result"
    }
   ],
   "source": [
    "myList"
   ]
  },
  {
   "cell_type": "code",
   "execution_count": 5,
   "id": "42fde23d",
   "metadata": {},
   "outputs": [],
   "source": [
    "myList.reverse() # Listeyi ters çevirdi"
   ]
  },
  {
   "cell_type": "code",
   "execution_count": 6,
   "id": "a890473c",
   "metadata": {},
   "outputs": [
    {
     "data": {
      "text/plain": [
       "[10, 217, 20, 'a alfabenin ilk harfi']"
      ]
     },
     "execution_count": 6,
     "metadata": {},
     "output_type": "execute_result"
    }
   ],
   "source": [
    "myList"
   ]
  },
  {
   "cell_type": "code",
   "execution_count": 7,
   "id": "15821efc",
   "metadata": {},
   "outputs": [
    {
     "data": {
      "text/plain": [
       "'a alfabenin ilk harfi'"
      ]
     },
     "execution_count": 7,
     "metadata": {},
     "output_type": "execute_result"
    }
   ],
   "source": [
    "myList.pop() # listenin son elemanını listeden çıkarır"
   ]
  },
  {
   "cell_type": "code",
   "execution_count": 8,
   "id": "2fa067d8",
   "metadata": {},
   "outputs": [
    {
     "data": {
      "text/plain": [
       "[10, 217, 20]"
      ]
     },
     "execution_count": 8,
     "metadata": {},
     "output_type": "execute_result"
    }
   ],
   "source": [
    "myList"
   ]
  },
  {
   "cell_type": "code",
   "execution_count": 9,
   "id": "a6efb59e",
   "metadata": {},
   "outputs": [],
   "source": [
    "denemeListe = [\"zenit\",\"yigit\", \"platin\"]"
   ]
  },
  {
   "cell_type": "code",
   "execution_count": 10,
   "id": "0d84c8e7",
   "metadata": {},
   "outputs": [],
   "source": [
    "sonListe = myList + denemeListe # iki liste toplanabilir"
   ]
  },
  {
   "cell_type": "code",
   "execution_count": 11,
   "id": "0b5be8a7",
   "metadata": {},
   "outputs": [
    {
     "data": {
      "text/plain": [
       "[10, 217, 20, 'zenit', 'yigit', 'platin']"
      ]
     },
     "execution_count": 11,
     "metadata": {},
     "output_type": "execute_result"
    }
   ],
   "source": [
    "sonListe"
   ]
  },
  {
   "cell_type": "code",
   "execution_count": 12,
   "id": "8357c5f4",
   "metadata": {},
   "outputs": [
    {
     "data": {
      "text/plain": [
       "['zenit',\n",
       " 'yigit',\n",
       " 'platin',\n",
       " 'zenit',\n",
       " 'yigit',\n",
       " 'platin',\n",
       " 'zenit',\n",
       " 'yigit',\n",
       " 'platin',\n",
       " 'zenit',\n",
       " 'yigit',\n",
       " 'platin',\n",
       " 'zenit',\n",
       " 'yigit',\n",
       " 'platin']"
      ]
     },
     "execution_count": 12,
     "metadata": {},
     "output_type": "execute_result"
    }
   ],
   "source": [
    "denemeListe*5 # Liste çarpılabilir"
   ]
  },
  {
   "cell_type": "code",
   "execution_count": null,
   "id": "87be52f5",
   "metadata": {},
   "outputs": [],
   "source": []
  }
 ],
 "metadata": {
  "kernelspec": {
   "display_name": "Python 3",
   "language": "python",
   "name": "python3"
  },
  "language_info": {
   "codemirror_mode": {
    "name": "ipython",
    "version": 3
   },
   "file_extension": ".py",
   "mimetype": "text/x-python",
   "name": "python",
   "nbconvert_exporter": "python",
   "pygments_lexer": "ipython3",
   "version": "3.8.8"
  }
 },
 "nbformat": 4,
 "nbformat_minor": 5
}
