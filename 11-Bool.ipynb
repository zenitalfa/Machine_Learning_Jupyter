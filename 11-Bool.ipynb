{
 "cells": [
  {
   "cell_type": "markdown",
   "id": "d5434312",
   "metadata": {},
   "source": [
    "## Boolean"
   ]
  },
  {
   "cell_type": "code",
   "execution_count": 1,
   "id": "594e4223",
   "metadata": {},
   "outputs": [],
   "source": [
    "Mantik1= True"
   ]
  },
  {
   "cell_type": "code",
   "execution_count": 2,
   "id": "8a13911a",
   "metadata": {},
   "outputs": [],
   "source": [
    "Mantik2= False"
   ]
  },
  {
   "cell_type": "code",
   "execution_count": 3,
   "id": "1dc611b9",
   "metadata": {},
   "outputs": [
    {
     "data": {
      "text/plain": [
       "False"
      ]
     },
     "execution_count": 3,
     "metadata": {},
     "output_type": "execute_result"
    }
   ],
   "source": [
    "Mantik2"
   ]
  },
  {
   "cell_type": "markdown",
   "id": "8e7ebe6f",
   "metadata": {},
   "source": [
    "## Liste Toplama"
   ]
  },
  {
   "cell_type": "code",
   "execution_count": 4,
   "id": "393d7f72",
   "metadata": {},
   "outputs": [],
   "source": [
    "myList= [200,50,100,80]"
   ]
  },
  {
   "cell_type": "code",
   "execution_count": 6,
   "id": "8d07e145",
   "metadata": {},
   "outputs": [
    {
     "data": {
      "text/plain": [
       "[200, 50, 100, 80]"
      ]
     },
     "execution_count": 6,
     "metadata": {},
     "output_type": "execute_result"
    }
   ],
   "source": [
    "myList"
   ]
  },
  {
   "cell_type": "code",
   "execution_count": 7,
   "id": "042e7b35",
   "metadata": {},
   "outputs": [],
   "source": [
    "meanValue = sum(myList)"
   ]
  },
  {
   "cell_type": "code",
   "execution_count": 10,
   "id": "79d24499",
   "metadata": {},
   "outputs": [
    {
     "data": {
      "text/plain": [
       "False"
      ]
     },
     "execution_count": 10,
     "metadata": {},
     "output_type": "execute_result"
    }
   ],
   "source": [
    "myList[1] > meanValue # çünkü 200 < 430"
   ]
  },
  {
   "cell_type": "code",
   "execution_count": null,
   "id": "a7c9d14d",
   "metadata": {},
   "outputs": [],
   "source": []
  }
 ],
 "metadata": {
  "kernelspec": {
   "display_name": "Python 3",
   "language": "python",
   "name": "python3"
  },
  "language_info": {
   "codemirror_mode": {
    "name": "ipython",
    "version": 3
   },
   "file_extension": ".py",
   "mimetype": "text/x-python",
   "name": "python",
   "nbconvert_exporter": "python",
   "pygments_lexer": "ipython3",
   "version": "3.8.8"
  }
 },
 "nbformat": 4,
 "nbformat_minor": 5
}
