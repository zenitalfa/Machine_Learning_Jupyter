{
 "cells": [
  {
   "cell_type": "markdown",
   "id": "47317b73",
   "metadata": {},
   "source": [
    "## DataFrame- İndex Değiştirme"
   ]
  },
  {
   "cell_type": "code",
   "execution_count": 1,
   "id": "50401887",
   "metadata": {},
   "outputs": [],
   "source": [
    "import numpy as np\n",
    "import pandas as pd"
   ]
  },
  {
   "cell_type": "code",
   "execution_count": 2,
   "id": "0f2ca7fa",
   "metadata": {},
   "outputs": [],
   "source": [
    "bilgi = np.random.randn(4,4)"
   ]
  },
  {
   "cell_type": "code",
   "execution_count": 3,
   "id": "19739884",
   "metadata": {},
   "outputs": [
    {
     "data": {
      "text/plain": [
       "array([[ 1.57634783,  0.42129377,  0.05538261, -1.692297  ],\n",
       "       [ 1.59773397, -1.25003668, -0.2394703 , -0.57860154],\n",
       "       [-0.35897375,  1.39976385, -0.72978958, -0.85142002],\n",
       "       [ 1.46950476,  0.85996143, -0.14812111,  0.39790851]])"
      ]
     },
     "execution_count": 3,
     "metadata": {},
     "output_type": "execute_result"
    }
   ],
   "source": [
    "bilgi"
   ]
  },
  {
   "cell_type": "code",
   "execution_count": 4,
   "id": "81f5d9a0",
   "metadata": {},
   "outputs": [],
   "source": [
    "yeniDataFrame = pd.DataFrame(data = bilgi, index = [\"Ahmet\", \"Mehmet\",\"Cenk\",\"Güven\"], columns=[\"Ev\", \"Araba\",\"Yat\",\"Arazi\"])"
   ]
  },
  {
   "cell_type": "code",
   "execution_count": 5,
   "id": "7b2f6b66",
   "metadata": {},
   "outputs": [
    {
     "data": {
      "text/html": [
       "<div>\n",
       "<style scoped>\n",
       "    .dataframe tbody tr th:only-of-type {\n",
       "        vertical-align: middle;\n",
       "    }\n",
       "\n",
       "    .dataframe tbody tr th {\n",
       "        vertical-align: top;\n",
       "    }\n",
       "\n",
       "    .dataframe thead th {\n",
       "        text-align: right;\n",
       "    }\n",
       "</style>\n",
       "<table border=\"1\" class=\"dataframe\">\n",
       "  <thead>\n",
       "    <tr style=\"text-align: right;\">\n",
       "      <th></th>\n",
       "      <th>Ev</th>\n",
       "      <th>Araba</th>\n",
       "      <th>Yat</th>\n",
       "      <th>Arazi</th>\n",
       "    </tr>\n",
       "  </thead>\n",
       "  <tbody>\n",
       "    <tr>\n",
       "      <th>Ahmet</th>\n",
       "      <td>1.576348</td>\n",
       "      <td>0.421294</td>\n",
       "      <td>0.055383</td>\n",
       "      <td>-1.692297</td>\n",
       "    </tr>\n",
       "    <tr>\n",
       "      <th>Mehmet</th>\n",
       "      <td>1.597734</td>\n",
       "      <td>-1.250037</td>\n",
       "      <td>-0.239470</td>\n",
       "      <td>-0.578602</td>\n",
       "    </tr>\n",
       "    <tr>\n",
       "      <th>Cenk</th>\n",
       "      <td>-0.358974</td>\n",
       "      <td>1.399764</td>\n",
       "      <td>-0.729790</td>\n",
       "      <td>-0.851420</td>\n",
       "    </tr>\n",
       "    <tr>\n",
       "      <th>Güven</th>\n",
       "      <td>1.469505</td>\n",
       "      <td>0.859961</td>\n",
       "      <td>-0.148121</td>\n",
       "      <td>0.397909</td>\n",
       "    </tr>\n",
       "  </tbody>\n",
       "</table>\n",
       "</div>"
      ],
      "text/plain": [
       "              Ev     Araba       Yat     Arazi\n",
       "Ahmet   1.576348  0.421294  0.055383 -1.692297\n",
       "Mehmet  1.597734 -1.250037 -0.239470 -0.578602\n",
       "Cenk   -0.358974  1.399764 -0.729790 -0.851420\n",
       "Güven   1.469505  0.859961 -0.148121  0.397909"
      ]
     },
     "execution_count": 5,
     "metadata": {},
     "output_type": "execute_result"
    }
   ],
   "source": [
    "yeniDataFrame"
   ]
  },
  {
   "cell_type": "code",
   "execution_count": 6,
   "id": "c27ce37c",
   "metadata": {},
   "outputs": [
    {
     "data": {
      "text/plain": [
       "Ev       1.469505\n",
       "Araba    0.859961\n",
       "Yat     -0.148121\n",
       "Arazi    0.397909\n",
       "Name: Güven, dtype: float64"
      ]
     },
     "execution_count": 6,
     "metadata": {},
     "output_type": "execute_result"
    }
   ],
   "source": [
    "yeniDataFrame.loc[\"Güven\"]"
   ]
  },
  {
   "cell_type": "code",
   "execution_count": 7,
   "id": "edce9788",
   "metadata": {},
   "outputs": [
    {
     "data": {
      "text/plain": [
       "Ev      -0.358974\n",
       "Araba    1.399764\n",
       "Yat     -0.729790\n",
       "Arazi   -0.851420\n",
       "Name: Cenk, dtype: float64"
      ]
     },
     "execution_count": 7,
     "metadata": {},
     "output_type": "execute_result"
    }
   ],
   "source": [
    "yeniDataFrame.iloc[2]"
   ]
  },
  {
   "cell_type": "code",
   "execution_count": 8,
   "id": "a5cdcd5d",
   "metadata": {},
   "outputs": [],
   "source": [
    "# Eğer indeksleri değiştirmek istiyorsak"
   ]
  },
  {
   "cell_type": "code",
   "execution_count": 9,
   "id": "9840a138",
   "metadata": {},
   "outputs": [
    {
     "data": {
      "text/html": [
       "<div>\n",
       "<style scoped>\n",
       "    .dataframe tbody tr th:only-of-type {\n",
       "        vertical-align: middle;\n",
       "    }\n",
       "\n",
       "    .dataframe tbody tr th {\n",
       "        vertical-align: top;\n",
       "    }\n",
       "\n",
       "    .dataframe thead th {\n",
       "        text-align: right;\n",
       "    }\n",
       "</style>\n",
       "<table border=\"1\" class=\"dataframe\">\n",
       "  <thead>\n",
       "    <tr style=\"text-align: right;\">\n",
       "      <th></th>\n",
       "      <th>Ev</th>\n",
       "      <th>Araba</th>\n",
       "      <th>Yat</th>\n",
       "      <th>Arazi</th>\n",
       "    </tr>\n",
       "  </thead>\n",
       "  <tbody>\n",
       "    <tr>\n",
       "      <th>Ahmet</th>\n",
       "      <td>1.576348</td>\n",
       "      <td>0.421294</td>\n",
       "      <td>0.055383</td>\n",
       "      <td>-1.692297</td>\n",
       "    </tr>\n",
       "    <tr>\n",
       "      <th>Mehmet</th>\n",
       "      <td>1.597734</td>\n",
       "      <td>-1.250037</td>\n",
       "      <td>-0.239470</td>\n",
       "      <td>-0.578602</td>\n",
       "    </tr>\n",
       "    <tr>\n",
       "      <th>Cenk</th>\n",
       "      <td>-0.358974</td>\n",
       "      <td>1.399764</td>\n",
       "      <td>-0.729790</td>\n",
       "      <td>-0.851420</td>\n",
       "    </tr>\n",
       "    <tr>\n",
       "      <th>Güven</th>\n",
       "      <td>1.469505</td>\n",
       "      <td>0.859961</td>\n",
       "      <td>-0.148121</td>\n",
       "      <td>0.397909</td>\n",
       "    </tr>\n",
       "  </tbody>\n",
       "</table>\n",
       "</div>"
      ],
      "text/plain": [
       "              Ev     Araba       Yat     Arazi\n",
       "Ahmet   1.576348  0.421294  0.055383 -1.692297\n",
       "Mehmet  1.597734 -1.250037 -0.239470 -0.578602\n",
       "Cenk   -0.358974  1.399764 -0.729790 -0.851420\n",
       "Güven   1.469505  0.859961 -0.148121  0.397909"
      ]
     },
     "execution_count": 9,
     "metadata": {},
     "output_type": "execute_result"
    }
   ],
   "source": [
    "yeniDataFrame"
   ]
  },
  {
   "cell_type": "markdown",
   "id": "1902edf2",
   "metadata": {},
   "source": [
    "## İndex değiştirme- yeniDataframe.set_index[\"Yeni index\"] = yeniİndexListesi"
   ]
  },
  {
   "cell_type": "code",
   "execution_count": 10,
   "id": "da887905",
   "metadata": {},
   "outputs": [],
   "source": [
    "yeniIndexlistesi = [\"Ah\", \"Me\",\"Ce\",\"Gü\"]"
   ]
  },
  {
   "cell_type": "code",
   "execution_count": 11,
   "id": "fc99e40b",
   "metadata": {},
   "outputs": [],
   "source": [
    "yeniDataFrame[\"Yeni İndex Listesi\"] = yeniIndexlistesi"
   ]
  },
  {
   "cell_type": "code",
   "execution_count": 12,
   "id": "921494e8",
   "metadata": {},
   "outputs": [
    {
     "data": {
      "text/html": [
       "<div>\n",
       "<style scoped>\n",
       "    .dataframe tbody tr th:only-of-type {\n",
       "        vertical-align: middle;\n",
       "    }\n",
       "\n",
       "    .dataframe tbody tr th {\n",
       "        vertical-align: top;\n",
       "    }\n",
       "\n",
       "    .dataframe thead th {\n",
       "        text-align: right;\n",
       "    }\n",
       "</style>\n",
       "<table border=\"1\" class=\"dataframe\">\n",
       "  <thead>\n",
       "    <tr style=\"text-align: right;\">\n",
       "      <th></th>\n",
       "      <th>Ev</th>\n",
       "      <th>Araba</th>\n",
       "      <th>Yat</th>\n",
       "      <th>Arazi</th>\n",
       "      <th>Yeni İndex Listesi</th>\n",
       "    </tr>\n",
       "  </thead>\n",
       "  <tbody>\n",
       "    <tr>\n",
       "      <th>Ahmet</th>\n",
       "      <td>1.576348</td>\n",
       "      <td>0.421294</td>\n",
       "      <td>0.055383</td>\n",
       "      <td>-1.692297</td>\n",
       "      <td>Ah</td>\n",
       "    </tr>\n",
       "    <tr>\n",
       "      <th>Mehmet</th>\n",
       "      <td>1.597734</td>\n",
       "      <td>-1.250037</td>\n",
       "      <td>-0.239470</td>\n",
       "      <td>-0.578602</td>\n",
       "      <td>Me</td>\n",
       "    </tr>\n",
       "    <tr>\n",
       "      <th>Cenk</th>\n",
       "      <td>-0.358974</td>\n",
       "      <td>1.399764</td>\n",
       "      <td>-0.729790</td>\n",
       "      <td>-0.851420</td>\n",
       "      <td>Ce</td>\n",
       "    </tr>\n",
       "    <tr>\n",
       "      <th>Güven</th>\n",
       "      <td>1.469505</td>\n",
       "      <td>0.859961</td>\n",
       "      <td>-0.148121</td>\n",
       "      <td>0.397909</td>\n",
       "      <td>Gü</td>\n",
       "    </tr>\n",
       "  </tbody>\n",
       "</table>\n",
       "</div>"
      ],
      "text/plain": [
       "              Ev     Araba       Yat     Arazi Yeni İndex Listesi\n",
       "Ahmet   1.576348  0.421294  0.055383 -1.692297                 Ah\n",
       "Mehmet  1.597734 -1.250037 -0.239470 -0.578602                 Me\n",
       "Cenk   -0.358974  1.399764 -0.729790 -0.851420                 Ce\n",
       "Güven   1.469505  0.859961 -0.148121  0.397909                 Gü"
      ]
     },
     "execution_count": 12,
     "metadata": {},
     "output_type": "execute_result"
    }
   ],
   "source": [
    "yeniDataFrame"
   ]
  },
  {
   "cell_type": "code",
   "execution_count": 13,
   "id": "4a6836d7",
   "metadata": {},
   "outputs": [
    {
     "data": {
      "text/html": [
       "<div>\n",
       "<style scoped>\n",
       "    .dataframe tbody tr th:only-of-type {\n",
       "        vertical-align: middle;\n",
       "    }\n",
       "\n",
       "    .dataframe tbody tr th {\n",
       "        vertical-align: top;\n",
       "    }\n",
       "\n",
       "    .dataframe thead th {\n",
       "        text-align: right;\n",
       "    }\n",
       "</style>\n",
       "<table border=\"1\" class=\"dataframe\">\n",
       "  <thead>\n",
       "    <tr style=\"text-align: right;\">\n",
       "      <th></th>\n",
       "      <th>Ev</th>\n",
       "      <th>Araba</th>\n",
       "      <th>Yat</th>\n",
       "      <th>Arazi</th>\n",
       "    </tr>\n",
       "    <tr>\n",
       "      <th>Yeni İndex Listesi</th>\n",
       "      <th></th>\n",
       "      <th></th>\n",
       "      <th></th>\n",
       "      <th></th>\n",
       "    </tr>\n",
       "  </thead>\n",
       "  <tbody>\n",
       "    <tr>\n",
       "      <th>Ah</th>\n",
       "      <td>1.576348</td>\n",
       "      <td>0.421294</td>\n",
       "      <td>0.055383</td>\n",
       "      <td>-1.692297</td>\n",
       "    </tr>\n",
       "    <tr>\n",
       "      <th>Me</th>\n",
       "      <td>1.597734</td>\n",
       "      <td>-1.250037</td>\n",
       "      <td>-0.239470</td>\n",
       "      <td>-0.578602</td>\n",
       "    </tr>\n",
       "    <tr>\n",
       "      <th>Ce</th>\n",
       "      <td>-0.358974</td>\n",
       "      <td>1.399764</td>\n",
       "      <td>-0.729790</td>\n",
       "      <td>-0.851420</td>\n",
       "    </tr>\n",
       "    <tr>\n",
       "      <th>Gü</th>\n",
       "      <td>1.469505</td>\n",
       "      <td>0.859961</td>\n",
       "      <td>-0.148121</td>\n",
       "      <td>0.397909</td>\n",
       "    </tr>\n",
       "  </tbody>\n",
       "</table>\n",
       "</div>"
      ],
      "text/plain": [
       "                          Ev     Araba       Yat     Arazi\n",
       "Yeni İndex Listesi                                        \n",
       "Ah                  1.576348  0.421294  0.055383 -1.692297\n",
       "Me                  1.597734 -1.250037 -0.239470 -0.578602\n",
       "Ce                 -0.358974  1.399764 -0.729790 -0.851420\n",
       "Gü                  1.469505  0.859961 -0.148121  0.397909"
      ]
     },
     "execution_count": 13,
     "metadata": {},
     "output_type": "execute_result"
    }
   ],
   "source": [
    "yeniDataFrame.set_index(\"Yeni İndex Listesi\")"
   ]
  },
  {
   "cell_type": "code",
   "execution_count": 14,
   "id": "0fd886f6",
   "metadata": {},
   "outputs": [],
   "source": [
    "## ANCAK BURADA ESKİ HALİNE GERİ DÖNECEKTİR, inplace= False!!!!!!!!!!!!!!!!"
   ]
  },
  {
   "cell_type": "markdown",
   "id": "794d608a",
   "metadata": {},
   "source": [
    "## yenidataFrame.set_index(\"Yeniindex\",inplace= True) kalıcı olarak değiştirir"
   ]
  },
  {
   "cell_type": "code",
   "execution_count": 16,
   "id": "f77e2db6",
   "metadata": {},
   "outputs": [
    {
     "data": {
      "text/html": [
       "<div>\n",
       "<style scoped>\n",
       "    .dataframe tbody tr th:only-of-type {\n",
       "        vertical-align: middle;\n",
       "    }\n",
       "\n",
       "    .dataframe tbody tr th {\n",
       "        vertical-align: top;\n",
       "    }\n",
       "\n",
       "    .dataframe thead th {\n",
       "        text-align: right;\n",
       "    }\n",
       "</style>\n",
       "<table border=\"1\" class=\"dataframe\">\n",
       "  <thead>\n",
       "    <tr style=\"text-align: right;\">\n",
       "      <th></th>\n",
       "      <th>Ev</th>\n",
       "      <th>Araba</th>\n",
       "      <th>Yat</th>\n",
       "      <th>Arazi</th>\n",
       "      <th>Yeni İndex Listesi</th>\n",
       "    </tr>\n",
       "  </thead>\n",
       "  <tbody>\n",
       "    <tr>\n",
       "      <th>Ahmet</th>\n",
       "      <td>1.576348</td>\n",
       "      <td>0.421294</td>\n",
       "      <td>0.055383</td>\n",
       "      <td>-1.692297</td>\n",
       "      <td>Ah</td>\n",
       "    </tr>\n",
       "    <tr>\n",
       "      <th>Mehmet</th>\n",
       "      <td>1.597734</td>\n",
       "      <td>-1.250037</td>\n",
       "      <td>-0.239470</td>\n",
       "      <td>-0.578602</td>\n",
       "      <td>Me</td>\n",
       "    </tr>\n",
       "    <tr>\n",
       "      <th>Cenk</th>\n",
       "      <td>-0.358974</td>\n",
       "      <td>1.399764</td>\n",
       "      <td>-0.729790</td>\n",
       "      <td>-0.851420</td>\n",
       "      <td>Ce</td>\n",
       "    </tr>\n",
       "    <tr>\n",
       "      <th>Güven</th>\n",
       "      <td>1.469505</td>\n",
       "      <td>0.859961</td>\n",
       "      <td>-0.148121</td>\n",
       "      <td>0.397909</td>\n",
       "      <td>Gü</td>\n",
       "    </tr>\n",
       "  </tbody>\n",
       "</table>\n",
       "</div>"
      ],
      "text/plain": [
       "              Ev     Araba       Yat     Arazi Yeni İndex Listesi\n",
       "Ahmet   1.576348  0.421294  0.055383 -1.692297                 Ah\n",
       "Mehmet  1.597734 -1.250037 -0.239470 -0.578602                 Me\n",
       "Cenk   -0.358974  1.399764 -0.729790 -0.851420                 Ce\n",
       "Güven   1.469505  0.859961 -0.148121  0.397909                 Gü"
      ]
     },
     "execution_count": 16,
     "metadata": {},
     "output_type": "execute_result"
    }
   ],
   "source": [
    "yeniDataFrame"
   ]
  },
  {
   "cell_type": "code",
   "execution_count": 17,
   "id": "364786f0",
   "metadata": {},
   "outputs": [],
   "source": [
    "yeniDataFrame.set_index(\"Yeni İndex Listesi\", inplace=True)"
   ]
  },
  {
   "cell_type": "code",
   "execution_count": 18,
   "id": "9a46a78e",
   "metadata": {},
   "outputs": [
    {
     "data": {
      "text/html": [
       "<div>\n",
       "<style scoped>\n",
       "    .dataframe tbody tr th:only-of-type {\n",
       "        vertical-align: middle;\n",
       "    }\n",
       "\n",
       "    .dataframe tbody tr th {\n",
       "        vertical-align: top;\n",
       "    }\n",
       "\n",
       "    .dataframe thead th {\n",
       "        text-align: right;\n",
       "    }\n",
       "</style>\n",
       "<table border=\"1\" class=\"dataframe\">\n",
       "  <thead>\n",
       "    <tr style=\"text-align: right;\">\n",
       "      <th></th>\n",
       "      <th>Ev</th>\n",
       "      <th>Araba</th>\n",
       "      <th>Yat</th>\n",
       "      <th>Arazi</th>\n",
       "    </tr>\n",
       "    <tr>\n",
       "      <th>Yeni İndex Listesi</th>\n",
       "      <th></th>\n",
       "      <th></th>\n",
       "      <th></th>\n",
       "      <th></th>\n",
       "    </tr>\n",
       "  </thead>\n",
       "  <tbody>\n",
       "    <tr>\n",
       "      <th>Ah</th>\n",
       "      <td>1.576348</td>\n",
       "      <td>0.421294</td>\n",
       "      <td>0.055383</td>\n",
       "      <td>-1.692297</td>\n",
       "    </tr>\n",
       "    <tr>\n",
       "      <th>Me</th>\n",
       "      <td>1.597734</td>\n",
       "      <td>-1.250037</td>\n",
       "      <td>-0.239470</td>\n",
       "      <td>-0.578602</td>\n",
       "    </tr>\n",
       "    <tr>\n",
       "      <th>Ce</th>\n",
       "      <td>-0.358974</td>\n",
       "      <td>1.399764</td>\n",
       "      <td>-0.729790</td>\n",
       "      <td>-0.851420</td>\n",
       "    </tr>\n",
       "    <tr>\n",
       "      <th>Gü</th>\n",
       "      <td>1.469505</td>\n",
       "      <td>0.859961</td>\n",
       "      <td>-0.148121</td>\n",
       "      <td>0.397909</td>\n",
       "    </tr>\n",
       "  </tbody>\n",
       "</table>\n",
       "</div>"
      ],
      "text/plain": [
       "                          Ev     Araba       Yat     Arazi\n",
       "Yeni İndex Listesi                                        \n",
       "Ah                  1.576348  0.421294  0.055383 -1.692297\n",
       "Me                  1.597734 -1.250037 -0.239470 -0.578602\n",
       "Ce                 -0.358974  1.399764 -0.729790 -0.851420\n",
       "Gü                  1.469505  0.859961 -0.148121  0.397909"
      ]
     },
     "execution_count": 18,
     "metadata": {},
     "output_type": "execute_result"
    }
   ],
   "source": [
    "yeniDataFrame"
   ]
  },
  {
   "cell_type": "code",
   "execution_count": 19,
   "id": "b5dce603",
   "metadata": {},
   "outputs": [
    {
     "data": {
      "text/html": [
       "<div>\n",
       "<style scoped>\n",
       "    .dataframe tbody tr th:only-of-type {\n",
       "        vertical-align: middle;\n",
       "    }\n",
       "\n",
       "    .dataframe tbody tr th {\n",
       "        vertical-align: top;\n",
       "    }\n",
       "\n",
       "    .dataframe thead th {\n",
       "        text-align: right;\n",
       "    }\n",
       "</style>\n",
       "<table border=\"1\" class=\"dataframe\">\n",
       "  <thead>\n",
       "    <tr style=\"text-align: right;\">\n",
       "      <th></th>\n",
       "      <th>Ev</th>\n",
       "      <th>Araba</th>\n",
       "      <th>Yat</th>\n",
       "      <th>Arazi</th>\n",
       "    </tr>\n",
       "    <tr>\n",
       "      <th>Yeni İndex Listesi</th>\n",
       "      <th></th>\n",
       "      <th></th>\n",
       "      <th></th>\n",
       "      <th></th>\n",
       "    </tr>\n",
       "  </thead>\n",
       "  <tbody>\n",
       "    <tr>\n",
       "      <th>Ah</th>\n",
       "      <td>1.576348</td>\n",
       "      <td>0.421294</td>\n",
       "      <td>0.055383</td>\n",
       "      <td>-1.692297</td>\n",
       "    </tr>\n",
       "    <tr>\n",
       "      <th>Me</th>\n",
       "      <td>1.597734</td>\n",
       "      <td>-1.250037</td>\n",
       "      <td>-0.239470</td>\n",
       "      <td>-0.578602</td>\n",
       "    </tr>\n",
       "    <tr>\n",
       "      <th>Ce</th>\n",
       "      <td>-0.358974</td>\n",
       "      <td>1.399764</td>\n",
       "      <td>-0.729790</td>\n",
       "      <td>-0.851420</td>\n",
       "    </tr>\n",
       "    <tr>\n",
       "      <th>Gü</th>\n",
       "      <td>1.469505</td>\n",
       "      <td>0.859961</td>\n",
       "      <td>-0.148121</td>\n",
       "      <td>0.397909</td>\n",
       "    </tr>\n",
       "  </tbody>\n",
       "</table>\n",
       "</div>"
      ],
      "text/plain": [
       "                          Ev     Araba       Yat     Arazi\n",
       "Yeni İndex Listesi                                        \n",
       "Ah                  1.576348  0.421294  0.055383 -1.692297\n",
       "Me                  1.597734 -1.250037 -0.239470 -0.578602\n",
       "Ce                 -0.358974  1.399764 -0.729790 -0.851420\n",
       "Gü                  1.469505  0.859961 -0.148121  0.397909"
      ]
     },
     "execution_count": 19,
     "metadata": {},
     "output_type": "execute_result"
    }
   ],
   "source": [
    "yeniDataFrame"
   ]
  },
  {
   "cell_type": "code",
   "execution_count": 21,
   "id": "979e979e",
   "metadata": {},
   "outputs": [
    {
     "data": {
      "text/plain": [
       "Ev       1.576348\n",
       "Araba    0.421294\n",
       "Yat      0.055383\n",
       "Arazi   -1.692297\n",
       "Name: Ah, dtype: float64"
      ]
     },
     "execution_count": 21,
     "metadata": {},
     "output_type": "execute_result"
    }
   ],
   "source": [
    "yeniDataFrame.loc[\"Ah\"] # yeni indeksleme çalışıyor"
   ]
  },
  {
   "cell_type": "code",
   "execution_count": null,
   "id": "52973696",
   "metadata": {},
   "outputs": [],
   "source": []
  }
 ],
 "metadata": {
  "kernelspec": {
   "display_name": "Python 3",
   "language": "python",
   "name": "python3"
  },
  "language_info": {
   "codemirror_mode": {
    "name": "ipython",
    "version": 3
   },
   "file_extension": ".py",
   "mimetype": "text/x-python",
   "name": "python",
   "nbconvert_exporter": "python",
   "pygments_lexer": "ipython3",
   "version": "3.8.8"
  }
 },
 "nbformat": 4,
 "nbformat_minor": 5
}
